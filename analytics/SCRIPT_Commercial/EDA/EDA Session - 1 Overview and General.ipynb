{
 "cells": [
  {
   "cell_type": "code",
   "execution_count": 1,
   "metadata": {},
   "outputs": [],
   "source": [
    "import numpy as np\n",
    "import pandas as pd\n",
    "# from plotnine import *\n",
    "import matplotlib.pyplot as plt\n",
    "from datetime import datetime\n",
    "import seaborn as sns\n"
   ]
  },
  {
   "cell_type": "markdown",
   "metadata": {},
   "source": [
    "# Exploratory Data Analysis\n",
    "Session Data (Non-Fleet)\n",
    "\n",
    "## 1 Overview and General\n"
   ]
  },
  {
   "cell_type": "code",
   "execution_count": 2,
   "metadata": {},
   "outputs": [],
   "source": [
    "# do verbose sanity checks, and do not save in the end\n",
    "test = False\n",
    "# working on EC2 instance\n",
    "cloud = True"
   ]
  },
  {
   "cell_type": "code",
   "execution_count": 3,
   "metadata": {},
   "outputs": [],
   "source": [
    "if cloud:\n",
    "    path = \"../../data/\"\n",
    "    file = \"sessions_clean.csv\"\n",
    "else:\n",
    "    path = \"/home/ourownstory/github/data/SLAC\"\n",
    "    file = \"Charging_Session_SLAC.csv\"\n",
    "    \n",
    "if test:\n",
    "    nrows = 1e6\n",
    "else:\n",
    "    nrows = None\n",
    "    \n",
    "def get_csv():\n",
    "    print(\"Reading {} rows of dataframe\".format(nrows if nrows is not None else \"ALL\"))\n",
    "    return pd.read_csv(path + file, index_col=False, nrows=nrows)#, low_memory=False)"
   ]
  },
  {
   "cell_type": "code",
   "execution_count": 5,
   "metadata": {},
   "outputs": [
    {
     "name": "stdout",
     "output_type": "stream",
     "text": [
      "3583201264\n"
     ]
    }
   ],
   "source": [
    "df_raw = get_csv()\n",
    "df = df_raw.copy(deep=True)\n",
    "\n",
    "print(df.index.nbytes + df.columns.nbytes + df.values.nbytes)"
   ]
  },
  {
   "cell_type": "code",
   "execution_count": 8,
   "metadata": {},
   "outputs": [
    {
     "name": "stdout",
     "output_type": "stream",
     "text": [
      "Session ID 11786845\n",
      "Station ID 8643\n",
      "Port ID 15732\n",
      "Connector Type 5\n",
      "['J1772' 'Combo' 'CHAdeMO' 'NEMA 5-20R' nan]\n",
      "POI Category 13\n",
      "['Parking' 'Workplace' 'Retail' 'Municipal' 'Fleet' 'Education'\n",
      " 'Hospitality' 'Government (Fed, State)' 'Parks and Recreation'\n",
      " 'Healthcare' 'Multifamily Commercial' 'Multifamily Home Service'\n",
      " 'Utility']\n",
      "POI Subcategory 37\n",
      "Session Time Zone 2\n",
      "['PDT' 'PST']\n",
      "Session Time (secs) 133408\n",
      "Charging Time (secs) 50398\n",
      "Start SoC 102\n",
      "End SoC 102\n",
      "Full Charge 2\n",
      "[False  True]\n",
      "Energy (kWh) 8635264\n",
      "Driver ID 119592\n",
      "Driver Zip 3532\n",
      "Vehicle Make 32\n",
      "Vehicle Model 82\n",
      "Battery Capacity 68\n",
      "EV Type 3\n",
      "['PLUGIN' nan 'HYBRID']\n",
      "$ Fee 5443\n",
      "Fee Currency 2\n",
      "['USD' nan]\n",
      "Zip Code 230\n",
      "City 121\n",
      "County 9\n",
      "['Santa Clara County' 'San Mateo County' 'Alameda County'\n",
      " 'San Francisco County' 'Contra Costa County' 'Napa County' 'Marin County'\n",
      " 'Solano County' 'Sonoma County']\n",
      "State 1\n",
      "['California']\n",
      "Country 1\n",
      "['United States']\n",
      "Driver City 2055\n",
      "Driver State 55\n",
      "Driver Country 2\n",
      "['United States' nan]\n",
      "Max Power 7\n",
      "[ 6.6  50.   24.    1.92   nan 40.    7.2 ]\n",
      "Session Type 1\n",
      "['OTHER']\n",
      "Vehicle Model Year 13\n",
      "[2015. 2017. 2013. 2016.   nan 2014. 2012. 2011. 2018. 2010. 2008. 2019.\n",
      " 2009.]\n",
      "start_datetime 10044814\n",
      "start_seconds 84636\n",
      "start_year 4\n",
      "[2017 2016 2015 2018]\n",
      "start_month 12\n",
      "[ 9  8  7  6  5  4  3  2  1 12 11 10]\n",
      "start_day 366\n",
      "start_weekday 7\n",
      "[3 2 1 0 4 5 6]\n"
     ]
    }
   ],
   "source": [
    "for column in list(df):\n",
    "    unique = df[column].unique()\n",
    "    print(column, len(unique))\n",
    "    if len(unique) < 25:\n",
    "        print(unique)\n",
    "    \n",
    "# column = \"Station ID\"\n",
    "# print(sessions[column].value_counts())\n",
    "# print(len(sessions[column].unique()))"
   ]
  },
  {
   "cell_type": "code",
   "execution_count": 9,
   "metadata": {},
   "outputs": [
    {
     "name": "stdout",
     "output_type": "stream",
     "text": [
      "8643\n"
     ]
    }
   ],
   "source": [
    "column = \"Station ID\"\n",
    "# print(sessions[column].value_counts())\n",
    "print(len(df[column].unique()))"
   ]
  },
  {
   "cell_type": "code",
   "execution_count": 10,
   "metadata": {},
   "outputs": [
    {
     "name": "stdout",
     "output_type": "stream",
     "text": [
      "J1772         11528751\n",
      "CHAdeMO         112752\n",
      "Combo           112646\n",
      "NEMA 5-20R       32648\n",
      "NaN                 48\n",
      "Name: Connector Type, dtype: int64\n"
     ]
    }
   ],
   "source": [
    "column = \"Connector Type\"\n",
    "print(df[column].value_counts(dropna=False))\n",
    "# print(len(sessions[column].unique()))"
   ]
  },
  {
   "cell_type": "code",
   "execution_count": 21,
   "metadata": {},
   "outputs": [
    {
     "name": "stdout",
     "output_type": "stream",
     "text": [
      "Workplace                   0.757001\n",
      "Municipal                   0.089466\n",
      "Retail                      0.041273\n",
      "Parking                     0.027665\n",
      "Education                   0.024938\n",
      "Multifamily Commercial      0.017819\n",
      "Healthcare                  0.013942\n",
      "Fleet                       0.010371\n",
      "Hospitality                 0.006490\n",
      "Government (Fed, State)     0.004903\n",
      "Parks and Recreation        0.004683\n",
      "Multifamily Home Service    0.001292\n",
      "Utility                     0.000159\n",
      "Name: POI Category, dtype: float64\n"
     ]
    }
   ],
   "source": [
    "column = \"POI Category\"\n",
    "print(df[column].value_counts(dropna=False) / len(df))\n",
    "# print(len(sessions[column].unique()))"
   ]
  },
  {
   "cell_type": "code",
   "execution_count": 25,
   "metadata": {},
   "outputs": [
    {
     "data": {
      "image/png": "[encoded data removed]",
      "text/plain": [
       "<Figure size 432x288 with 1 Axes>"
      ]
     },
     "metadata": {
      "needs_background": "light"
     },
     "output_type": "display_data"
    }
   ],
   "source": [
    "col =  \"POI Category\"\n",
    "df_plot = df.copy(deep=True)\n",
    "\n",
    "ax = sns.countplot(x=col, data=df_plot)\n",
    "ax = plt.setp(ax.get_xticklabels(), rotation=90)\n",
    "plt.savefig(\"plots/POI_categories.png\")"
   ]
  },
  {
   "cell_type": "code",
   "execution_count": 14,
   "metadata": {},
   "outputs": [],
   "source": [
    "col1 = \"POI Category\"\n",
    "col2 =  \"POI Subcategory\"\n",
    "df_plot = df.copy(deep=True)\n",
    "df_plot = df_plot.groupby([col1, col2])\n",
    "\n",
    "# print(df_plot.size())"
   ]
  },
  {
   "cell_type": "code",
   "execution_count": 15,
   "metadata": {},
   "outputs": [
    {
     "data": {
      "image/png": "[encoded data removed]",
      "text/plain": [
       "<Figure size 432x288 with 1 Axes>"
      ]
     },
     "metadata": {
      "needs_background": "light"
     },
     "output_type": "display_data"
    }
   ],
   "source": [
    "# Workplace Subcategories\n",
    "\n",
    "col =  \"POI Subcategory\"\n",
    "df_plot = df.copy(deep=True)\n",
    "df_plot = df_plot[df_plot[\"POI Category\"] == \"Workplace\"]\n",
    "\n",
    "ax = sns.countplot(x=col, data=df_plot) #, hue=\"POI Category\"\n",
    "ax = plt.setp(ax.get_xticklabels(), rotation=90)"
   ]
  },
  {
   "cell_type": "code",
   "execution_count": 16,
   "metadata": {},
   "outputs": [
    {
     "data": {
      "image/png": "[encoded data removed]",
      "text/plain": [
       "<Figure size 432x288 with 1 Axes>"
      ]
     },
     "metadata": {
      "needs_background": "light"
     },
     "output_type": "display_data"
    }
   ],
   "source": [
    "# Municipal Subcategories\n",
    "\n",
    "col =  \"POI Subcategory\"\n",
    "df_plot = df.copy(deep=True)\n",
    "df_plot = df_plot[df_plot[\"POI Category\"] == \"Municipal\"]\n",
    "\n",
    "ax = sns.countplot(x=col, data=df_plot) #, hue=\"POI Category\"\n",
    "ax = plt.setp(ax.get_xticklabels(), rotation=90)"
   ]
  },
  {
   "cell_type": "code",
   "execution_count": 24,
   "metadata": {},
   "outputs": [
    {
     "data": {
      "image/png": "[encoded data removed]",
      "text/plain": [
       "<Figure size 432x288 with 1 Axes>"
      ]
     },
     "metadata": {
      "needs_background": "light"
     },
     "output_type": "display_data"
    }
   ],
   "source": [
    "# NOT Workplace, NOT Municipal Subcategories\n",
    "\n",
    "col =  \"POI Subcategory\"\n",
    "df_plot = df.copy(deep=True)\n",
    "df_plot = df_plot[df_plot[\"POI Category\"] != \"Workplace\"]\n",
    "df_plot = df_plot[df_plot[\"POI Category\"] != \"Municipal\"]\n",
    "\n",
    "ax = sns.countplot(x=col, data=df_plot)\n",
    "# ax = sns.countplot(x=col, data=df, hue=\"POI Category\")\n",
    "ax = plt.setp(ax.get_xticklabels(), rotation=90)\n",
    "plt.savefig(\"plots/POI_subcategories_non_work_muni.png\")"
   ]
  },
  {
   "cell_type": "code",
   "execution_count": null,
   "metadata": {},
   "outputs": [],
   "source": []
  },
  {
   "cell_type": "code",
   "execution_count": 15,
   "metadata": {},
   "outputs": [],
   "source": [
    "# removed all other coutries and states\n",
    "\n",
    "# col = \"Country\"\n",
    "# print(sessions[col].value_counts(dropna=False))"
   ]
  },
  {
   "cell_type": "code",
   "execution_count": 18,
   "metadata": {},
   "outputs": [
    {
     "name": "stdout",
     "output_type": "stream",
     "text": [
      "    Session ID  Station ID   Port ID Connector Type POI Category  \\\n",
      "0     99999951      155805  208243.0          J1772      Parking   \n",
      "1     99999911      127071  166451.0          J1772    Workplace   \n",
      "2     99999881      143745  191547.0          J1772    Workplace   \n",
      "3     99999861       78433  195605.0          J1772    Workplace   \n",
      "4     99999851       93629  105187.0          J1772    Workplace   \n",
      "5     99999761      187543  253063.0          J1772    Workplace   \n",
      "6     99999741      145785  194419.0          J1772    Workplace   \n",
      "7     99999691      205681  277751.0          J1772    Workplace   \n",
      "8     99999631      132311  174233.0          J1772    Workplace   \n",
      "9     99999581       88527  137541.0          J1772    Workplace   \n",
      "10    99999441       92301  102813.0          J1772    Workplace   \n",
      "11    99999401       90773  100103.0          J1772    Workplace   \n",
      "12    99999371      100029  116391.0          J1772    Workplace   \n",
      "13    99999191       98019  112783.0          J1772    Workplace   \n",
      "14    99999181       97133  111321.0          J1772    Workplace   \n",
      "15    99999161      121085  854111.0          J1772       Retail   \n",
      "16    99999151       98895  114219.0          J1772    Workplace   \n",
      "17    99999081       53673   83059.0          J1772    Municipal   \n",
      "18    99999071       10823   17033.0          J1772       Retail   \n",
      "19    99998951       88385   99371.0          J1772    Workplace   \n",
      "\n",
      "      POI Subcategory Session Time Zone  Session Time (secs)  \\\n",
      "0          Commercial               PDT                 4143   \n",
      "1           High-Tech               PDT                14104   \n",
      "2             General               PDT                 4364   \n",
      "3             General               PDT                 9818   \n",
      "4             General               PDT                 7165   \n",
      "5             General               PDT                 9816   \n",
      "6             General               PDT                11520   \n",
      "7             General               PDT                 6626   \n",
      "8           High-Tech               PDT                 9761   \n",
      "9             General               PDT                10924   \n",
      "10            General               PDT                 5079   \n",
      "11            General               PDT                 7859   \n",
      "12          High-Tech               PDT                15830   \n",
      "13            General               PDT                10021   \n",
      "14            General               PDT                10914   \n",
      "15         Strip Mall               PDT                 6515   \n",
      "16            General               PDT                 6620   \n",
      "17  Municipal Parking               PDT                 7485   \n",
      "18    Shopping Center               PDT                 3504   \n",
      "19            General               PDT                19995   \n",
      "\n",
      "    Charging Time (secs)  Start SoC  ...  Driver Country  Max Power  \\\n",
      "0                   4130        NaN  ...   United States        6.6   \n",
      "1                  10440        NaN  ...   United States        6.6   \n",
      "2                   1328        NaN  ...   United States        6.6   \n",
      "3                   9811        NaN  ...   United States        6.6   \n",
      "4                   6849        NaN  ...   United States        6.6   \n",
      "5                   9805        NaN  ...   United States        6.6   \n",
      "6                   2021        NaN  ...   United States        6.6   \n",
      "7                   6200        NaN  ...   United States        6.6   \n",
      "8                   6903        NaN  ...   United States        6.6   \n",
      "9                  10638        NaN  ...   United States        6.6   \n",
      "10                  5062        NaN  ...   United States        6.6   \n",
      "11                  6449        NaN  ...   United States        6.6   \n",
      "12                  6471        NaN  ...   United States        6.6   \n",
      "13                  7629        NaN  ...   United States        6.6   \n",
      "14                 10032        NaN  ...   United States        6.6   \n",
      "15                  6500        NaN  ...   United States        6.6   \n",
      "16                  6346        NaN  ...   United States        6.6   \n",
      "17                  7475        NaN  ...   United States        6.6   \n",
      "18                  3490        NaN  ...   United States        6.6   \n",
      "19                 11655        NaN  ...   United States        6.6   \n",
      "\n",
      "    Session Type  Vehicle Model Year       start_datetime start_seconds  \\\n",
      "0          OTHER              2015.0  2017-09-21 13:50:12         49812   \n",
      "1          OTHER              2017.0  2017-09-21 13:15:01         47701   \n",
      "2          OTHER              2013.0  2017-09-21 13:50:13         49813   \n",
      "3          OTHER              2015.0  2017-09-21 13:50:11         49811   \n",
      "4          OTHER              2015.0  2017-09-21 13:50:14         49814   \n",
      "5          OTHER              2016.0  2017-09-21 13:49:57         49797   \n",
      "6          OTHER              2015.0  2017-09-21 13:49:56         49796   \n",
      "7          OTHER              2015.0  2017-09-21 13:49:55         49795   \n",
      "8          OTHER              2015.0  2017-09-21 13:49:31         49771   \n",
      "9          OTHER              2015.0  2017-09-21 13:49:32         49772   \n",
      "10         OTHER              2016.0  2017-09-21 13:49:31         49771   \n",
      "11         OTHER              2013.0  2017-09-21 13:49:11         49751   \n",
      "12         OTHER              2015.0  2017-09-21 13:49:26         49766   \n",
      "13         OTHER              2017.0  2017-09-21 13:49:01         49741   \n",
      "14         OTHER              2015.0  2017-09-21 13:49:05         49745   \n",
      "15         OTHER                 NaN  2017-09-21 13:49:01         49741   \n",
      "16         OTHER              2017.0  2017-09-21 13:48:34         49714   \n",
      "17         OTHER                 NaN  2017-09-21 13:48:59         49739   \n",
      "18         OTHER                 NaN  2017-09-21 13:48:50         49730   \n",
      "19         OTHER              2015.0  2017-09-21 13:48:36         49716   \n",
      "\n",
      "   start_year  start_month start_day  start_weekday  \n",
      "0        2017            9       264              3  \n",
      "1        2017            9       264              3  \n",
      "2        2017            9       264              3  \n",
      "3        2017            9       264              3  \n",
      "4        2017            9       264              3  \n",
      "5        2017            9       264              3  \n",
      "6        2017            9       264              3  \n",
      "7        2017            9       264              3  \n",
      "8        2017            9       264              3  \n",
      "9        2017            9       264              3  \n",
      "10       2017            9       264              3  \n",
      "11       2017            9       264              3  \n",
      "12       2017            9       264              3  \n",
      "13       2017            9       264              3  \n",
      "14       2017            9       264              3  \n",
      "15       2017            9       264              3  \n",
      "16       2017            9       264              3  \n",
      "17       2017            9       264              3  \n",
      "18       2017            9       264              3  \n",
      "19       2017            9       264              3  \n",
      "\n",
      "[20 rows x 38 columns]\n"
     ]
    }
   ],
   "source": [
    "col = \"Max Power\"\n",
    "df_plot = df[col].value_counts(dropna=False)\n",
    "print(df.head(20))"
   ]
  },
  {
   "cell_type": "code",
   "execution_count": 19,
   "metadata": {},
   "outputs": [
    {
     "name": "stdout",
     "output_type": "stream",
     "text": [
      "USD    11786766\n",
      "NaN          79\n",
      "Name: Fee Currency, dtype: int64\n"
     ]
    }
   ],
   "source": [
    "col = \"Fee Currency\"\n",
    "df_plot = df[col].value_counts(dropna=False)\n",
    "print(df_plot)"
   ]
  },
  {
   "cell_type": "code",
   "execution_count": 12,
   "metadata": {},
   "outputs": [
    {
     "data": {
      "image/png": "[encoded data removed]",
      "text/plain": [
       "<Figure size 432x288 with 1 Axes>"
      ]
     },
     "metadata": {
      "needs_background": "light"
     },
     "output_type": "display_data"
    }
   ],
   "source": [
    "# need to convert or remove other currencies\n",
    "# done\n",
    "\n",
    "# col1 = \"Fee Currency\"\n",
    "# col2 = \"$ Fee\"\n",
    "# df_plot = df.copy(deep=True)\n",
    "\n",
    "# ax = sns.boxplot(x=col1, y=col2, data=df_plot)\n",
    "# ax = plt.setp(ax.get_xticklabels(), rotation=90)"
   ]
  },
  {
   "cell_type": "code",
   "execution_count": 20,
   "metadata": {},
   "outputs": [
    {
     "name": "stderr",
     "output_type": "stream",
     "text": [
      "/home/ec2-user/anaconda3/envs/eda/lib/python3.7/site-packages/numpy/lib/function_base.py:3652: RuntimeWarning: Invalid value encountered in percentile\n",
      "  interpolation=interpolation)\n"
     ]
    },
    {
     "data": {
      "image/png": "[encoded data removed]",
      "text/plain": [
       "<Figure size 432x288 with 1 Axes>"
      ]
     },
     "metadata": {
      "needs_background": "light"
     },
     "output_type": "display_data"
    }
   ],
   "source": [
    "col = \"$ Fee\"\n",
    "df_plot = df.copy(deep=True)\n",
    "\n",
    "# print(np.percentile(df[col], 99))\n",
    "df_plot = df_plot[df_plot[col] < np.percentile(df[col], 99)]\n",
    "\n",
    "plot = plt.hist(df_plot[col], bins=50)"
   ]
  },
  {
   "cell_type": "code",
   "execution_count": null,
   "metadata": {},
   "outputs": [],
   "source": []
  }
 ],
 "metadata": {
  "kernelspec": {
   "display_name": "edapy3",
   "language": "python",
   "name": "edapy3"
  },
  "language_info": {
   "codemirror_mode": {
    "name": "ipython",
    "version": 3
   },
   "file_extension": ".py",
   "mimetype": "text/x-python",
   "name": "python",
   "nbconvert_exporter": "python",
   "pygments_lexer": "ipython3",
   "version": "3.7.2"
  }
 },
 "nbformat": 4,
 "nbformat_minor": 2
}
