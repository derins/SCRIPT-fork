{
 "cells": [
  {
   "cell_type": "code",
   "execution_count": 2,
   "metadata": {},
   "outputs": [],
   "source": [
    "import pandas as pd\n",
    "from datetime import datetime\n",
    "import matplotlib.pyplot as plt\n",
    "import numpy as np"
   ]
  },
  {
   "cell_type": "code",
   "execution_count": 3,
   "metadata": {},
   "outputs": [],
   "source": [
    "path = \"../CP_analysis/\""
   ]
  },
  {
   "cell_type": "code",
   "execution_count": 4,
   "metadata": {},
   "outputs": [
    {
     "data": {
      "text/html": [
       "<div>\n",
       "<style scoped>\n",
       "    .dataframe tbody tr th:only-of-type {\n",
       "        vertical-align: middle;\n",
       "    }\n",
       "\n",
       "    .dataframe tbody tr th {\n",
       "        vertical-align: top;\n",
       "    }\n",
       "\n",
       "    .dataframe thead th {\n",
       "        text-align: right;\n",
       "    }\n",
       "</style>\n",
       "<table border=\"1\" class=\"dataframe\">\n",
       "  <thead>\n",
       "    <tr style=\"text-align: right;\">\n",
       "      <th></th>\n",
       "      <th>Session ID</th>\n",
       "      <th>Station ID</th>\n",
       "      <th>Port ID</th>\n",
       "      <th>Connector Type</th>\n",
       "      <th>POI Category</th>\n",
       "      <th>POI Subcategory</th>\n",
       "      <th>Station Start Time (Local)</th>\n",
       "      <th>Station End Time (Local)</th>\n",
       "      <th>Session Time Zone</th>\n",
       "      <th>Session Time (secs)</th>\n",
       "      <th>...</th>\n",
       "      <th>City</th>\n",
       "      <th>County</th>\n",
       "      <th>State</th>\n",
       "      <th>Country</th>\n",
       "      <th>Driver City</th>\n",
       "      <th>Driver State</th>\n",
       "      <th>Driver Country</th>\n",
       "      <th>Max Power</th>\n",
       "      <th>Session Type</th>\n",
       "      <th>Vehicle Model Year</th>\n",
       "    </tr>\n",
       "  </thead>\n",
       "  <tbody>\n",
       "    <tr>\n",
       "      <th>0</th>\n",
       "      <td>99999951</td>\n",
       "      <td>155805</td>\n",
       "      <td>208243.0</td>\n",
       "      <td>J1772</td>\n",
       "      <td>Parking</td>\n",
       "      <td>Commercial</td>\n",
       "      <td>2017-09-21 13:50:12.0</td>\n",
       "      <td>2017-09-21 14:59:12.0</td>\n",
       "      <td>PDT</td>\n",
       "      <td>4143</td>\n",
       "      <td>...</td>\n",
       "      <td>Santa Clara</td>\n",
       "      <td>Santa Clara County</td>\n",
       "      <td>California</td>\n",
       "      <td>United States</td>\n",
       "      <td>San Jose</td>\n",
       "      <td>California</td>\n",
       "      <td>United States</td>\n",
       "      <td>6.6</td>\n",
       "      <td>OTHER</td>\n",
       "      <td>2015.0</td>\n",
       "    </tr>\n",
       "  </tbody>\n",
       "</table>\n",
       "<p>1 rows × 34 columns</p>\n",
       "</div>"
      ],
      "text/plain": [
       "   Session ID  Station ID   Port ID Connector Type POI Category  \\\n",
       "0    99999951      155805  208243.0          J1772      Parking   \n",
       "\n",
       "  POI Subcategory Station Start Time (Local) Station End Time (Local)  \\\n",
       "0      Commercial      2017-09-21 13:50:12.0    2017-09-21 14:59:12.0   \n",
       "\n",
       "  Session Time Zone  Session Time (secs)  ...         City  \\\n",
       "0               PDT                 4143  ...  Santa Clara   \n",
       "\n",
       "               County       State        Country  Driver City  Driver State  \\\n",
       "0  Santa Clara County  California  United States     San Jose    California   \n",
       "\n",
       "  Driver Country Max Power Session Type  Vehicle Model Year  \n",
       "0  United States       6.6        OTHER              2015.0  \n",
       "\n",
       "[1 rows x 34 columns]"
      ]
     },
     "execution_count": 4,
     "metadata": {},
     "output_type": "execute_result"
    }
   ],
   "source": [
    "sessions_raw = pd.read_csv(path + \"sessions.csv\", index_col=False)\n",
    "# sessions = pd.read_csv(path + \"sessions.csv\", index_col=False, nrows=1e6)\n",
    "sessions_raw.head(1)"
   ]
  },
  {
   "cell_type": "code",
   "execution_count": 5,
   "metadata": {},
   "outputs": [],
   "source": [
    "# print(len(sessions))\n",
    "# for column in list(sessions):\n",
    "#     unique = sessions[column].unique()\n",
    "#     print(column, len(unique))\n",
    "#     if len(unique) < 25:\n",
    "#         print(unique)"
   ]
  },
  {
   "cell_type": "code",
   "execution_count": 6,
   "metadata": {},
   "outputs": [],
   "source": [
    "sessions = sessions_raw.copy(deep=True)\n",
    "sessions = sessions[sessions['Session Type'] != 'FLEET']\n",
    "sessions = sessions[sessions[\"POI Category\"] == \"Workplace\"]"
   ]
  },
  {
   "cell_type": "code",
   "execution_count": 7,
   "metadata": {},
   "outputs": [],
   "source": [
    "sessions['slack_time'] = sessions['Session Time (secs)'] - sessions['Charging Time (secs)']\n",
    "\n",
    "sessions['year'] = sessions[\"Station Start Time (Local)\"].apply(lambda x: int(x[:4]))\n",
    "sessions = sessions[sessions['year'].apply(lambda x: x in [2016, 2017, 2018])]"
   ]
  },
  {
   "cell_type": "code",
   "execution_count": 8,
   "metadata": {},
   "outputs": [],
   "source": [
    "# col = 'Energy (kWh)'\n",
    "# df = sessions.copy(deep=True)\n",
    "\n",
    "# df = df[df[col] < np.percentile(df[col], 99)]\n",
    "# df = df[df[col] > 0]\n",
    "# plot = plt.hist(df[col], bins=50)"
   ]
  },
  {
   "cell_type": "code",
   "execution_count": 9,
   "metadata": {},
   "outputs": [
    {
     "name": "stdout",
     "output_type": "stream",
     "text": [
      "1673743\n",
      "10775\n",
      "153983.0    845\n",
      "211483.0    776\n",
      "154489.0    765\n",
      "401831.0    742\n",
      "153985.0    693\n",
      "139477.0    689\n",
      "211481.0    681\n",
      "154491.0    669\n",
      "112645.0    631\n",
      "162851.0    624\n",
      "Name: Port ID, dtype: int64\n"
     ]
    }
   ],
   "source": [
    "# find list of suitable stations\n",
    "stations = sessions.copy(deep=True)\n",
    "stations = stations[stations['Energy (kWh)'] > 5]\n",
    "stations = stations[stations['slack_time'] > 7200]\n",
    "counts = stations['Port ID'].value_counts()\n",
    "print(len(stations))\n",
    "print(len(counts))\n",
    "print(counts.head(10))"
   ]
  },
  {
   "cell_type": "code",
   "execution_count": 10,
   "metadata": {},
   "outputs": [],
   "source": [
    "ports_1000 = counts.head(1000)\n",
    "ports_1000 = list(ports_1000.index)"
   ]
  },
  {
   "cell_type": "code",
   "execution_count": 11,
   "metadata": {},
   "outputs": [],
   "source": [
    "sessions_1000 = sessions[sessions['Port ID'].apply(lambda x: x in ports_1000)]"
   ]
  },
  {
   "cell_type": "code",
   "execution_count": 12,
   "metadata": {},
   "outputs": [
    {
     "name": "stdout",
     "output_type": "stream",
     "text": [
      "25\n",
      "Mountain View    455754\n",
      "Cupertino        243591\n",
      "Sunnyvale        172559\n",
      "Palo Alto         67285\n",
      "Los Gatos         56191\n",
      "Santa Clara       44903\n",
      "San Jose          34895\n",
      "San Bruno         26408\n",
      "Menlo Park        22948\n",
      "Emeryville        18340\n",
      "Name: City, dtype: int64\n"
     ]
    }
   ],
   "source": [
    "counts = sessions_1000['City'].value_counts()\n",
    "print(len(counts))\n",
    "print(counts.head(10))"
   ]
  },
  {
   "cell_type": "code",
   "execution_count": 13,
   "metadata": {},
   "outputs": [
    {
     "name": "stdout",
     "output_type": "stream",
     "text": [
      "1002\n",
      "     Zip Code   Port ID  Session ID\n",
      "821     95014  165995.0        2491\n",
      "791     95014  145255.0        2531\n",
      "872     95014  429681.0        2583\n",
      "819     95014  165281.0        2599\n",
      "860     95014  199775.0        2622\n",
      "820     95014  165283.0        2657\n",
      "878     95014  779671.0        2685\n",
      "730     94710  797351.0        2752\n",
      "861     95014  204347.0        3892\n",
      "862     95014  204349.0        3992\n"
     ]
    }
   ],
   "source": [
    "df = sessions_1000.copy(deep=True)\n",
    "df = df.groupby(['Zip Code', 'Port ID'], as_index=False)\n",
    "counts = df['Session ID'].agg('count').sort_values(['Session ID'])\n",
    "print(len(counts))\n",
    "print(counts.tail(10))"
   ]
  },
  {
   "cell_type": "code",
   "execution_count": 17,
   "metadata": {},
   "outputs": [
    {
     "name": "stdout",
     "output_type": "stream",
     "text": [
      "145\n",
      "204349.0    3992\n",
      "204347.0    3892\n",
      "779671.0    2685\n",
      "165283.0    2657\n",
      "199775.0    2622\n",
      "165281.0    2599\n",
      "429681.0    2583\n",
      "145255.0    2531\n",
      "165995.0    2491\n",
      "401831.0    2464\n",
      "Name: Port ID, dtype: int64\n",
      "794761.0    1119\n",
      "121533.0    1111\n",
      "162343.0    1092\n",
      "197543.0    1088\n",
      "222643.0    1078\n",
      "222645.0    1066\n",
      "159697.0    1062\n",
      "162345.0    1055\n",
      "123291.0    1018\n",
      "197737.0     988\n",
      "Name: Port ID, dtype: int64\n"
     ]
    }
   ],
   "source": [
    "sessions_95014 = sessions_1000.copy(deep=True)\n",
    "sessions_95014 = sessions_95014[sessions_95014['Zip Code'] == 95014]\n",
    "counts = sessions_95014['Port ID'].value_counts()\n",
    "\n",
    "print(len(counts))\n",
    "print(counts.head(10))\n",
    "print(counts.tail(10))\n",
    "\n",
    "ports_95014_top10 = counts.head(10)\n",
    "ports_95014_top10 = list(ports_95014_top10.index)\n",
    "ports_95014_tail10 = counts.tail(10)\n",
    "ports_95014_tail10 = list(ports_95014_tail10.index)"
   ]
  },
  {
   "cell_type": "code",
   "execution_count": 18,
   "metadata": {},
   "outputs": [
    {
     "name": "stdout",
     "output_type": "stream",
     "text": [
      "28516\n",
      "10677\n"
     ]
    }
   ],
   "source": [
    "sessions_95014_top10 = sessions_95014[sessions_95014['Port ID'].apply(lambda x: x in ports_95014_top10)]\n",
    "sessions_95014_tail10 = sessions_95014[sessions_95014['Port ID'].apply(lambda x: x in ports_95014_tail10)]\n",
    "print(len(sessions_95014_top10))\n",
    "print(len(sessions_95014_tail10))\n"
   ]
  },
  {
   "cell_type": "code",
   "execution_count": null,
   "metadata": {},
   "outputs": [],
   "source": []
  },
  {
   "cell_type": "code",
   "execution_count": null,
   "metadata": {},
   "outputs": [],
   "source": []
  },
  {
   "cell_type": "code",
   "execution_count": null,
   "metadata": {},
   "outputs": [],
   "source": []
  },
  {
   "cell_type": "code",
   "execution_count": null,
   "metadata": {},
   "outputs": [],
   "source": []
  },
  {
   "cell_type": "code",
   "execution_count": null,
   "metadata": {},
   "outputs": [],
   "source": []
  },
  {
   "cell_type": "code",
   "execution_count": null,
   "metadata": {},
   "outputs": [],
   "source": []
  },
  {
   "cell_type": "code",
   "execution_count": 19,
   "metadata": {},
   "outputs": [],
   "source": [
    "keep_cols = [\"Port ID\", \"Energy (kWh)\", \"Station Start Time (Local)\", \"Session Time (secs)\"]\n",
    "# keep_cols = keep_cols + [\"Driver ID\", \"Battery Capacity\", \"City\", \"County\"]"
   ]
  },
  {
   "cell_type": "code",
   "execution_count": 20,
   "metadata": {},
   "outputs": [],
   "source": [
    "sessions_1000[keep_cols].to_csv(path + \"sessions_161718_top1000.csv\", index=False)\n",
    "sessions_95014_top10[keep_cols].to_csv(path + \"sessions_161718_95014_top10.csv\", index=False)\n",
    "sessions_95014_tail10[keep_cols].to_csv(path + \"sessions_161718_95014_tail10.csv\", index=False)"
   ]
  },
  {
   "cell_type": "code",
   "execution_count": null,
   "metadata": {},
   "outputs": [],
   "source": []
  },
  {
   "cell_type": "code",
   "execution_count": null,
   "metadata": {},
   "outputs": [],
   "source": []
  }
 ],
 "metadata": {
  "kernelspec": {
   "display_name": "Python 3",
   "language": "python",
   "name": "python3"
  },
  "language_info": {
   "codemirror_mode": {
    "name": "ipython",
    "version": 3
   },
   "file_extension": ".py",
   "mimetype": "text/x-python",
   "name": "python",
   "nbconvert_exporter": "python",
   "pygments_lexer": "ipython3",
   "version": "3.7.2"
  }
 },
 "nbformat": 4,
 "nbformat_minor": 2
}
