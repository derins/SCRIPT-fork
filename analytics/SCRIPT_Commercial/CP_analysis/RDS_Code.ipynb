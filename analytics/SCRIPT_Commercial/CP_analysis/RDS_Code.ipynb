{
 "cells": [
  {
   "cell_type": "code",
<<<<<<< HEAD
   "execution_count": 1,
=======
   "execution_count": 9,
>>>>>>> 0efd039aed53d0a89e686bfd0ed8845a25dade43
   "metadata": {},
   "outputs": [],
   "source": [
    "import pandas as pd\n",
    "import pymysql\n",
    "from datetime import datetime\n",
    "import numpy as np\n",
    "from mysql.connector import errorcode"
   ]
  },
  {
   "cell_type": "code",
<<<<<<< HEAD
   "execution_count": 2,
=======
   "execution_count": 10,
>>>>>>> 0efd039aed53d0a89e686bfd0ed8845a25dade43
   "metadata": {},
   "outputs": [],
   "source": [
    "# try:\n",
    "    \n",
    "mydb = pymysql.connect(\n",
    "                host='script-db-chargepoint.c0woz3tz40wu.us-west-2.rds.amazonaws.com',\n",
    "                user='script',\n",
    "                port=3306,\n",
    "                passwd='script_cp',\n",
    "                db='chargepoint',\n",
    "                local_infile = 1\n",
    "            )\n",
    "cursor = mydb.cursor()"
   ]
  },
  {
   "cell_type": "code",
<<<<<<< HEAD
   "execution_count": 5,
   "metadata": {},
   "outputs": [
    {
     "name": "stdout",
     "output_type": "stream",
     "text": [
      "('charging_interval',)\n",
      "('charging_session',)\n"
     ]
    }
   ],
   "source": [
    "\n",
    "mycursor.execute('show tables')\n",
    "for x in mycursor:\n",
    "    print(x)\n",
    "\n",
    "# mycursor.execute('DROP TABLE test_table')"
   ]
  },
  {
   "cell_type": "code",
   "execution_count": 4,
   "metadata": {},
   "outputs": [],
   "source": [
    "try:\n",
    "    # Table with all buses that are participating into the market\n",
    "    mycursor.execute('CREATE TABLE charging_session (Session_ID BIGINT NOT NULL, \\\n",
    "    Station_ID INT NOT NULL, Port_ID INT NOT NULL, Connector_Type VARCHAR(255) NOT NULL, POI_Category VARCHAR(255) NOT NULL,\\\n",
    "    POI_Subcategory VARCHAR(255) NOT NULL, Station_Start_Time DATETIME NOT NULL, Station_End_Time DATETIME NOT NULL, Session_Time_Zone VARCHAR(255) NOT NULL,\\\n",
    "    Session_Time_secs INT NOT NULL, Charging_Time_secs INT NOT NULL, Start_SOC INT, End_SOC INT,\\\n",
    "    Full_Charge VARCHAR(255) NOT NULL, Energy_kWh DOUBLE NOT NULL, Driver_ID BIGINT NOT NULL, Driver_Zip INT NOT NULL,\\\n",
    "    Vehicle_Make VARCHAR(255) NOT NULL, Vehicle_Model VARCHAR(255) NOT NULL, Battery_Capacity INT NOT NULL, EV_Type VARCHAR(255) NOT NULL,\\\n",
    "    $_Fee DOUBLE NOT NULL, Fee_Currency VARCHAR(255) NOT NULL, ZipCode INT NOT NULL, City VARCHAR(255) NOT NULL, County VARCHAR(255) NOT NULL,\\\n",
    "    State VARCHAR(255), Country VARCHAR(255), Driver_City VARCHAR(255), Driver_State VARCHAR(255),\\\n",
    "    Driver_Country VARCHAR(255) NOT NULL, Max_Power DOUBLE, Session_Type VARCHAR(255) NOT NULL, Vehicle_Model_Year INT NOT NULL)')\n",
    "except Exception as e:\n",
    "    print('Error: ', e)\n",
    "    \n",
    "try:\n",
    "    # Table with all buses that are participating into the market\n",
    "    mycursor.execute('CREATE TABLE charging_interval (Interval_ID BIGINT NOT NULL, \\\n",
    "    Session_ID DECIMAL NOT NULL, Interval_Start_Time DATETIME NOT NULL, Interval_Duration_Secs INT NOT NULL, Peak_Power DOUBLE NOT NULL,\\\n",
    "    Average_Power DOUBLE NOT NULL, Interval_Energy DOUBLE NOT NULL)')\n",
    "except Exception as e:\n",
    "    print('Error: ', e)"
   ]
  },
  {
   "cell_type": "code",
   "execution_count": 4,
   "metadata": {},
   "outputs": [
    {
     "ename": "KeyboardInterrupt",
     "evalue": "",
     "output_type": "error",
     "traceback": [
      "\u001b[0;31m---------------------------------------------------------------------------\u001b[0m",
      "\u001b[0;31mKeyboardInterrupt\u001b[0m                         Traceback (most recent call last)",
      "\u001b[0;32m<ipython-input-4-5fa76ba6cfff>\u001b[0m in \u001b[0;36m<module>\u001b[0;34m\u001b[0m\n\u001b[1;32m      1\u001b[0m \u001b[0;31m# mycursor.execute('DELETE FROM charging_interval')\u001b[0m\u001b[0;34m\u001b[0m\u001b[0;34m\u001b[0m\u001b[0;34m\u001b[0m\u001b[0m\n\u001b[0;32m----> 2\u001b[0;31m \u001b[0mmycursor\u001b[0m\u001b[0;34m.\u001b[0m\u001b[0mexecute\u001b[0m\u001b[0;34m(\u001b[0m\u001b[0;34m'DROP TABLE charging_interval'\u001b[0m\u001b[0;34m)\u001b[0m\u001b[0;34m\u001b[0m\u001b[0;34m\u001b[0m\u001b[0m\n\u001b[0m\u001b[1;32m      3\u001b[0m \u001b[0mmycursor\u001b[0m\u001b[0;34m.\u001b[0m\u001b[0mexecute\u001b[0m\u001b[0;34m(\u001b[0m\u001b[0;34m'DROP TABLE charging_session'\u001b[0m\u001b[0;34m)\u001b[0m\u001b[0;34m\u001b[0m\u001b[0;34m\u001b[0m\u001b[0m\n",
      "\u001b[0;32m~/anaconda3/envs/script_env/lib/python3.7/site-packages/pymysql/cursors.py\u001b[0m in \u001b[0;36mexecute\u001b[0;34m(self, query, args)\u001b[0m\n\u001b[1;32m    168\u001b[0m         \u001b[0mquery\u001b[0m \u001b[0;34m=\u001b[0m \u001b[0mself\u001b[0m\u001b[0;34m.\u001b[0m\u001b[0mmogrify\u001b[0m\u001b[0;34m(\u001b[0m\u001b[0mquery\u001b[0m\u001b[0;34m,\u001b[0m \u001b[0margs\u001b[0m\u001b[0;34m)\u001b[0m\u001b[0;34m\u001b[0m\u001b[0;34m\u001b[0m\u001b[0m\n\u001b[1;32m    169\u001b[0m \u001b[0;34m\u001b[0m\u001b[0m\n\u001b[0;32m--> 170\u001b[0;31m         \u001b[0mresult\u001b[0m \u001b[0;34m=\u001b[0m \u001b[0mself\u001b[0m\u001b[0;34m.\u001b[0m\u001b[0m_query\u001b[0m\u001b[0;34m(\u001b[0m\u001b[0mquery\u001b[0m\u001b[0;34m)\u001b[0m\u001b[0;34m\u001b[0m\u001b[0;34m\u001b[0m\u001b[0m\n\u001b[0m\u001b[1;32m    171\u001b[0m         \u001b[0mself\u001b[0m\u001b[0;34m.\u001b[0m\u001b[0m_executed\u001b[0m \u001b[0;34m=\u001b[0m \u001b[0mquery\u001b[0m\u001b[0;34m\u001b[0m\u001b[0;34m\u001b[0m\u001b[0m\n\u001b[1;32m    172\u001b[0m         \u001b[0;32mreturn\u001b[0m \u001b[0mresult\u001b[0m\u001b[0;34m\u001b[0m\u001b[0;34m\u001b[0m\u001b[0m\n",
      "\u001b[0;32m~/anaconda3/envs/script_env/lib/python3.7/site-packages/pymysql/cursors.py\u001b[0m in \u001b[0;36m_query\u001b[0;34m(self, q)\u001b[0m\n\u001b[1;32m    326\u001b[0m         \u001b[0mself\u001b[0m\u001b[0;34m.\u001b[0m\u001b[0m_last_executed\u001b[0m \u001b[0;34m=\u001b[0m \u001b[0mq\u001b[0m\u001b[0;34m\u001b[0m\u001b[0;34m\u001b[0m\u001b[0m\n\u001b[1;32m    327\u001b[0m         \u001b[0mself\u001b[0m\u001b[0;34m.\u001b[0m\u001b[0m_clear_result\u001b[0m\u001b[0;34m(\u001b[0m\u001b[0;34m)\u001b[0m\u001b[0;34m\u001b[0m\u001b[0;34m\u001b[0m\u001b[0m\n\u001b[0;32m--> 328\u001b[0;31m         \u001b[0mconn\u001b[0m\u001b[0;34m.\u001b[0m\u001b[0mquery\u001b[0m\u001b[0;34m(\u001b[0m\u001b[0mq\u001b[0m\u001b[0;34m)\u001b[0m\u001b[0;34m\u001b[0m\u001b[0;34m\u001b[0m\u001b[0m\n\u001b[0m\u001b[1;32m    329\u001b[0m         \u001b[0mself\u001b[0m\u001b[0;34m.\u001b[0m\u001b[0m_do_get_result\u001b[0m\u001b[0;34m(\u001b[0m\u001b[0;34m)\u001b[0m\u001b[0;34m\u001b[0m\u001b[0;34m\u001b[0m\u001b[0m\n\u001b[1;32m    330\u001b[0m         \u001b[0;32mreturn\u001b[0m \u001b[0mself\u001b[0m\u001b[0;34m.\u001b[0m\u001b[0mrowcount\u001b[0m\u001b[0;34m\u001b[0m\u001b[0;34m\u001b[0m\u001b[0m\n",
      "\u001b[0;32m~/anaconda3/envs/script_env/lib/python3.7/site-packages/pymysql/connections.py\u001b[0m in \u001b[0;36mquery\u001b[0;34m(self, sql, unbuffered)\u001b[0m\n\u001b[1;32m    515\u001b[0m                 \u001b[0msql\u001b[0m \u001b[0;34m=\u001b[0m \u001b[0msql\u001b[0m\u001b[0;34m.\u001b[0m\u001b[0mencode\u001b[0m\u001b[0;34m(\u001b[0m\u001b[0mself\u001b[0m\u001b[0;34m.\u001b[0m\u001b[0mencoding\u001b[0m\u001b[0;34m,\u001b[0m \u001b[0;34m'surrogateescape'\u001b[0m\u001b[0;34m)\u001b[0m\u001b[0;34m\u001b[0m\u001b[0;34m\u001b[0m\u001b[0m\n\u001b[1;32m    516\u001b[0m         \u001b[0mself\u001b[0m\u001b[0;34m.\u001b[0m\u001b[0m_execute_command\u001b[0m\u001b[0;34m(\u001b[0m\u001b[0mCOMMAND\u001b[0m\u001b[0;34m.\u001b[0m\u001b[0mCOM_QUERY\u001b[0m\u001b[0;34m,\u001b[0m \u001b[0msql\u001b[0m\u001b[0;34m)\u001b[0m\u001b[0;34m\u001b[0m\u001b[0;34m\u001b[0m\u001b[0m\n\u001b[0;32m--> 517\u001b[0;31m         \u001b[0mself\u001b[0m\u001b[0;34m.\u001b[0m\u001b[0m_affected_rows\u001b[0m \u001b[0;34m=\u001b[0m \u001b[0mself\u001b[0m\u001b[0;34m.\u001b[0m\u001b[0m_read_query_result\u001b[0m\u001b[0;34m(\u001b[0m\u001b[0munbuffered\u001b[0m\u001b[0;34m=\u001b[0m\u001b[0munbuffered\u001b[0m\u001b[0;34m)\u001b[0m\u001b[0;34m\u001b[0m\u001b[0;34m\u001b[0m\u001b[0m\n\u001b[0m\u001b[1;32m    518\u001b[0m         \u001b[0;32mreturn\u001b[0m \u001b[0mself\u001b[0m\u001b[0;34m.\u001b[0m\u001b[0m_affected_rows\u001b[0m\u001b[0;34m\u001b[0m\u001b[0;34m\u001b[0m\u001b[0m\n\u001b[1;32m    519\u001b[0m \u001b[0;34m\u001b[0m\u001b[0m\n",
      "\u001b[0;32m~/anaconda3/envs/script_env/lib/python3.7/site-packages/pymysql/connections.py\u001b[0m in \u001b[0;36m_read_query_result\u001b[0;34m(self, unbuffered)\u001b[0m\n\u001b[1;32m    730\u001b[0m         \u001b[0;32melse\u001b[0m\u001b[0;34m:\u001b[0m\u001b[0;34m\u001b[0m\u001b[0;34m\u001b[0m\u001b[0m\n\u001b[1;32m    731\u001b[0m             \u001b[0mresult\u001b[0m \u001b[0;34m=\u001b[0m \u001b[0mMySQLResult\u001b[0m\u001b[0;34m(\u001b[0m\u001b[0mself\u001b[0m\u001b[0;34m)\u001b[0m\u001b[0;34m\u001b[0m\u001b[0;34m\u001b[0m\u001b[0m\n\u001b[0;32m--> 732\u001b[0;31m             \u001b[0mresult\u001b[0m\u001b[0;34m.\u001b[0m\u001b[0mread\u001b[0m\u001b[0;34m(\u001b[0m\u001b[0;34m)\u001b[0m\u001b[0;34m\u001b[0m\u001b[0;34m\u001b[0m\u001b[0m\n\u001b[0m\u001b[1;32m    733\u001b[0m         \u001b[0mself\u001b[0m\u001b[0;34m.\u001b[0m\u001b[0m_result\u001b[0m \u001b[0;34m=\u001b[0m \u001b[0mresult\u001b[0m\u001b[0;34m\u001b[0m\u001b[0;34m\u001b[0m\u001b[0m\n\u001b[1;32m    734\u001b[0m         \u001b[0;32mif\u001b[0m \u001b[0mresult\u001b[0m\u001b[0;34m.\u001b[0m\u001b[0mserver_status\u001b[0m \u001b[0;32mis\u001b[0m \u001b[0;32mnot\u001b[0m \u001b[0;32mNone\u001b[0m\u001b[0;34m:\u001b[0m\u001b[0;34m\u001b[0m\u001b[0;34m\u001b[0m\u001b[0m\n",
      "\u001b[0;32m~/anaconda3/envs/script_env/lib/python3.7/site-packages/pymysql/connections.py\u001b[0m in \u001b[0;36mread\u001b[0;34m(self)\u001b[0m\n\u001b[1;32m   1073\u001b[0m     \u001b[0;32mdef\u001b[0m \u001b[0mread\u001b[0m\u001b[0;34m(\u001b[0m\u001b[0mself\u001b[0m\u001b[0;34m)\u001b[0m\u001b[0;34m:\u001b[0m\u001b[0;34m\u001b[0m\u001b[0;34m\u001b[0m\u001b[0m\n\u001b[1;32m   1074\u001b[0m         \u001b[0;32mtry\u001b[0m\u001b[0;34m:\u001b[0m\u001b[0;34m\u001b[0m\u001b[0;34m\u001b[0m\u001b[0m\n\u001b[0;32m-> 1075\u001b[0;31m             \u001b[0mfirst_packet\u001b[0m \u001b[0;34m=\u001b[0m \u001b[0mself\u001b[0m\u001b[0;34m.\u001b[0m\u001b[0mconnection\u001b[0m\u001b[0;34m.\u001b[0m\u001b[0m_read_packet\u001b[0m\u001b[0;34m(\u001b[0m\u001b[0;34m)\u001b[0m\u001b[0;34m\u001b[0m\u001b[0;34m\u001b[0m\u001b[0m\n\u001b[0m\u001b[1;32m   1076\u001b[0m \u001b[0;34m\u001b[0m\u001b[0m\n\u001b[1;32m   1077\u001b[0m             \u001b[0;32mif\u001b[0m \u001b[0mfirst_packet\u001b[0m\u001b[0;34m.\u001b[0m\u001b[0mis_ok_packet\u001b[0m\u001b[0;34m(\u001b[0m\u001b[0;34m)\u001b[0m\u001b[0;34m:\u001b[0m\u001b[0;34m\u001b[0m\u001b[0;34m\u001b[0m\u001b[0m\n",
      "\u001b[0;32m~/anaconda3/envs/script_env/lib/python3.7/site-packages/pymysql/connections.py\u001b[0m in \u001b[0;36m_read_packet\u001b[0;34m(self, packet_type)\u001b[0m\n\u001b[1;32m    655\u001b[0m         \u001b[0mbuff\u001b[0m \u001b[0;34m=\u001b[0m \u001b[0;34mb''\u001b[0m\u001b[0;34m\u001b[0m\u001b[0;34m\u001b[0m\u001b[0m\n\u001b[1;32m    656\u001b[0m         \u001b[0;32mwhile\u001b[0m \u001b[0;32mTrue\u001b[0m\u001b[0;34m:\u001b[0m\u001b[0;34m\u001b[0m\u001b[0;34m\u001b[0m\u001b[0m\n\u001b[0;32m--> 657\u001b[0;31m             \u001b[0mpacket_header\u001b[0m \u001b[0;34m=\u001b[0m \u001b[0mself\u001b[0m\u001b[0;34m.\u001b[0m\u001b[0m_read_bytes\u001b[0m\u001b[0;34m(\u001b[0m\u001b[0;36m4\u001b[0m\u001b[0;34m)\u001b[0m\u001b[0;34m\u001b[0m\u001b[0;34m\u001b[0m\u001b[0m\n\u001b[0m\u001b[1;32m    658\u001b[0m             \u001b[0;31m#if DEBUG: dump_packet(packet_header)\u001b[0m\u001b[0;34m\u001b[0m\u001b[0;34m\u001b[0m\u001b[0;34m\u001b[0m\u001b[0m\n\u001b[1;32m    659\u001b[0m \u001b[0;34m\u001b[0m\u001b[0m\n",
      "\u001b[0;32m~/anaconda3/envs/script_env/lib/python3.7/site-packages/pymysql/connections.py\u001b[0m in \u001b[0;36m_read_bytes\u001b[0;34m(self, num_bytes)\u001b[0m\n\u001b[1;32m    689\u001b[0m         \u001b[0;32mwhile\u001b[0m \u001b[0;32mTrue\u001b[0m\u001b[0;34m:\u001b[0m\u001b[0;34m\u001b[0m\u001b[0;34m\u001b[0m\u001b[0m\n\u001b[1;32m    690\u001b[0m             \u001b[0;32mtry\u001b[0m\u001b[0;34m:\u001b[0m\u001b[0;34m\u001b[0m\u001b[0;34m\u001b[0m\u001b[0m\n\u001b[0;32m--> 691\u001b[0;31m                 \u001b[0mdata\u001b[0m \u001b[0;34m=\u001b[0m \u001b[0mself\u001b[0m\u001b[0;34m.\u001b[0m\u001b[0m_rfile\u001b[0m\u001b[0;34m.\u001b[0m\u001b[0mread\u001b[0m\u001b[0;34m(\u001b[0m\u001b[0mnum_bytes\u001b[0m\u001b[0;34m)\u001b[0m\u001b[0;34m\u001b[0m\u001b[0;34m\u001b[0m\u001b[0m\n\u001b[0m\u001b[1;32m    692\u001b[0m                 \u001b[0;32mbreak\u001b[0m\u001b[0;34m\u001b[0m\u001b[0;34m\u001b[0m\u001b[0m\n\u001b[1;32m    693\u001b[0m             \u001b[0;32mexcept\u001b[0m \u001b[0;34m(\u001b[0m\u001b[0mIOError\u001b[0m\u001b[0;34m,\u001b[0m \u001b[0mOSError\u001b[0m\u001b[0;34m)\u001b[0m \u001b[0;32mas\u001b[0m \u001b[0me\u001b[0m\u001b[0;34m:\u001b[0m\u001b[0;34m\u001b[0m\u001b[0;34m\u001b[0m\u001b[0m\n",
      "\u001b[0;32m~/anaconda3/envs/script_env/lib/python3.7/socket.py\u001b[0m in \u001b[0;36mreadinto\u001b[0;34m(self, b)\u001b[0m\n\u001b[1;32m    587\u001b[0m         \u001b[0;32mwhile\u001b[0m \u001b[0;32mTrue\u001b[0m\u001b[0;34m:\u001b[0m\u001b[0;34m\u001b[0m\u001b[0;34m\u001b[0m\u001b[0m\n\u001b[1;32m    588\u001b[0m             \u001b[0;32mtry\u001b[0m\u001b[0;34m:\u001b[0m\u001b[0;34m\u001b[0m\u001b[0;34m\u001b[0m\u001b[0m\n\u001b[0;32m--> 589\u001b[0;31m                 \u001b[0;32mreturn\u001b[0m \u001b[0mself\u001b[0m\u001b[0;34m.\u001b[0m\u001b[0m_sock\u001b[0m\u001b[0;34m.\u001b[0m\u001b[0mrecv_into\u001b[0m\u001b[0;34m(\u001b[0m\u001b[0mb\u001b[0m\u001b[0;34m)\u001b[0m\u001b[0;34m\u001b[0m\u001b[0;34m\u001b[0m\u001b[0m\n\u001b[0m\u001b[1;32m    590\u001b[0m             \u001b[0;32mexcept\u001b[0m \u001b[0mtimeout\u001b[0m\u001b[0;34m:\u001b[0m\u001b[0;34m\u001b[0m\u001b[0;34m\u001b[0m\u001b[0m\n\u001b[1;32m    591\u001b[0m                 \u001b[0mself\u001b[0m\u001b[0;34m.\u001b[0m\u001b[0m_timeout_occurred\u001b[0m \u001b[0;34m=\u001b[0m \u001b[0;32mTrue\u001b[0m\u001b[0;34m\u001b[0m\u001b[0;34m\u001b[0m\u001b[0m\n",
      "\u001b[0;31mKeyboardInterrupt\u001b[0m: "
     ]
    }
   ],
   "source": [
    "# mycursor.execute('DELETE FROM charging_interval')\n",
    "mycursor.execute('DROP TABLE charging_interval')\n",
    "mycursor.execute('DROP TABLE charging_session')"
   ]
  },
  {
   "cell_type": "code",
   "execution_count": 14,
   "metadata": {},
   "outputs": [
    {
     "data": {
      "text/plain": [
       "660794"
      ]
     },
     "execution_count": 14,
     "metadata": {},
     "output_type": "execute_result"
    }
   ],
   "source": [
    "# Return the number of rows\n",
    "mycursor.execute('SELECT * FROM charging_interval')"
   ]
  },
  {
   "cell_type": "code",
   "execution_count": 18,
   "metadata": {},
   "outputs": [],
   "source": [
    "def csv_to_mysql(load_sql):\n",
    "    try:\n",
    "        con = pymysql.connect(\n",
    "                    host='script-db-chargepoint.c0woz3tz40wu.us-west-2.rds.amazonaws.com',\n",
    "                    user='script',\n",
    "                    port=3306,\n",
    "                    passwd='script_cp',\n",
    "                    db='chargepoint',\n",
    "                    autocommit=True,\n",
    "                    local_infile=1\n",
    "                )\n",
    "        print('Connected to DB')\n",
    "        # Create cursor and execute Load SQL\n",
    "        cursor = con.cursor()\n",
    "        cursor.execute(load_sql)\n",
    "        print('Succuessfully loaded the table from csv.')\n",
    "        con.close()\n",
    "        \n",
    "    except Exception as e:\n",
    "        print('Error: {}'.format(str(e)))\n",
    "#         sys.exit(1)\n",
    "        \n",
    "    "
   ]
  },
  {
   "cell_type": "code",
   "execution_count": 33,
   "metadata": {},
   "outputs": [
    {
     "name": "stdout",
     "output_type": "stream",
     "text": [
      "Connected to DB\n",
      "Succuessfully loaded the table from csv.\n"
     ]
    }
   ],
   "source": [
    "# Loading file to charging_interval\n",
    "load_sql = \"\"\"LOAD DATA LOCAL INFILE 'contracosta.csv' INTO TABLE charging_interval \\\n",
    "FIELDS TERMINATED BY ',' ENCLOSED BY '\"' IGNORE 1 LINES;\"\"\"\n",
    "csv_to_mysql(load_sql)"
   ]
  },
  {
   "cell_type": "code",
   "execution_count": 22,
   "metadata": {},
   "outputs": [
    {
     "name": "stdout",
     "output_type": "stream",
     "text": [
      "Connected to DB\n",
      "Succuessfully loaded the table from csv.\n"
     ]
    }
   ],
   "source": [
    "# Loading file to charging_session\n",
    "load_sql = \"\"\"LOAD DATA LOCAL INFILE 'Charging_Session_SLAC.csv' INTO TABLE charging_session \\\n",
    "FIELDS TERMINATED BY ',' ENCLOSED BY '\"' IGNORE 1 LINES;\"\"\"\n",
    "csv_to_mysql(load_sql)"
   ]
  },
  {
   "cell_type": "code",
   "execution_count": 24,
   "metadata": {},
   "outputs": [
    {
     "data": {
      "text/plain": [
       "1"
      ]
     },
     "execution_count": 24,
     "metadata": {},
     "output_type": "execute_result"
    }
   ],
   "source": [
    "var = \"\"\"show variables like '%INFILE%';\"\"\"\n",
    "mycursor.execute(var)"
=======
   "execution_count": 11,
   "metadata": {},
   "outputs": [
    {
     "name": "stdout",
     "output_type": "stream",
     "text": [
      "charging_interval\n",
      "charging_session\n"
     ]
    }
   ],
   "source": [
    "cursor.execute(\"SHOW TABLES\") \n",
    "for (table_name,) in cursor:\n",
    "    print(table_name)"
>>>>>>> 0efd039aed53d0a89e686bfd0ed8845a25dade43
   ]
  },
  {
   "cell_type": "code",
   "execution_count": null,
   "metadata": {},
   "outputs": [],
   "source": []
  },
  {
   "cell_type": "code",
   "execution_count": 12,
   "metadata": {},
   "outputs": [
    {
     "data": {
      "text/html": [
       "<div>\n",
       "<style scoped>\n",
       "    .dataframe tbody tr th:only-of-type {\n",
       "        vertical-align: middle;\n",
       "    }\n",
       "\n",
       "    .dataframe tbody tr th {\n",
       "        vertical-align: top;\n",
       "    }\n",
       "\n",
       "    .dataframe thead th {\n",
       "        text-align: right;\n",
       "    }\n",
       "</style>\n",
       "<table border=\"1\" class=\"dataframe\">\n",
       "  <thead>\n",
       "    <tr style=\"text-align: right;\">\n",
       "      <th></th>\n",
       "      <th>Session_ID</th>\n",
       "      <th>Station_ID</th>\n",
       "      <th>Port_ID</th>\n",
       "      <th>Connector_Type</th>\n",
       "      <th>POI_Category</th>\n",
       "      <th>POI_Subcategory</th>\n",
       "      <th>Station_Start_Time</th>\n",
       "      <th>Station_End_Time</th>\n",
       "      <th>Session_Time_Zone</th>\n",
       "      <th>Session_Time_secs</th>\n",
       "      <th>...</th>\n",
       "      <th>City</th>\n",
       "      <th>County</th>\n",
       "      <th>State</th>\n",
       "      <th>Country</th>\n",
       "      <th>Driver_City</th>\n",
       "      <th>Driver_State</th>\n",
       "      <th>Driver_Country</th>\n",
       "      <th>Max_Power</th>\n",
       "      <th>Session_Type</th>\n",
       "      <th>Vehicle_Model_Year</th>\n",
       "    </tr>\n",
       "  </thead>\n",
       "  <tbody>\n",
       "    <tr>\n",
       "      <th>0</th>\n",
       "      <td>99999951</td>\n",
       "      <td>155805</td>\n",
       "      <td>208243</td>\n",
       "      <td>J1772</td>\n",
       "      <td>Parking</td>\n",
       "      <td>Commercial</td>\n",
       "      <td>2017-09-21 13:50:12</td>\n",
       "      <td>2017-09-21 14:59:12</td>\n",
       "      <td>PDT</td>\n",
       "      <td>4143</td>\n",
       "      <td>...</td>\n",
       "      <td>Santa Clara</td>\n",
       "      <td>Santa Clara County</td>\n",
       "      <td>California</td>\n",
       "      <td>United States</td>\n",
       "      <td>San Jose</td>\n",
       "      <td>California</td>\n",
       "      <td>United States</td>\n",
       "      <td>6.6</td>\n",
       "      <td>OTHER</td>\n",
       "      <td>2015</td>\n",
       "    </tr>\n",
       "    <tr>\n",
       "      <th>1</th>\n",
       "      <td>99999911</td>\n",
       "      <td>127071</td>\n",
       "      <td>166451</td>\n",
       "      <td>J1772</td>\n",
       "      <td>Workplace</td>\n",
       "      <td>High-Tech</td>\n",
       "      <td>2017-09-21 13:15:01</td>\n",
       "      <td>2017-09-21 17:10:05</td>\n",
       "      <td>PDT</td>\n",
       "      <td>14104</td>\n",
       "      <td>...</td>\n",
       "      <td>Sunnyvale</td>\n",
       "      <td>Santa Clara County</td>\n",
       "      <td>California</td>\n",
       "      <td>United States</td>\n",
       "      <td>Saratoga</td>\n",
       "      <td>California</td>\n",
       "      <td>United States</td>\n",
       "      <td>6.6</td>\n",
       "      <td>OTHER</td>\n",
       "      <td>2017</td>\n",
       "    </tr>\n",
       "    <tr>\n",
       "      <th>2</th>\n",
       "      <td>99999881</td>\n",
       "      <td>143745</td>\n",
       "      <td>191547</td>\n",
       "      <td>J1772</td>\n",
       "      <td>Workplace</td>\n",
       "      <td>General</td>\n",
       "      <td>2017-09-21 13:50:13</td>\n",
       "      <td>2017-09-21 15:02:57</td>\n",
       "      <td>PDT</td>\n",
       "      <td>4364</td>\n",
       "      <td>...</td>\n",
       "      <td>Mountain View</td>\n",
       "      <td>Santa Clara County</td>\n",
       "      <td>California</td>\n",
       "      <td>United States</td>\n",
       "      <td>Sunnyvale</td>\n",
       "      <td>California</td>\n",
       "      <td>United States</td>\n",
       "      <td>6.6</td>\n",
       "      <td>OTHER</td>\n",
       "      <td>2013</td>\n",
       "    </tr>\n",
       "    <tr>\n",
       "      <th>3</th>\n",
       "      <td>99999861</td>\n",
       "      <td>78433</td>\n",
       "      <td>195605</td>\n",
       "      <td>J1772</td>\n",
       "      <td>Workplace</td>\n",
       "      <td>General</td>\n",
       "      <td>2017-09-21 13:50:11</td>\n",
       "      <td>2017-09-21 16:33:49</td>\n",
       "      <td>PDT</td>\n",
       "      <td>9818</td>\n",
       "      <td>...</td>\n",
       "      <td>Santa Clara</td>\n",
       "      <td>Santa Clara County</td>\n",
       "      <td>California</td>\n",
       "      <td>United States</td>\n",
       "      <td>Fremont</td>\n",
       "      <td>California</td>\n",
       "      <td>United States</td>\n",
       "      <td>6.6</td>\n",
       "      <td>OTHER</td>\n",
       "      <td>2015</td>\n",
       "    </tr>\n",
       "    <tr>\n",
       "      <th>4</th>\n",
       "      <td>99999851</td>\n",
       "      <td>93629</td>\n",
       "      <td>105187</td>\n",
       "      <td>J1772</td>\n",
       "      <td>Workplace</td>\n",
       "      <td>General</td>\n",
       "      <td>2017-09-21 13:50:14</td>\n",
       "      <td>2017-09-21 15:49:40</td>\n",
       "      <td>PDT</td>\n",
       "      <td>7165</td>\n",
       "      <td>...</td>\n",
       "      <td>San Jose</td>\n",
       "      <td>Santa Clara County</td>\n",
       "      <td>California</td>\n",
       "      <td>United States</td>\n",
       "      <td>San Jose</td>\n",
       "      <td>California</td>\n",
       "      <td>United States</td>\n",
       "      <td>6.6</td>\n",
       "      <td>OTHER</td>\n",
       "      <td>2015</td>\n",
       "    </tr>\n",
       "  </tbody>\n",
       "</table>\n",
       "<p>5 rows × 34 columns</p>\n",
       "</div>"
      ],
      "text/plain": [
       "   Session_ID  Station_ID  Port_ID Connector_Type POI_Category  \\\n",
       "0    99999951      155805   208243          J1772      Parking   \n",
       "1    99999911      127071   166451          J1772    Workplace   \n",
       "2    99999881      143745   191547          J1772    Workplace   \n",
       "3    99999861       78433   195605          J1772    Workplace   \n",
       "4    99999851       93629   105187          J1772    Workplace   \n",
       "\n",
       "  POI_Subcategory  Station_Start_Time     Station_End_Time Session_Time_Zone  \\\n",
       "0      Commercial 2017-09-21 13:50:12  2017-09-21 14:59:12               PDT   \n",
       "1       High-Tech 2017-09-21 13:15:01  2017-09-21 17:10:05               PDT   \n",
       "2         General 2017-09-21 13:50:13  2017-09-21 15:02:57               PDT   \n",
       "3         General 2017-09-21 13:50:11  2017-09-21 16:33:49               PDT   \n",
       "4         General 2017-09-21 13:50:14  2017-09-21 15:49:40               PDT   \n",
       "\n",
       "   Session_Time_secs  ...           City              County       State  \\\n",
       "0               4143  ...    Santa Clara  Santa Clara County  California   \n",
       "1              14104  ...      Sunnyvale  Santa Clara County  California   \n",
       "2               4364  ...  Mountain View  Santa Clara County  California   \n",
       "3               9818  ...    Santa Clara  Santa Clara County  California   \n",
       "4               7165  ...       San Jose  Santa Clara County  California   \n",
       "\n",
       "         Country  Driver_City  Driver_State  Driver_Country Max_Power  \\\n",
       "0  United States     San Jose    California   United States       6.6   \n",
       "1  United States     Saratoga    California   United States       6.6   \n",
       "2  United States    Sunnyvale    California   United States       6.6   \n",
       "3  United States      Fremont    California   United States       6.6   \n",
       "4  United States     San Jose    California   United States       6.6   \n",
       "\n",
       "  Session_Type  Vehicle_Model_Year  \n",
       "0        OTHER                2015  \n",
       "1        OTHER                2017  \n",
       "2        OTHER                2013  \n",
       "3        OTHER                2015  \n",
       "4        OTHER                2015  \n",
       "\n",
       "[5 rows x 34 columns]"
      ]
     },
     "execution_count": 12,
     "metadata": {},
     "output_type": "execute_result"
    }
   ],
   "source": [
    "sql = \"SELECT * FROM charging_session\"\n",
    "# sql = \"SELECT * FROM charging_session LIMIT 1000000\"\n",
    "session = pd.read_sql(sql, mydb) #, index_col='id'\n",
    "session.head(5)"
   ]
  },
  {
   "cell_type": "code",
   "execution_count": null,
   "metadata": {},
   "outputs": [],
   "source": []
  },
  {
   "cell_type": "code",
   "execution_count": null,
   "metadata": {},
   "outputs": [],
   "source": []
  }
 ],
 "metadata": {
  "kernelspec": {
   "display_name": "edapy3",
   "language": "python",
   "name": "edapy3"
  },
  "language_info": {
   "codemirror_mode": {
    "name": "ipython",
    "version": 3
   },
   "file_extension": ".py",
   "mimetype": "text/x-python",
   "name": "python",
   "nbconvert_exporter": "python",
   "pygments_lexer": "ipython3",
   "version": "3.7.2"
  }
 },
 "nbformat": 4,
 "nbformat_minor": 2
}
