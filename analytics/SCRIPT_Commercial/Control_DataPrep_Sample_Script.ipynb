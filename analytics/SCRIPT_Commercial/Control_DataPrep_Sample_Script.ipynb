{
 "cells": [
  {
   "cell_type": "markdown",
   "metadata": {},
   "source": [
    "# Prepare Training Set for Control Study"
   ]
  },
  {
   "cell_type": "code",
   "execution_count": 1,
   "metadata": {},
   "outputs": [],
   "source": [
    "import pandas as pd\n",
    "import numpy as np\n",
    "import matplotlib.pyplot as plt\n",
    "import boto3\n",
    "import cvxpy as cvx\n",
    "s3 = boto3.resource('s3')"
   ]
  },
  {
   "cell_type": "markdown",
   "metadata": {},
   "source": [
    "### Load data"
   ]
  },
  {
   "cell_type": "code",
   "execution_count": 2,
   "metadata": {
    "scrolled": true
   },
   "outputs": [],
   "source": [
    "zip_county_lookup = pd.read_csv('s3://script.forecast.inputsoutputs/zip_county_lookup_cleaned.csv')\n",
    "zip_county_lookup['Zip Code'] = zip_county_lookup['Zip Code'].astype(int)"
   ]
  },
  {
   "cell_type": "code",
   "execution_count": 3,
   "metadata": {},
   "outputs": [
    {
     "name": "stdout",
     "output_type": "stream",
     "text": [
      "County options:  ['Alameda' 'Alpine' 'Amador' 'Butte' 'Calaveras' 'Colusa' 'Contra Costa'\n",
      " 'Del Norte' 'El Dorado' 'Fresno' 'Glenn' 'Humboldt' 'Imperial' 'Inyo'\n",
      " 'Kern' 'Kings' 'Lake' 'Lassen' 'Los Angeles' 'Madera' 'Marin' 'Mariposa'\n",
      " 'Mendocino' 'Merced' 'Modoc' 'Mono' 'Monterey' 'Napa' 'Nevada' 'Orange'\n",
      " 'Placer' 'Plumas' 'Riverside' 'Sacramento' 'San Benito' 'San Bernardino'\n",
      " 'San Diego' 'San Francisco' 'San Joaquin' 'San Luis Obispo' 'San Mateo'\n",
      " 'Santa Barbara' 'Santa Clara' 'Santa Cruz' 'Shasta' 'Sierra' 'Siskiyou'\n",
      " 'Solano' 'Sonoma' 'Stanislaus' 'Sutter' 'Tehama' 'Trinity' 'Tulare'\n",
      " 'Tuolumne' 'Ventura' 'Yolo' 'Yuba']\n"
     ]
    }
   ],
   "source": [
    "county_list = np.unique(zip_county_lookup['County'].values)\n",
    "print('County options: ', county_list)"
   ]
  },
  {
   "cell_type": "markdown",
   "metadata": {},
   "source": [
    "# Implement once as Example"
   ]
  },
  {
   "cell_type": "code",
   "execution_count": 4,
   "metadata": {},
   "outputs": [],
   "source": [
    "county = 'Santa Clara'\n",
    "# tip: only choose bay area counties"
   ]
  },
  {
   "cell_type": "code",
   "execution_count": 5,
   "metadata": {
    "scrolled": true
   },
   "outputs": [],
   "source": [
    "# Which files in this county do we have to pick from\n",
    "bucket = s3.Bucket('script.chargepoint.data')\n",
    "zip_options = zip_county_lookup[zip_county_lookup['County']==county]['Zip Code'].values\n",
    "file_options = []\n",
    "\n",
    "for zipcode in zip_options:\n",
    "    file_name = 'clean/Reduced/By_ZipCode/evsezip'+str(zipcode)+'_sessions.csv'\n",
    "    # check if have data for this zip\n",
    "    have_data = False\n",
    "    objs = list(bucket.objects.filter(Prefix=file_name))\n",
    "    if len(objs) > 0 and objs[0].key == file_name:\n",
    "        file_options.append(file_name)"
   ]
  },
  {
   "cell_type": "code",
   "execution_count": 6,
   "metadata": {},
   "outputs": [
    {
     "name": "stdout",
     "output_type": "stream",
     "text": [
      "Have  49  zips in this county to pull from\n"
     ]
    }
   ],
   "source": [
    "print('Have ', len(file_options), ' zips in this county to pull from')"
   ]
  },
  {
   "cell_type": "code",
   "execution_count": 7,
   "metadata": {},
   "outputs": [],
   "source": [
    "zipcode_file = np.random.choice(file_options)"
   ]
  },
  {
   "cell_type": "code",
   "execution_count": 8,
   "metadata": {},
   "outputs": [],
   "source": [
    "df = pd.read_csv('s3://script.chargepoint.data/'+zipcode_file)\n",
    "df = df[df['POI Category']=='Workplace'].reset_index(drop=True)\n",
    "df = df[df['Max Power']<=10].reset_index(drop=True) # Not fast charging"
   ]
  },
  {
   "cell_type": "code",
   "execution_count": 9,
   "metadata": {
    "scrolled": true
   },
   "outputs": [],
   "source": [
    "df_intervals = pd.read_csv('s3://script.chargepoint.data/'+zipcode_file[:37]+'_intervals.csv')"
   ]
  },
  {
   "cell_type": "markdown",
   "metadata": {},
   "source": [
    "## Select Sessions and build Uncontrolled Load"
   ]
  },
  {
   "cell_type": "code",
   "execution_count": 10,
   "metadata": {},
   "outputs": [],
   "source": [
    "num_sessions = 200\n",
    "chosen_sessions = np.random.choice(df.index, num_sessions)"
   ]
  },
  {
   "cell_type": "code",
   "execution_count": 11,
   "metadata": {},
   "outputs": [],
   "source": [
    "charge_rate = 6.6"
   ]
  },
  {
   "cell_type": "code",
   "execution_count": 17,
   "metadata": {},
   "outputs": [],
   "source": [
    "power = np.zeros((96, num_sessions))\n",
    "arrival_inds = np.zeros((num_sessions, ))\n",
    "departure_inds = np.zeros((num_sessions, ))\n",
    "for session_num in range(num_sessions):\n",
    "    session = df.loc[chosen_sessions[session_num], 'Session ID']\n",
    "    interval_data = df_intervals[df_intervals['Session ID']==session]\n",
    "    for i in interval_data.index:\n",
    "        hour = int(interval_data.loc[i, 'Interval Start Time (Local)'][11:13])\n",
    "        minute = int(interval_data.loc[i, 'Interval Start Time (Local)'][14:16])\n",
    "        timestep_96 = hour*4 + int(minute/15)\n",
    "        power[timestep_96, session_num] = float(interval_data.loc[i, 'Average Power'])\n",
    "    if power[0, session_num] == 0:\n",
    "        if len(np.where(power[:, session_num] > 0)[0]) > 0:\n",
    "            arrival_inds[session_num] = np.where(power[:, session_num] > 0)[0][0]\n",
    "            if np.where(power[:, session_num] > 0)[0][-1] + 1 < 96:\n",
    "                departure_inds[session_num] = np.where(power[:, session_num] > 0)[0][-1] + 1\n",
    "            else: \n",
    "                departure_inds[session_num] = 0\n",
    "    else:\n",
    "        if len(np.where(power[:, session_num] == 0)[0]) > 0:\n",
    "            arrival_inds[session_num] = np.max(np.where(power[:, session_num] == 0)[0]) + 1\n",
    "            if arrival_inds[session_num] == 96:\n",
    "                arrival_inds[session_num] = 0\n",
    "            departure_inds[session_num] = np.min(np.where(power[:, session_num] == 0)[0])\n",
    "energies = 0.25*charge_rate*np.sum(power, axis=0)"
   ]
  },
  {
   "cell_type": "code",
   "execution_count": 18,
   "metadata": {},
   "outputs": [
    {
     "data": {
      "image/png": "[encoded data removed]",
      "text/plain": [
       "<Figure size 432x288 with 1 Axes>"
      ]
     },
     "metadata": {
      "needs_background": "light"
     },
     "output_type": "display_data"
    }
   ],
   "source": [
    "plt.figure()\n",
    "plt.plot(0.25*np.arange(0, 96), np.sum(power, axis=1))\n",
    "plt.xlabel('Hour')\n",
    "plt.xlim([0, 24])\n",
    "plt.ylabel('kW')\n",
    "plt.title('Uncontrolled Load')\n",
    "plt.show()"
   ]
  },
  {
   "cell_type": "markdown",
   "metadata": {},
   "source": [
    "## Control"
   ]
  },
  {
   "cell_type": "markdown",
   "metadata": {},
   "source": [
    "E-19 structure from https://www.pge.com/tariffs/assets/pdf/tariffbook/ELEC_SCHEDS_E-19.pdf, taking summer case, secondary voltage, only the variable parts of the rate schedule\n",
    "\n",
    "Peak is noon to 6pm, partpeak is 8:30am to noon and 6pm to 9:30pm, offpeak otherwise.\n"
   ]
  },
  {
   "cell_type": "code",
   "execution_count": 14,
   "metadata": {},
   "outputs": [],
   "source": [
    "rate_energy_peak = 0.16997\n",
    "rate_energy_partpeak = 0.12236\n",
    "rate_energy_offpeak = 0.09082\n",
    "rate_demand_peak = 21.23\n",
    "rate_demand_partpeak = 5.85\n",
    "rate_demand_overall = 19.10"
   ]
  },
  {
   "cell_type": "code",
   "execution_count": 15,
   "metadata": {},
   "outputs": [],
   "source": [
    "energy_prices = np.concatenate((np.repeat(rate_energy_offpeak, int(8.5*4)), np.repeat(rate_energy_partpeak, int(3.5*4)), \n",
    "                np.repeat(rate_energy_peak, int(6*4)), np.repeat(rate_energy_partpeak, int(3.5*4)), \n",
    "                np.repeat(rate_energy_offpeak, int(2.5*4))))"
   ]
  },
  {
   "cell_type": "code",
   "execution_count": 16,
   "metadata": {},
   "outputs": [],
   "source": [
    "peak_inds = np.arange(int(12*4), int(18*4))\n",
    "partpeak_inds = np.concatenate((np.arange(int(8.5*4), int(12*4)), np.arange(int(18*4), int(21.5*4))))\n",
    "offpeak_inds = np.concatenate((np.arange(0, int(8.5*4)), np.arange(int(21.5*4), int(24*4))))"
   ]
  },
  {
   "cell_type": "markdown",
   "metadata": {},
   "source": [
    "Optimization problem"
   ]
  },
  {
   "cell_type": "code",
   "execution_count": 19,
   "metadata": {},
   "outputs": [],
   "source": [
    "schedule = cvx.Variable((96, num_sessions))\n",
    "obj = cvx.matmul(cvx.sum(schedule, axis=1),  energy_prices.reshape((np.shape(energy_prices)[0], 1)))\n",
    "obj += rate_demand_overall*cvx.max(cvx.sum(schedule, axis=1))\n",
    "obj += rate_demand_peak*cvx.max(cvx.sum(schedule[peak_inds, :], axis=1))\n",
    "obj += rate_demand_partpeak*cvx.max(cvx.sum(schedule[partpeak_inds, :], axis=1))\n",
    "\n",
    "constraints = [schedule >= 0]\n",
    "for i in range(num_sessions):\n",
    "    constraints += [schedule[:, i] <= np.maximum(np.max(power[:, i]), charge_rate)]\n",
    "    if departure_inds[i] >= arrival_inds[i]:\n",
    "        if arrival_inds[i] > 0:\n",
    "            constraints += [schedule[np.arange(0, int(arrival_inds[i])), i] <= 0]\n",
    "        if departure_inds[i] < 96:\n",
    "            constraints += [schedule[np.arange(int(departure_inds[i]), 96), i] <= 0]\n",
    "    else:\n",
    "        constraints += [schedule[np.arange(int(departure_inds[i]), int(arrival_inds[i])), i] <= 0]\n",
    "\n",
    "energies = 0.25*np.sum(power, axis=0)\n",
    "max_energies = np.zeros((num_sessions, ))\n",
    "for i in range(num_sessions):\n",
    "    if departure_inds[i] >= arrival_inds[i]:\n",
    "        max_energies[i] = 0.25*charge_rate*(departure_inds[i]-arrival_inds[i])\n",
    "    else:\n",
    "        max_energies[i] = 0.25*charge_rate*((departure_inds[i])+(96-arrival_inds[i]))\n",
    "where_violation = np.where((max_energies-energies)<0)[0]\n",
    "print('Energy violation for ',len(where_violation),' of the sessions.')\n",
    "energies[where_violation] = max_energies[where_violation]\n",
    "constraints += [0.25*cvx.sum(schedule, axis=0)==energies]"
   ]
  },
  {
   "cell_type": "code",
   "execution_count": 20,
   "metadata": {},
   "outputs": [],
   "source": [
    "prob = cvx.Problem(cvx.Minimize(obj), constraints)\n",
    "result = prob.solve(cvx.MOSEK)"
   ]
  },
  {
   "cell_type": "code",
   "execution_count": 21,
   "metadata": {
    "scrolled": true
   },
   "outputs": [
    {
     "data": {
      "text/plain": [
       "9365.65559893314"
      ]
     },
     "execution_count": 21,
     "metadata": {},
     "output_type": "execute_result"
    }
   ],
   "source": [
    "result"
   ]
  },
  {
   "cell_type": "code",
   "execution_count": 22,
   "metadata": {},
   "outputs": [
    {
     "data": {
      "image/png": "[encoded data removed]",
      "text/plain": [
       "<Figure size 432x288 with 1 Axes>"
      ]
     },
     "metadata": {
      "needs_background": "light"
     },
     "output_type": "display_data"
    }
   ],
   "source": [
    "plt.figure()\n",
    "plt.plot(0.25*np.arange(0, 96), np.sum(power, axis=1), color='C0')\n",
    "plt.plot(0.25*np.arange(0, 96), np.sum(schedule.value, axis=1), color='C1')\n",
    "plt.plot([0.25*np.min(peak_inds), 0.25*np.min(peak_inds)], [0, 1.1*np.max(np.sum(power, axis=1))], '--', color='C2')\n",
    "plt.plot([0.25*np.max(peak_inds), 0.25*np.max(peak_inds)], [0, 1.1*np.max(np.sum(power, axis=1))], '--', color='C2')\n",
    "plt.plot([0.25*np.min(partpeak_inds), 0.25*np.min(partpeak_inds)], [0, 1.1*np.max(np.sum(power, axis=1))], '--', color='C3')\n",
    "plt.plot([0.25*np.max(partpeak_inds), 0.25*np.max(partpeak_inds)], [0, 1.1*np.max(np.sum(power, axis=1))], '--', color='C3')\n",
    "plt.xlabel('Hour')\n",
    "plt.xlim([0, 24])\n",
    "plt.ylim([0, 1.1*np.max(np.sum(power, axis=1))])\n",
    "plt.ylabel('kW')\n",
    "plt.title('Uncontrolled Load')\n",
    "plt.legend(labels=['Uncontrolled', 'Controlled'])\n",
    "plt.show()"
   ]
  },
  {
   "cell_type": "markdown",
   "metadata": {},
   "source": [
    "# Generate multiple profiles"
   ]
  },
  {
   "cell_type": "code",
   "execution_count": 31,
   "metadata": {},
   "outputs": [],
   "source": [
    "def new_df_and_sessions(county, num_sessions):\n",
    "    \n",
    "    bucket = s3.Bucket('script.chargepoint.data')\n",
    "    zip_options = zip_county_lookup[zip_county_lookup['County']==county]['Zip Code'].values\n",
    "    file_options = []\n",
    "\n",
    "    for zipcode in zip_options:\n",
    "        file_name = 'clean/Reduced/By_ZipCode/evsezip'+str(zipcode)+'_sessions.csv'\n",
    "        # check if have data for this zip\n",
    "        have_data = False\n",
    "        objs = list(bucket.objects.filter(Prefix=file_name))\n",
    "        if len(objs) > 0 and objs[0].key == file_name:\n",
    "            file_options.append(file_name)\n",
    "\n",
    "    ct = 0\n",
    "    len_df = 0\n",
    "    while ((len_df==0) & (ct < len(file_options))):\n",
    "        zipcode_file = np.random.choice(file_options)\n",
    "        df = pd.read_csv('s3://script.chargepoint.data/'+zipcode_file)\n",
    "        df = df[df['POI Category']=='Workplace'].reset_index(drop=True)\n",
    "        df = df[df['Max Power']<=10].reset_index(drop=True) # Not fast charging\n",
    "        len_df = len(df)\n",
    "        ct += 1\n",
    "    \n",
    "    df_intervals = pd.read_csv('s3://script.chargepoint.data/'+zipcode_file[:37]+'_intervals.csv')\n",
    "    \n",
    "    chosen_sessions = np.random.choice(df.index, num_sessions)\n",
    "    \n",
    "    return df, df_intervals, chosen_sessions"
   ]
  },
  {
   "cell_type": "code",
   "execution_count": 186,
   "metadata": {},
   "outputs": [],
   "source": [
    "def uncontrolled_load(num_sessions, chosen_sessions, df, df_intervals, charge_rate):\n",
    "    \n",
    "    power = np.zeros((96, num_sessions))\n",
    "    arrival_inds = np.zeros((num_sessions, ))\n",
    "    departure_inds = np.zeros((num_sessions, ))\n",
    "    for session_num in range(num_sessions):\n",
    "        session = df.loc[chosen_sessions[session_num], 'Session ID']\n",
    "        interval_data = df_intervals[df_intervals['Session ID']==session]\n",
    "        for i in interval_data.index:\n",
    "            hour = int(interval_data.loc[i, 'Interval Start Time (Local)'][11:13])\n",
    "            minute = int(interval_data.loc[i, 'Interval Start Time (Local)'][14:16])\n",
    "            timestep_96 = hour*4 + int(minute/15)\n",
    "            power[timestep_96, session_num] = float(interval_data.loc[i, 'Average Power'])\n",
    "        if power[0, session_num] == 0:\n",
    "            if len(np.where(power[:, session_num] > 0)[0]) > 0:\n",
    "                arrival_inds[session_num] = np.where(power[:, session_num] > 0)[0][0]\n",
    "                if np.where(power[:, session_num] > 0)[0][-1] + 1 < 96:\n",
    "                    departure_inds[session_num] = np.where(power[:, session_num] > 0)[0][-1] + 1\n",
    "                else: \n",
    "                    departure_inds[session_num] = 0\n",
    "        else:\n",
    "            if len(np.where(power[:, session_num] == 0)[0]) > 0:\n",
    "                arrival_inds[session_num] = np.max(np.where(power[:, session_num] == 0)[0]) + 1\n",
    "                if arrival_inds[session_num] == 96:\n",
    "                    arrival_inds[session_num] = 0\n",
    "                departure_inds[session_num] = np.min(np.where(power[:, session_num] == 0)[0])\n",
    "    energies = 0.25*np.sum(power, axis=0)\n",
    "    \n",
    "    return power, arrival_inds, departure_inds, energies"
   ]
  },
  {
   "cell_type": "code",
   "execution_count": 181,
   "metadata": {},
   "outputs": [],
   "source": [
    "def controlled_load(num_sessions, charge_rate, arrival_inds, departure_inds, power, energies, energy_prices, \n",
    "                    rate_demand_peak, rate_demand_partpeak, rate_demand_overall, peak_inds, partpeak_inds):\n",
    "\n",
    "    schedule = cvx.Variable((96, num_sessions))\n",
    "    obj = cvx.matmul(cvx.sum(schedule, axis=1),  energy_prices.reshape((np.shape(energy_prices)[0], 1)))\n",
    "    obj += rate_demand_overall*cvx.max(cvx.sum(schedule, axis=1))\n",
    "    obj += rate_demand_overall*cvx.max(cvx.sum(schedule, axis=1))\n",
    "    obj += rate_demand_peak*cvx.max(cvx.sum(schedule[peak_inds, :], axis=1))\n",
    "    obj += rate_demand_partpeak*cvx.max(cvx.sum(schedule[partpeak_inds, :], axis=1))\n",
    "\n",
    "    constraints = [schedule >= 0]\n",
    "    for i in range(num_sessions):\n",
    "        constraints += [schedule[:, i] <= np.maximum(np.max(power[:, i]), charge_rate)]\n",
    "        if departure_inds[i] >= arrival_inds[i]:\n",
    "            if arrival_inds[i] > 0:\n",
    "                constraints += [schedule[np.arange(0, int(arrival_inds[i])), i] <= 0]\n",
    "            if departure_inds[i] < 96:\n",
    "                constraints += [schedule[np.arange(int(departure_inds[i]), 96), i] <= 0]\n",
    "        else:\n",
    "            constraints += [schedule[np.arange(int(departure_inds[i]), int(arrival_inds[i])), i] <= 0]\n",
    "    \n",
    "    energies = 0.25*np.sum(power, axis=0)\n",
    "    max_energies = np.zeros((num_sessions, ))\n",
    "    for i in range(num_sessions):\n",
    "        if departure_inds[i] >= arrival_inds[i]:\n",
    "            max_energies[i] = 0.25*charge_rate*(departure_inds[i]-arrival_inds[i])\n",
    "        else:\n",
    "            max_energies[i] = 0.25*charge_rate*((departure_inds[i])+(96-arrival_inds[i]))\n",
    "    where_violation = np.where((max_energies-energies)<0)[0]\n",
    "    print('Energy violation for ',len(where_violation),' of the sessions.')\n",
    "    energies[where_violation] = max_energies[where_violation]\n",
    "    constraints += [0.25*cvx.sum(schedule, axis=0)==energies]\n",
    "    \n",
    "    prob = cvx.Problem(cvx.Minimize(obj), constraints)\n",
    "    result = prob.solve(solver=cvx.MOSEK)\n",
    "    print('The objective result: ', result)\n",
    "    \n",
    "    return schedule.value, power"
   ]
  },
  {
   "cell_type": "code",
   "execution_count": 177,
   "metadata": {},
   "outputs": [
    {
     "data": {
      "text/plain": [
       "[<matplotlib.lines.Line2D at 0xb24733f28>]"
      ]
     },
     "execution_count": 177,
     "metadata": {},
     "output_type": "execute_result"
    },
    {
     "data": {
      "image/png": "[encoded data removed]",
      "text/plain": [
       "<Figure size 432x288 with 1 Axes>"
      ]
     },
     "metadata": {
      "needs_background": "light"
     },
     "output_type": "display_data"
    }
   ],
   "source": [
    "plt.plot(0.25*np.arange(0, 96), power[:, 0])"
   ]
  },
  {
   "cell_type": "code",
   "execution_count": 126,
   "metadata": {},
   "outputs": [],
   "source": [
    "# saved_broken = chosen_sessions"
   ]
  },
  {
   "cell_type": "code",
   "execution_count": 192,
   "metadata": {
    "scrolled": true
   },
   "outputs": [
    {
     "name": "stdout",
     "output_type": "stream",
     "text": [
      "On run:  0\n"
     ]
    },
    {
     "name": "stderr",
     "output_type": "stream",
     "text": [
      "/Users/spowell2/anaconda3/lib/python3.7/site-packages/IPython/core/interactiveshell.py:2901: DtypeWarning: Columns (14) have mixed types. Specify dtype option on import or set low_memory=False.\n",
      "  if self.run_code(code, result):\n"
     ]
    },
    {
     "name": "stdout",
     "output_type": "stream",
     "text": [
      "Energy violation for  2  of the sessions.\n",
      "The objective result:  22205.690234207355\n",
      "On run:  1\n",
      "Energy violation for  0  of the sessions.\n",
      "The objective result:  15924.257474025146\n",
      "On run:  2\n",
      "Energy violation for  0  of the sessions.\n",
      "The objective result:  13999.753611401444\n",
      "On run:  3\n",
      "Energy violation for  2  of the sessions.\n",
      "The objective result:  24076.613622235967\n",
      "On run:  4\n",
      "Energy violation for  0  of the sessions.\n",
      "The objective result:  16743.48025449423\n",
      "On run:  5\n",
      "Energy violation for  0  of the sessions.\n",
      "The objective result:  16252.415791946696\n",
      "On run:  6\n",
      "Energy violation for  2  of the sessions.\n",
      "The objective result:  22614.918458786753\n",
      "On run:  7\n",
      "Energy violation for  0  of the sessions.\n",
      "The objective result:  15699.783416068687\n",
      "On run:  8\n",
      "Energy violation for  0  of the sessions.\n",
      "The objective result:  19378.702507783775\n",
      "On run:  9\n",
      "Energy violation for  0  of the sessions.\n",
      "The objective result:  22505.52322273905\n",
      "On run:  10\n",
      "Energy violation for  0  of the sessions.\n",
      "The objective result:  17007.957269913713\n",
      "On run:  11\n",
      "Energy violation for  0  of the sessions.\n",
      "The objective result:  15524.619695464364\n",
      "On run:  12\n",
      "Energy violation for  0  of the sessions.\n",
      "The objective result:  15798.598392055123\n",
      "On run:  13\n",
      "Energy violation for  0  of the sessions.\n",
      "The objective result:  22205.11594538293\n",
      "On run:  14\n",
      "Energy violation for  4  of the sessions.\n",
      "The objective result:  23573.088710602984\n",
      "On run:  15\n",
      "Energy violation for  2  of the sessions.\n",
      "The objective result:  17551.16000597766\n",
      "On run:  16\n",
      "Energy violation for  0  of the sessions.\n",
      "The objective result:  20872.752605279893\n",
      "On run:  17\n",
      "Energy violation for  1  of the sessions.\n",
      "The objective result:  15233.793008586123\n",
      "On run:  18\n",
      "Energy violation for  4  of the sessions.\n",
      "The objective result:  24575.89786666928\n",
      "On run:  19\n",
      "Energy violation for  4  of the sessions.\n",
      "The objective result:  23115.576128734836\n",
      "On run:  20\n",
      "Energy violation for  0  of the sessions.\n",
      "The objective result:  21855.258839393828\n",
      "On run:  21\n",
      "Energy violation for  0  of the sessions.\n",
      "The objective result:  15843.06831004679\n",
      "On run:  22\n",
      "Energy violation for  0  of the sessions.\n",
      "The objective result:  15949.558786682364\n",
      "On run:  23\n",
      "Energy violation for  0  of the sessions.\n",
      "The objective result:  23404.801728278388\n",
      "On run:  24\n",
      "Energy violation for  0  of the sessions.\n",
      "The objective result:  18456.325488334107\n",
      "On run:  25\n",
      "Energy violation for  0  of the sessions.\n",
      "The objective result:  16001.877670047044\n",
      "On run:  26\n",
      "Energy violation for  3  of the sessions.\n",
      "The objective result:  20808.669530995772\n",
      "On run:  27\n",
      "Energy violation for  1  of the sessions.\n",
      "The objective result:  24400.181399936337\n",
      "On run:  28\n",
      "Energy violation for  0  of the sessions.\n",
      "The objective result:  15545.647967647099\n",
      "On run:  29\n",
      "Energy violation for  2  of the sessions.\n",
      "The objective result:  16202.50768800429\n",
      "On run:  30\n",
      "Energy violation for  0  of the sessions.\n",
      "The objective result:  15647.459362868402\n",
      "On run:  31\n",
      "Energy violation for  1  of the sessions.\n",
      "The objective result:  15654.706850354702\n",
      "On run:  32\n",
      "Energy violation for  0  of the sessions.\n",
      "The objective result:  17223.28140273882\n",
      "On run:  33\n",
      "Energy violation for  0  of the sessions.\n",
      "The objective result:  25613.477433309043\n",
      "On run:  34\n",
      "Energy violation for  0  of the sessions.\n",
      "The objective result:  15571.443582595197\n",
      "On run:  35\n",
      "Energy violation for  0  of the sessions.\n",
      "The objective result:  15008.24573402436\n",
      "On run:  36\n",
      "Energy violation for  0  of the sessions.\n",
      "The objective result:  15137.75471454738\n",
      "On run:  37\n",
      "Energy violation for  1  of the sessions.\n",
      "The objective result:  20894.403147929253\n",
      "On run:  38\n",
      "Energy violation for  0  of the sessions.\n",
      "The objective result:  14560.335751448045\n",
      "On run:  39\n",
      "Energy violation for  3  of the sessions.\n",
      "The objective result:  23183.55506544483\n",
      "On run:  40\n",
      "Energy violation for  0  of the sessions.\n",
      "The objective result:  18479.85498279272\n",
      "On run:  41\n",
      "Energy violation for  0  of the sessions.\n",
      "The objective result:  13861.014881705269\n",
      "On run:  42\n",
      "Energy violation for  0  of the sessions.\n",
      "The objective result:  15010.874503875315\n",
      "On run:  43\n",
      "Energy violation for  0  of the sessions.\n",
      "The objective result:  15050.971530851773\n",
      "On run:  44\n",
      "Energy violation for  0  of the sessions.\n",
      "The objective result:  17106.656755203658\n",
      "On run:  45\n",
      "Energy violation for  0  of the sessions.\n",
      "The objective result:  16319.286329853869\n",
      "On run:  46\n",
      "Energy violation for  0  of the sessions.\n",
      "The objective result:  17472.678544722447\n",
      "On run:  47\n",
      "Energy violation for  0  of the sessions.\n",
      "The objective result:  16359.263725503944\n",
      "On run:  48\n",
      "Energy violation for  0  of the sessions.\n",
      "The objective result:  18648.10118194962\n",
      "On run:  49\n",
      "Energy violation for  0  of the sessions.\n",
      "The objective result:  22688.715520396458\n",
      "On run:  50\n",
      "Energy violation for  0  of the sessions.\n",
      "The objective result:  16375.971746692887\n",
      "On run:  51\n",
      "Energy violation for  0  of the sessions.\n",
      "The objective result:  15811.77402299472\n",
      "On run:  52\n",
      "Energy violation for  4  of the sessions.\n",
      "The objective result:  23062.098839337257\n",
      "On run:  53\n",
      "Energy violation for  0  of the sessions.\n",
      "The objective result:  22161.04929230574\n",
      "On run:  54\n",
      "Energy violation for  0  of the sessions.\n",
      "The objective result:  14918.188745348814\n",
      "On run:  55\n",
      "Energy violation for  0  of the sessions.\n",
      "The objective result:  17774.40786371567\n",
      "On run:  56\n",
      "Energy violation for  0  of the sessions.\n",
      "The objective result:  23395.717691161357\n",
      "On run:  57\n",
      "Energy violation for  0  of the sessions.\n",
      "The objective result:  15316.39389750022\n",
      "On run:  58\n",
      "Energy violation for  0  of the sessions.\n",
      "The objective result:  18096.25728173094\n",
      "On run:  59\n",
      "Energy violation for  0  of the sessions.\n",
      "The objective result:  16479.71352415027\n",
      "On run:  60\n",
      "Energy violation for  0  of the sessions.\n",
      "The objective result:  15745.476463402232\n",
      "On run:  61\n",
      "Energy violation for  0  of the sessions.\n",
      "The objective result:  15753.652961531478\n",
      "On run:  62\n",
      "Energy violation for  0  of the sessions.\n",
      "The objective result:  18992.60612744648\n",
      "On run:  63\n",
      "Energy violation for  0  of the sessions.\n",
      "The objective result:  17488.84101338974\n",
      "On run:  64\n",
      "Energy violation for  0  of the sessions.\n",
      "The objective result:  15406.607963470804\n",
      "On run:  65\n",
      "Energy violation for  0  of the sessions.\n",
      "The objective result:  14573.856339744965\n",
      "On run:  66\n",
      "Energy violation for  0  of the sessions.\n",
      "The objective result:  17112.375650339138\n",
      "On run:  67\n",
      "Energy violation for  0  of the sessions.\n",
      "The objective result:  22461.295737347064\n",
      "On run:  68\n",
      "Energy violation for  2  of the sessions.\n",
      "The objective result:  20118.421941775043\n",
      "On run:  69\n",
      "Energy violation for  0  of the sessions.\n",
      "The objective result:  21862.957016882006\n",
      "On run:  70\n",
      "Energy violation for  0  of the sessions.\n",
      "The objective result:  17144.48875398528\n",
      "On run:  71\n",
      "Energy violation for  1  of the sessions.\n",
      "The objective result:  25616.67113706631\n",
      "On run:  72\n",
      "Energy violation for  1  of the sessions.\n",
      "The objective result:  24403.72519453525\n",
      "On run:  73\n",
      "Energy violation for  0  of the sessions.\n",
      "The objective result:  19114.149234649944\n",
      "On run:  74\n",
      "Energy violation for  0  of the sessions.\n",
      "The objective result:  16658.153418728594\n",
      "On run:  75\n",
      "Energy violation for  2  of the sessions.\n",
      "The objective result:  23553.923212716283\n",
      "On run:  76\n",
      "Energy violation for  0  of the sessions.\n",
      "The objective result:  15195.499926878158\n",
      "On run:  77\n",
      "Energy violation for  0  of the sessions.\n",
      "The objective result:  22293.766498488912\n",
      "On run:  78\n",
      "Energy violation for  0  of the sessions.\n",
      "The objective result:  21209.33255285948\n",
      "On run:  79\n",
      "Energy violation for  1  of the sessions.\n",
      "The objective result:  17626.67559351851\n",
      "On run:  80\n",
      "Energy violation for  0  of the sessions.\n",
      "The objective result:  16594.333647021427\n",
      "On run:  81\n",
      "Energy violation for  0  of the sessions.\n",
      "The objective result:  21266.40868220009\n",
      "On run:  82\n",
      "Energy violation for  0  of the sessions.\n",
      "The objective result:  19213.809920368738\n",
      "On run:  83\n",
      "Energy violation for  2  of the sessions.\n",
      "The objective result:  26249.80862656922\n",
      "On run:  84\n",
      "Energy violation for  0  of the sessions.\n",
      "The objective result:  15437.90966468918\n",
      "On run:  85\n",
      "Energy violation for  0  of the sessions.\n",
      "The objective result:  15112.422164127667\n",
      "On run:  86\n"
     ]
    },
    {
     "name": "stdout",
     "output_type": "stream",
     "text": [
      "Energy violation for  1  of the sessions.\n",
      "The objective result:  19875.010337747837\n",
      "On run:  87\n",
      "Energy violation for  0  of the sessions.\n",
      "The objective result:  15309.281998679126\n",
      "On run:  88\n",
      "Energy violation for  0  of the sessions.\n",
      "The objective result:  17404.418963026717\n",
      "On run:  89\n",
      "Energy violation for  0  of the sessions.\n",
      "The objective result:  22367.296425040928\n",
      "On run:  90\n",
      "Energy violation for  0  of the sessions.\n",
      "The objective result:  22142.588130098135\n",
      "On run:  91\n",
      "Energy violation for  0  of the sessions.\n",
      "The objective result:  14801.071708606218\n",
      "On run:  92\n",
      "Energy violation for  1  of the sessions.\n",
      "The objective result:  21582.56888081551\n",
      "On run:  93\n",
      "Energy violation for  0  of the sessions.\n",
      "The objective result:  18098.76073848948\n",
      "On run:  94\n",
      "Energy violation for  0  of the sessions.\n",
      "The objective result:  15477.759344569673\n",
      "On run:  95\n",
      "Energy violation for  0  of the sessions.\n",
      "The objective result:  14893.944711662294\n",
      "On run:  96\n",
      "Energy violation for  0  of the sessions.\n",
      "The objective result:  21378.433387299687\n",
      "On run:  97\n",
      "Energy violation for  1  of the sessions.\n",
      "The objective result:  24849.93319446423\n",
      "On run:  98\n",
      "Energy violation for  0  of the sessions.\n",
      "The objective result:  19133.59651349004\n",
      "On run:  99\n",
      "Energy violation for  1  of the sessions.\n",
      "The objective result:  18661.71432006667\n"
     ]
    }
   ],
   "source": [
    "num_runs = 100\n",
    "county = 'San Francisco'\n",
    "baseline_profiles = np.zeros((96, num_runs))\n",
    "controlled_profiles = np.zeros((96, num_runs))\n",
    "saved_indices = np.zeros((200, num_runs))\n",
    "for i in range(num_runs):\n",
    "    print('On run: ', i)\n",
    "    \n",
    "    df, df_intervals, chosen_sessions = new_df_and_sessions(county, 200)\n",
    "    saved_indices[:, i] = chosen_sessions\n",
    "    power, arrival_inds, departure_inds, energies = uncontrolled_load(200, chosen_sessions, df, df_intervals, 6.6)\n",
    "    schedule, power = controlled_load(200, 6.6, arrival_inds, departure_inds, power, energies, energy_prices, \n",
    "                    rate_demand_peak, rate_demand_partpeak, rate_demand_overall, peak_inds, partpeak_inds)\n",
    "    \n",
    "    baseline_profiles[:, i] = np.sum(power, axis=1)\n",
    "    controlled_profiles[:, i] = np.sum(schedule, axis=1)"
   ]
  },
  {
   "cell_type": "code",
   "execution_count": 195,
   "metadata": {},
   "outputs": [
    {
     "data": {
      "text/plain": [
       "[<matplotlib.lines.Line2D at 0xb1ecb71d0>]"
      ]
     },
     "execution_count": 195,
     "metadata": {},
     "output_type": "execute_result"
    },
    {
     "data": {
      "image/png": "[encoded data removed]",
      "text/plain": [
       "<Figure size 432x288 with 1 Axes>"
      ]
     },
     "metadata": {
      "needs_background": "light"
     },
     "output_type": "display_data"
    }
   ],
   "source": [
    "plt.plot(0.25*np.arange(0, 96), controlled_profiles[:, 40])"
   ]
  },
  {
   "cell_type": "markdown",
   "metadata": {},
   "source": [
    "# Fitting?"
   ]
  },
  {
   "cell_type": "code",
   "execution_count": 149,
   "metadata": {},
   "outputs": [],
   "source": [
    "import sklearn\n",
    "from sklearn.model_selection import train_test_split\n",
    "from sklearn.linear_model import LinearRegression"
   ]
  },
  {
   "cell_type": "code",
   "execution_count": 196,
   "metadata": {},
   "outputs": [
    {
     "data": {
      "text/plain": [
       "0.8540913276109795"
      ]
     },
     "execution_count": 196,
     "metadata": {},
     "output_type": "execute_result"
    }
   ],
   "source": [
    "# Split data into train and test sets\n",
    "X_train, X_test, y_train, y_test = train_test_split(np.transpose(baseline_profiles), np.transpose(controlled_profiles), test_size=0.2, random_state=42)\n",
    "\n",
    "# Define and fit classifier\n",
    "clf = LinearRegression()\n",
    "clf.fit(X_train, y_train)\n",
    "\n",
    "# Score on test set\n",
    "clf.score(X_test, y_test)\n",
    "# Pretty good R^2 value with the linear regression model"
   ]
  },
  {
   "cell_type": "code",
   "execution_count": 197,
   "metadata": {},
   "outputs": [
    {
     "name": "stdout",
     "output_type": "stream",
     "text": [
      "Includes  20 samples.\n"
     ]
    }
   ],
   "source": [
    "# Predict on test set and inspect sample\n",
    "y_predicted = clf.predict(X_test)\n",
    "print('Includes ', np.shape(y_predicted)[0], 'samples.')"
   ]
  },
  {
   "cell_type": "code",
   "execution_count": 198,
   "metadata": {},
   "outputs": [
    {
     "data": {
      "image/png": "[encoded data removed]",
      "text/plain": [
       "<Figure size 432x288 with 1 Axes>"
      ]
     },
     "metadata": {
      "needs_background": "light"
     },
     "output_type": "display_data"
    }
   ],
   "source": [
    "which_test_sample = 2  # less than num test samples\n",
    "plt.figure()\n",
    "plt.plot(0.25*np.arange(0, 96), y_test[which_test_sample, :])\n",
    "plt.plot(0.25*np.arange(0, 96), y_predicted[which_test_sample, :])\n",
    "plt.xlabel('Hour')\n",
    "plt.xlim([0, 24])\n",
    "plt.show()"
   ]
  },
  {
   "cell_type": "code",
   "execution_count": 199,
   "metadata": {},
   "outputs": [
    {
     "data": {
      "image/png": "[encoded data removed]",
      "text/plain": [
       "<Figure size 432x288 with 1 Axes>"
      ]
     },
     "metadata": {
      "needs_background": "light"
     },
     "output_type": "display_data"
    }
   ],
   "source": [
    "which_test_sample = 10  # less than num test samples\n",
    "plt.figure()\n",
    "plt.plot(0.25*np.arange(0, 96), y_test[which_test_sample, :])\n",
    "plt.plot(0.25*np.arange(0, 96), y_predicted[which_test_sample, :])\n",
    "plt.xlabel('Hour')\n",
    "plt.xlim([0, 24])\n",
    "plt.show()"
   ]
  },
  {
   "cell_type": "code",
   "execution_count": 205,
   "metadata": {},
   "outputs": [
    {
     "data": {
      "image/png": "[encoded data removed]",
      "text/plain": [
       "<Figure size 432x288 with 1 Axes>"
      ]
     },
     "metadata": {
      "needs_background": "light"
     },
     "output_type": "display_data"
    }
   ],
   "source": [
    "which_test_sample = 14  # less than num test samples\n",
    "plt.figure()\n",
    "plt.plot(0.25*np.arange(0, 96), y_test[which_test_sample, :])\n",
    "plt.plot(0.25*np.arange(0, 96), y_predicted[which_test_sample, :])\n",
    "plt.xlabel('Hour')\n",
    "plt.xlim([0, 24])\n",
    "plt.show()"
   ]
  }
 ],
 "metadata": {
  "@webio": {
   "lastCommId": null,
   "lastKernelId": null
  },
  "kernelspec": {
   "display_name": "Python 3",
   "language": "python",
   "name": "python3"
  },
  "language_info": {
   "codemirror_mode": {
    "name": "ipython",
    "version": 3
   },
   "file_extension": ".py",
   "mimetype": "text/x-python",
   "name": "python",
   "nbconvert_exporter": "python",
   "pygments_lexer": "ipython3",
   "version": "3.7.0"
  }
 },
 "nbformat": 4,
 "nbformat_minor": 2
}
