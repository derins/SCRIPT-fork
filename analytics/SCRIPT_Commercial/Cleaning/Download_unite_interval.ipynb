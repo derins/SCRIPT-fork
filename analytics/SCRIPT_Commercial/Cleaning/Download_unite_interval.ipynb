{
 "cells": [
  {
   "cell_type": "code",
   "execution_count": 1,
   "metadata": {},
   "outputs": [],
   "source": [
    "# Download and unite Interval data"
   ]
  },
  {
   "cell_type": "code",
   "execution_count": 2,
   "metadata": {},
   "outputs": [],
   "source": [
    "import sys\n",
    "import pandas as pd\n",
    "# from datetime import datetime\n",
    "# import numpy as np\n",
    "# from sqlalchemy import create_engine\n",
    "# import mysql.connector\n",
    "import boto3\n",
    "import botocore"
   ]
  },
  {
   "cell_type": "code",
   "execution_count": 3,
   "metadata": {},
   "outputs": [],
   "source": [
    "BUCKET_NAME = 'script.chargepoint' # replace with your bucket name\n",
    "\n",
    "KEY = 'Charging_Session_SLAC.csv'\n",
    "\n",
    "OUT_NAME = 'sessions.csv'"
   ]
  },
  {
   "cell_type": "code",
   "execution_count": 4,
   "metadata": {},
   "outputs": [],
   "source": [
    "def s3_file_download(bucket_name, file_name, file_out_name):\n",
    "    s3 = boto3.resource('s3')\n",
    "    try:\n",
    "        s3.Bucket(bucket_name).download_file(file_name, file_out_name)\n",
    "    except botocore.exceptions.ClientError as e:\n",
    "        if e.response['Error']['Code'] == \"404\":\n",
    "            print(\"The object does not exist.\")\n",
    "        else:\n",
    "            raise"
   ]
  },
  {
   "cell_type": "code",
   "execution_count": 5,
   "metadata": {},
   "outputs": [],
   "source": [
    "def get_s3_keys(bucket):\n",
    "    \"\"\"Get a list of keys in an S3 bucket.\"\"\"\n",
    "    s3 = boto3.client('s3')\n",
    "    keys = []\n",
    "    resp = s3.list_objects_v2(Bucket=bucket)\n",
    "    for obj in resp['Contents']:\n",
    "        keys.append(obj['Key'])\n",
    "    return keys"
   ]
  },
  {
   "cell_type": "code",
   "execution_count": null,
   "metadata": {},
   "outputs": [],
   "source": [
    "# Download all files and make them one"
   ]
  },
  {
   "cell_type": "code",
   "execution_count": 6,
   "metadata": {},
   "outputs": [
    {
     "name": "stdout",
     "output_type": "stream",
     "text": [
      "['Charging_Session_Interval_SLAC_ALAMEDA.csv', 'Charging_Session_Interval_SLAC_CONTRACOSTA.csv', 'Charging_Session_Interval_SLAC_MARIN.csv', 'Charging_Session_Interval_SLAC_NAPA.csv', 'Charging_Session_Interval_SLAC_SANFRANCISCO.csv', 'Charging_Session_Interval_SLAC_SANMATEO.csv', 'Charging_Session_Interval_SLAC_SANTACLARA.csv', 'Charging_Session_Interval_SLAC_SOLANO.csv', 'Charging_Session_Interval_SLAC_SONOMA.csv']\n"
     ]
    }
   ],
   "source": [
    "keys = get_s3_keys(BUCKET_NAME)\n",
    "interval_keys = [key for key in keys if \"Interval\" in key]\n",
    "print(interval_keys)"
   ]
  },
  {
   "cell_type": "code",
   "execution_count": 7,
   "metadata": {},
   "outputs": [
    {
     "name": "stdout",
     "output_type": "stream",
     "text": [
      "Charging_Session_Interval_SLAC_ALAMEDA.csv\n",
      "Charging_Session_Interval_SLAC_CONTRACOSTA.csv\n",
      "Charging_Session_Interval_SLAC_MARIN.csv\n",
      "Charging_Session_Interval_SLAC_NAPA.csv\n",
      "Charging_Session_Interval_SLAC_SANFRANCISCO.csv\n",
      "Charging_Session_Interval_SLAC_SANMATEO.csv\n",
      "Charging_Session_Interval_SLAC_SANTACLARA.csv\n",
      "Charging_Session_Interval_SLAC_SOLANO.csv\n",
      "Charging_Session_Interval_SLAC_SONOMA.csv\n"
     ]
    }
   ],
   "source": [
    "for key in interval_keys:\n",
    "    print(key)\n",
    "    s3_file_download(BUCKET_NAME, key, key)"
   ]
  },
  {
   "cell_type": "code",
   "execution_count": null,
   "metadata": {},
   "outputs": [],
   "source": [
    "fout=open(\"intervals.csv\",\"a\")\n",
    "# first file:\n",
    "for line in open(interval_keys[0]):\n",
    "    fout.write(line)\n",
    "# now the rest:    \n",
    "for key in interval_keys[1:]:\n",
    "    print(key)\n",
    "    f = open(key)\n",
    "    f.__next__() # skip the header\n",
    "    for line in f:\n",
    "         fout.write(line)\n",
    "    f.close() # not really needed\n",
    "fout.close()"
   ]
  },
  {
   "cell_type": "code",
   "execution_count": null,
   "metadata": {},
   "outputs": [],
   "source": []
  }
 ],
 "metadata": {
  "kernelspec": {
   "display_name": "edapy3",
   "language": "python",
   "name": "edapy3"
  },
  "language_info": {
   "codemirror_mode": {
    "name": "ipython",
    "version": 3
   },
   "file_extension": ".py",
   "mimetype": "text/x-python",
   "name": "python",
   "nbconvert_exporter": "python",
   "pygments_lexer": "ipython3",
   "version": "3.7.2"
  }
 },
 "nbformat": 4,
 "nbformat_minor": 2
}
