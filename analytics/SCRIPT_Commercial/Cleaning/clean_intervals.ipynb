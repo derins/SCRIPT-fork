{
 "cells": [
  {
   "cell_type": "code",
   "execution_count": 1,
   "metadata": {},
   "outputs": [],
   "source": [
    "import pandas as pd\n",
    "%matplotlib inline\n",
    "import mpld3\n",
    "mpld3.enable_notebook()\n",
    "import numpy as np \n",
    "import matplotlib.pyplot as plt"
   ]
  },
  {
   "cell_type": "markdown",
   "metadata": {},
   "source": [
    "# Clean, Transform, Save INTERVAL Data\n",
    "\n",
    "## Clean\n",
    "\n",
    "* 0 - Remove all Intervals with Zero or Negative Energy (End of a session is captured in session data)\n",
    "* 1 - Remove intervals of duration less than 1 second\n",
    "* 2 - Replace negative energy values with zero\n",
    "* 3a - Ignore interval data with super high “Power” (limit to station max: 50kW) -> Assuming power data is in kW. \n",
    "* 3b - Also limit maximal energy, to 50kW times Interval-duration\n",
    "\n",
    "* optional: Sort by session ID and interval ID\n",
    "* optional: round to 4 decimals\n",
    "\n",
    "Note: only done for non-fleet.\n",
    "\n",
    "Note:\n",
    "Some of the intervals in a session might be missing in a few cases because the data was not stored/captured\n",
    "Ideally “Session Time” and sum of “Interval Duration” should match, if it does not, please use “Session Time”"
   ]
  },
  {
   "cell_type": "code",
   "execution_count": 2,
   "metadata": {},
   "outputs": [],
   "source": [
    "# do verbose sanity checks, and do not save in the end\n",
    "test = False"
   ]
  },
  {
   "cell_type": "code",
   "execution_count": 3,
   "metadata": {},
   "outputs": [],
   "source": [
    "# Loading data into pandas dataframe\n",
    "path = \"../../data/\"\n",
    "file_names = [\n",
    "    'Charging_Session_Interval_SLAC_ALAMEDA.csv', \n",
    "    'Charging_Session_Interval_SLAC_CONTRACOSTA.csv', \n",
    "    'Charging_Session_Interval_SLAC_MARIN.csv', \n",
    "    'Charging_Session_Interval_SLAC_NAPA.csv', \n",
    "    'Charging_Session_Interval_SLAC_SANFRANCISCO.csv', \n",
    "    'Charging_Session_Interval_SLAC_SANMATEO.csv', \n",
    "    'Charging_Session_Interval_SLAC_SANTACLARA.csv',\n",
    "    'Charging_Session_Interval_SLAC_SOLANO.csv', \n",
    "    'Charging_Session_Interval_SLAC_SONOMA.csv'\n",
    "]\n",
    "    \n",
    "if test:\n",
    "    nrows = 1e6\n",
    "else:\n",
    "    nrows = None\n",
    "\n",
    "col_types = {\n",
    "    'Interval ID': int, \n",
    "    'Session ID': int, \n",
    "    'Interval Start Time (Local)': str, \n",
    "    'Interval Duration (Secs)': int, \n",
    "    'Peak Power': float, \n",
    "    'Average Power': float, \n",
    "    'Interval Energy':float\n",
    "}\n",
    "    \n",
    "def get_csv(file, dtype=None):\n",
    "    print(\"Reading {} rows of dataframe {}\".format(nrows if nrows is not None else \"ALL\", file))\n",
    "    return pd.read_csv(file, index_col=False, nrows=nrows, dtype=dtype)"
   ]
  },
  {
   "cell_type": "code",
   "execution_count": 4,
   "metadata": {},
   "outputs": [
    {
     "name": "stdout",
     "output_type": "stream",
     "text": [
      "Reading ALL rows of dataframe ../../data/Charging_Session_Interval_SLAC_ALAMEDA.csv\n",
      "Reading ALL rows of dataframe ../../data/Charging_Session_Interval_SLAC_CONTRACOSTA.csv\n",
      "Reading ALL rows of dataframe ../../data/Charging_Session_Interval_SLAC_MARIN.csv\n",
      "Reading ALL rows of dataframe ../../data/Charging_Session_Interval_SLAC_NAPA.csv\n",
      "Reading ALL rows of dataframe ../../data/Charging_Session_Interval_SLAC_SANFRANCISCO.csv\n",
      "Reading ALL rows of dataframe ../../data/Charging_Session_Interval_SLAC_SANMATEO.csv\n",
      "Reading ALL rows of dataframe ../../data/Charging_Session_Interval_SLAC_SANTACLARA.csv\n",
      "Reading ALL rows of dataframe ../../data/Charging_Session_Interval_SLAC_SOLANO.csv\n",
      "Reading ALL rows of dataframe ../../data/Charging_Session_Interval_SLAC_SONOMA.csv\n",
      "concatenate dataframes\n"
     ]
    }
   ],
   "source": [
    "df_raw_list = [get_csv(path + f, dtype=col_types) for f in file_names]\n",
    "print(\"concatenate dataframes\")\n",
    "df_raw = pd.concat(df_raw_list, ignore_index=True)\n",
    "\n",
    "if test:\n",
    "    df = df_raw.copy(deep=True)"
   ]
  },
  {
   "cell_type": "code",
   "execution_count": 5,
   "metadata": {},
   "outputs": [
    {
     "name": "stdout",
     "output_type": "stream",
     "text": [
      "Len of CSV:  227656337\n",
      "Columns:  ['Interval ID', 'Session ID', 'Interval Start Time (Local)', 'Interval Duration (Secs)', 'Peak Power', 'Average Power', 'Interval Energy']\n"
     ]
    }
   ],
   "source": [
    "# List all column headers\n",
    "\n",
    "print(\"Len of CSV: \", len(df_raw.index))\n",
    "print(\"Columns: \", list(df_raw))"
   ]
  },
  {
   "cell_type": "code",
   "execution_count": 6,
   "metadata": {},
   "outputs": [
    {
     "data": {
      "text/html": [
       "<div>\n",
       "<style scoped>\n",
       "    .dataframe tbody tr th:only-of-type {\n",
       "        vertical-align: middle;\n",
       "    }\n",
       "\n",
       "    .dataframe tbody tr th {\n",
       "        vertical-align: top;\n",
       "    }\n",
       "\n",
       "    .dataframe thead th {\n",
       "        text-align: right;\n",
       "    }\n",
       "</style>\n",
       "<table border=\"1\" class=\"dataframe\">\n",
       "  <thead>\n",
       "    <tr style=\"text-align: right;\">\n",
       "      <th></th>\n",
       "      <th>Interval ID</th>\n",
       "      <th>Session ID</th>\n",
       "      <th>Interval Start Time (Local)</th>\n",
       "      <th>Interval Duration (Secs)</th>\n",
       "      <th>Peak Power</th>\n",
       "      <th>Average Power</th>\n",
       "      <th>Interval Energy</th>\n",
       "    </tr>\n",
       "  </thead>\n",
       "  <tbody>\n",
       "    <tr>\n",
       "      <th>0</th>\n",
       "      <td>999998925</td>\n",
       "      <td>42092073</td>\n",
       "      <td>2016-04-07 10:30:00.0</td>\n",
       "      <td>852</td>\n",
       "      <td>0.0000</td>\n",
       "      <td>0.0000</td>\n",
       "      <td>0.000000</td>\n",
       "    </tr>\n",
       "    <tr>\n",
       "      <th>1</th>\n",
       "      <td>999998923</td>\n",
       "      <td>42092073</td>\n",
       "      <td>2016-04-07 10:15:00.0</td>\n",
       "      <td>900</td>\n",
       "      <td>0.0000</td>\n",
       "      <td>0.0000</td>\n",
       "      <td>0.000000</td>\n",
       "    </tr>\n",
       "    <tr>\n",
       "      <th>2</th>\n",
       "      <td>999998921</td>\n",
       "      <td>42092073</td>\n",
       "      <td>2016-04-07 10:00:00.0</td>\n",
       "      <td>900</td>\n",
       "      <td>1.3197</td>\n",
       "      <td>0.1566</td>\n",
       "      <td>0.039161</td>\n",
       "    </tr>\n",
       "    <tr>\n",
       "      <th>3</th>\n",
       "      <td>999998919</td>\n",
       "      <td>42092073</td>\n",
       "      <td>2016-04-07 09:45:00.0</td>\n",
       "      <td>900</td>\n",
       "      <td>1.4680</td>\n",
       "      <td>0.3375</td>\n",
       "      <td>0.084379</td>\n",
       "    </tr>\n",
       "    <tr>\n",
       "      <th>4</th>\n",
       "      <td>999998917</td>\n",
       "      <td>42092073</td>\n",
       "      <td>2016-04-07 09:30:00.0</td>\n",
       "      <td>900</td>\n",
       "      <td>1.6033</td>\n",
       "      <td>0.5034</td>\n",
       "      <td>0.125838</td>\n",
       "    </tr>\n",
       "    <tr>\n",
       "      <th>5</th>\n",
       "      <td>999998915</td>\n",
       "      <td>42092073</td>\n",
       "      <td>2016-04-07 09:15:00.0</td>\n",
       "      <td>900</td>\n",
       "      <td>2.2783</td>\n",
       "      <td>1.2577</td>\n",
       "      <td>0.314425</td>\n",
       "    </tr>\n",
       "    <tr>\n",
       "      <th>6</th>\n",
       "      <td>999998913</td>\n",
       "      <td>42092073</td>\n",
       "      <td>2016-04-07 09:00:00.0</td>\n",
       "      <td>900</td>\n",
       "      <td>5.8166</td>\n",
       "      <td>3.7041</td>\n",
       "      <td>0.926022</td>\n",
       "    </tr>\n",
       "    <tr>\n",
       "      <th>7</th>\n",
       "      <td>999998911</td>\n",
       "      <td>42092073</td>\n",
       "      <td>2016-04-07 08:45:00.0</td>\n",
       "      <td>900</td>\n",
       "      <td>5.8681</td>\n",
       "      <td>5.8265</td>\n",
       "      <td>1.456619</td>\n",
       "    </tr>\n",
       "    <tr>\n",
       "      <th>8</th>\n",
       "      <td>999998909</td>\n",
       "      <td>42092073</td>\n",
       "      <td>2016-04-07 08:30:00.0</td>\n",
       "      <td>900</td>\n",
       "      <td>5.8846</td>\n",
       "      <td>5.8664</td>\n",
       "      <td>1.466605</td>\n",
       "    </tr>\n",
       "    <tr>\n",
       "      <th>9</th>\n",
       "      <td>999998907</td>\n",
       "      <td>42092073</td>\n",
       "      <td>2016-04-07 08:15:00.0</td>\n",
       "      <td>900</td>\n",
       "      <td>5.8888</td>\n",
       "      <td>5.8598</td>\n",
       "      <td>1.464958</td>\n",
       "    </tr>\n",
       "  </tbody>\n",
       "</table>\n",
       "</div>"
      ],
      "text/plain": [
       "   Interval ID  Session ID Interval Start Time (Local)  \\\n",
       "0    999998925    42092073       2016-04-07 10:30:00.0   \n",
       "1    999998923    42092073       2016-04-07 10:15:00.0   \n",
       "2    999998921    42092073       2016-04-07 10:00:00.0   \n",
       "3    999998919    42092073       2016-04-07 09:45:00.0   \n",
       "4    999998917    42092073       2016-04-07 09:30:00.0   \n",
       "5    999998915    42092073       2016-04-07 09:15:00.0   \n",
       "6    999998913    42092073       2016-04-07 09:00:00.0   \n",
       "7    999998911    42092073       2016-04-07 08:45:00.0   \n",
       "8    999998909    42092073       2016-04-07 08:30:00.0   \n",
       "9    999998907    42092073       2016-04-07 08:15:00.0   \n",
       "\n",
       "   Interval Duration (Secs)  Peak Power  Average Power  Interval Energy  \n",
       "0                       852      0.0000         0.0000         0.000000  \n",
       "1                       900      0.0000         0.0000         0.000000  \n",
       "2                       900      1.3197         0.1566         0.039161  \n",
       "3                       900      1.4680         0.3375         0.084379  \n",
       "4                       900      1.6033         0.5034         0.125838  \n",
       "5                       900      2.2783         1.2577         0.314425  \n",
       "6                       900      5.8166         3.7041         0.926022  \n",
       "7                       900      5.8681         5.8265         1.456619  \n",
       "8                       900      5.8846         5.8664         1.466605  \n",
       "9                       900      5.8888         5.8598         1.464958  "
      ]
     },
     "execution_count": 6,
     "metadata": {},
     "output_type": "execute_result"
    }
   ],
   "source": [
    "df_raw.head(10)"
   ]
  },
  {
   "cell_type": "markdown",
   "metadata": {},
   "source": [
    "# Helper Fun"
   ]
  },
  {
   "cell_type": "code",
   "execution_count": 7,
   "metadata": {},
   "outputs": [],
   "source": [
    "def apply_inplace(df, field, fun):\n",
    "    return pd.concat([df.drop(field, axis=1), df[field].apply(fun)], axis=1) "
   ]
  },
  {
   "cell_type": "code",
   "execution_count": 8,
   "metadata": {},
   "outputs": [],
   "source": [
    "def remove_less_or_equal(data, col, threshold):\n",
    "    print(\"removing {} occurences of {} of less than {}\".format(sum(data[col] <= threshold), col, threshold))\n",
    "    return data[data[col] > threshold]"
   ]
  },
  {
   "cell_type": "code",
   "execution_count": 9,
   "metadata": {},
   "outputs": [],
   "source": [
    "def remove_less_than(data, col, threshold):\n",
    "    print(\"removing {} occurences of {} of less than {}\".format(sum(data[col] < threshold), col, threshold))\n",
    "    return data[data[col] >= threshold]"
   ]
  },
  {
   "cell_type": "markdown",
   "metadata": {},
   "source": [
    "# Clean 0 - Remove Intervals with Zero or negative Energy"
   ]
  },
  {
   "cell_type": "code",
   "execution_count": 10,
   "metadata": {},
   "outputs": [],
   "source": [
    "if test:\n",
    "    data = df.copy(deep=True)\n",
    "    zeros = sum(data[\"Interval Energy\"] == 0.0)\n",
    "    print(\"Percentage Zero-Energy:\", zeros/len(df))\n",
    "    data = data[data[\"Interval Energy\"] > 0.0]\n",
    "    near_zero = sum(data[\"Interval Energy\"] < 0.01)\n",
    "    print(\"Percentage Near Zero-Energy:\", near_zero/len(df)) "
   ]
  },
  {
   "cell_type": "code",
   "execution_count": 11,
   "metadata": {},
   "outputs": [],
   "source": [
    "# def remove_zero_entries(data, col):\n",
    "#     zeros = sum(data[col]] == 0.0)\n",
    "#     print(\"removing Zero-energy entries: in percent of all:\", zeros/len(data))\n",
    "#     return data[data[col] != 0.0]"
   ]
  },
  {
   "cell_type": "code",
   "execution_count": 12,
   "metadata": {},
   "outputs": [],
   "source": [
    "if test:\n",
    "    # keep all non-zero entries, saves about half of the space\n",
    "#     df = remove_zero_entries(df, col=\"Interval Energy\")\n",
    "    # also remove all negative entries\n",
    "    df = remove_less_or_equal(df, col=\"Interval Energy\", threshold=0.0)"
   ]
  },
  {
   "cell_type": "code",
   "execution_count": null,
   "metadata": {},
   "outputs": [],
   "source": []
  },
  {
   "cell_type": "markdown",
   "metadata": {},
   "source": [
    "# Clean 1 - Remove intervals of length 0"
   ]
  },
  {
   "cell_type": "code",
   "execution_count": 13,
   "metadata": {},
   "outputs": [],
   "source": [
    "def remove_less_than(data, col, threshold):\n",
    "    print(\"removing {} occurences of {} of less than {}\".format(sum(data[col] < threshold), col, threshold))\n",
    "    return data[data[col] > threshold]"
   ]
  },
  {
   "cell_type": "code",
   "execution_count": 14,
   "metadata": {},
   "outputs": [],
   "source": [
    "if test:\n",
    "    df = remove_less_than(df, col='Interval Duration (Secs)', threshold=1)"
   ]
  },
  {
   "cell_type": "markdown",
   "metadata": {},
   "source": [
    "# Clean 2 - Replace negative Power with 0"
   ]
  },
  {
   "cell_type": "code",
   "execution_count": 15,
   "metadata": {},
   "outputs": [],
   "source": [
    "def replace_neg_with_zero(data, col):\n",
    "    print(\"In {}, {} negative entries were replaced with 0\".format(col, sum(data[col] < 0)))\n",
    "    fun = lambda x: x if (x > 0) else 0.0\n",
    "    return apply_inplace(data, col, fun)"
   ]
  },
  {
   "cell_type": "code",
   "execution_count": 16,
   "metadata": {},
   "outputs": [],
   "source": [
    "if test:\n",
    "    df = replace_neg_with_zero(df, col='Peak Power')\n",
    "    df = replace_neg_with_zero(df, col='Average Power')\n",
    "    # already dropped:\n",
    "#     df = replace_neg_with_zero(df, col='Interval Energy')"
   ]
  },
  {
   "cell_type": "markdown",
   "metadata": {},
   "source": [
    "# Clean 3 - Limit Peak / Avg Power and Interval Energy"
   ]
  },
  {
   "cell_type": "code",
   "execution_count": 17,
   "metadata": {},
   "outputs": [],
   "source": [
    "if test:\n",
    "    data = df.copy(deep=True)\n",
    "    print(\"found {} entries where data['Average Power'] > 0.1 + data['Peak Power']\".format(\n",
    "        sum(data['Average Power'] > 0.1 + data['Peak Power'])))\n",
    "    # print(len(data))\n",
    "#     print(data[data['Average Power'] > data['Peak Power']].drop(\n",
    "#         columns=[\"Interval ID\", \"Session ID\", \"start_datetime\", \"start_time_seconds\"]).head(20))"
   ]
  },
  {
   "cell_type": "code",
   "execution_count": 18,
   "metadata": {},
   "outputs": [],
   "source": [
    "def limit_power(data, col, threshold):\n",
    "    print(\"In {}, {} extreme entries were replaced with {}\".format(col, sum(data[col] > threshold), threshold))\n",
    "    fun = lambda x: min(x, threshold)\n",
    "    return apply_inplace(data, col, fun)"
   ]
  },
  {
   "cell_type": "code",
   "execution_count": 19,
   "metadata": {},
   "outputs": [],
   "source": [
    "def limit_energy_sophisticated(data, threshold):\n",
    "    assert sum(data['Interval Duration (Secs)'] == 0) == 0\n",
    "    col = 'Interval Energy'\n",
    "    col_s = 'Interval Duration (Secs)'\n",
    "    to_replace = data[col]  > (threshold/3600)*data[col_s]\n",
    "    print(\"In {}, {} extreme entries were replaced with {}\".format(col, sum(to_replace), threshold))\n",
    "    data.loc[:, col] = np.minimum(data[col], (threshold/3600)*data[col_s])\n",
    "    return data"
   ]
  },
  {
   "cell_type": "code",
   "execution_count": 20,
   "metadata": {},
   "outputs": [],
   "source": [
    "if test:\n",
    "    df = limit_power(df, col='Peak Power', threshold=50)\n",
    "    df = limit_power(df, col='Average Power', threshold=50)\n",
    "    # df = limit_power(df, col='Interval Energy, threshold=50/4.0)\n",
    "    df = limit_energy_sophisticated(df, threshold=50)"
   ]
  },
  {
   "cell_type": "markdown",
   "metadata": {},
   "source": [
    "# Sort values  by session ID, interval ID"
   ]
  },
  {
   "cell_type": "code",
   "execution_count": 21,
   "metadata": {},
   "outputs": [],
   "source": [
    "if test:\n",
    "    df = df.sort_values(by=[\"Session ID\", \"Interval ID\"], axis=0, ascending=True)"
   ]
  },
  {
   "cell_type": "code",
   "execution_count": 22,
   "metadata": {},
   "outputs": [],
   "source": [
    "# df.head(10)"
   ]
  },
  {
   "cell_type": "markdown",
   "metadata": {},
   "source": [
    "# Simplify dataset for easier joining"
   ]
  },
  {
   "cell_type": "code",
   "execution_count": 23,
   "metadata": {},
   "outputs": [],
   "source": [
    "if test:\n",
    "    data = df.copy(deep=True)\n",
    "    print(\"fraction of incomplete intervals:\", sum(data[\"Interval Duration (Secs)\"] != 900)/len(data))\n",
    "# Note: too many. skipped."
   ]
  },
  {
   "cell_type": "markdown",
   "metadata": {},
   "source": [
    "## Round to 4 decimals"
   ]
  },
  {
   "cell_type": "code",
   "execution_count": null,
   "metadata": {},
   "outputs": [],
   "source": [
    "if test:\n",
    "    decimals = {\n",
    "        'Interval Energy': 4, \n",
    "        'Peak Power': 4, \n",
    "        'Average Power': 4,\n",
    "    }\n",
    "    df = df.round(decimals=decimals)"
   ]
  },
  {
   "cell_type": "markdown",
   "metadata": {},
   "source": [
    "# All in one function"
   ]
  },
  {
   "cell_type": "code",
   "execution_count": 24,
   "metadata": {},
   "outputs": [],
   "source": [
    "def clean_intervals(df):\n",
    "    \"\"\"\n",
    "    * 0 - Remove all Intervals with Zero or Negative Energy (End of a session is captured in session data)\n",
    "    * 1 - Remove intervals of duration less than 1 second\n",
    "    * 2 - Replace negative energy values with zero\n",
    "    * 3a - Ignore interval data with super high “Power” (limit to station max: 50kW) -> Assuming power data is in kW. \n",
    "    * 3b - Also limit maximal energy, to 50kW times Interval-duration\n",
    "    * optional: Sort by session ID and interval ID\n",
    "    * optional: round to 4 decimals\n",
    "    \"\"\"\n",
    "    # 0\n",
    "    df = remove_less_or_equal(df, col=\"Interval Energy\", threshold=0.0)\n",
    "    \n",
    "    # 1\n",
    "    df = remove_less_than(df, col='Interval Duration (Secs)', threshold=1)\n",
    "    \n",
    "    # 2\n",
    "    df = replace_neg_with_zero(df, col='Peak Power')\n",
    "    df = replace_neg_with_zero(df, col='Average Power')\n",
    "    df = replace_neg_with_zero(df, col='Interval Energy')\n",
    "    \n",
    "    # 3\n",
    "    df = limit_power(df, col='Peak Power', threshold=50)\n",
    "    df = limit_power(df, col='Average Power', threshold=50)\n",
    "    # df = limit_power(df, col='Interval Energy, threshold=50/4.0)\n",
    "    df = limit_energy_sophisticated(df, threshold=50)\n",
    "    \n",
    "    # sort\n",
    "    df = df.sort_values(by=[\"Session ID\", \"Interval ID\"], axis=0, ascending=True)\n",
    "    \n",
    "    # round to 4 decimals\n",
    "    df = df.round(decimals={'Interval Energy': 4,'Peak Power': 4,'Average Power': 4,})\n",
    "    return df"
   ]
  },
  {
   "cell_type": "code",
   "execution_count": 25,
   "metadata": {},
   "outputs": [
    {
     "name": "stdout",
     "output_type": "stream",
     "text": [
      "removing 96780327 occurences of Interval Energy of less than 0.0\n",
      "removing 550 occurences of Interval Duration (Secs) of less than 1\n",
      "In Peak Power, 0 negative entries were replaced with 0\n",
      "In Average Power, 0 negative entries were replaced with 0\n",
      "In Interval Energy, 0 negative entries were replaced with 0\n",
      "In Peak Power, 1272 extreme entries were replaced with 50\n",
      "In Average Power, 6797 extreme entries were replaced with 50\n",
      "In Interval Energy, 105518 extreme entries were replaced with 50\n",
      "change in size: 0.5748010080650643\n"
     ]
    }
   ],
   "source": [
    "if not test:\n",
    "    df_clean = clean_intervals(df_raw)\n",
    "    print(\"change in size:\",  len(df_clean)/len(df_raw))"
   ]
  },
  {
   "cell_type": "code",
   "execution_count": 26,
   "metadata": {},
   "outputs": [
    {
     "data": {
      "text/html": [
       "<div>\n",
       "<style scoped>\n",
       "    .dataframe tbody tr th:only-of-type {\n",
       "        vertical-align: middle;\n",
       "    }\n",
       "\n",
       "    .dataframe tbody tr th {\n",
       "        vertical-align: top;\n",
       "    }\n",
       "\n",
       "    .dataframe thead th {\n",
       "        text-align: right;\n",
       "    }\n",
       "</style>\n",
       "<table border=\"1\" class=\"dataframe\">\n",
       "  <thead>\n",
       "    <tr style=\"text-align: right;\">\n",
       "      <th></th>\n",
       "      <th>Interval ID</th>\n",
       "      <th>Session ID</th>\n",
       "      <th>Interval Start Time (Local)</th>\n",
       "      <th>Interval Duration (Secs)</th>\n",
       "      <th>Interval Energy</th>\n",
       "      <th>Peak Power</th>\n",
       "      <th>Average Power</th>\n",
       "    </tr>\n",
       "  </thead>\n",
       "  <tbody>\n",
       "    <tr>\n",
       "      <th>99121841</th>\n",
       "      <td>5395236561</td>\n",
       "      <td>322361711</td>\n",
       "      <td>2018-11-01 14:00:00.0</td>\n",
       "      <td>900</td>\n",
       "      <td>0.912823</td>\n",
       "      <td>3.6639</td>\n",
       "      <td>3.6513</td>\n",
       "    </tr>\n",
       "    <tr>\n",
       "      <th>99121840</th>\n",
       "      <td>5395236571</td>\n",
       "      <td>322361711</td>\n",
       "      <td>2018-11-01 14:15:00.0</td>\n",
       "      <td>900</td>\n",
       "      <td>0.914189</td>\n",
       "      <td>3.6710</td>\n",
       "      <td>3.6568</td>\n",
       "    </tr>\n",
       "    <tr>\n",
       "      <th>99121839</th>\n",
       "      <td>5395236581</td>\n",
       "      <td>322361711</td>\n",
       "      <td>2018-11-01 14:30:00.0</td>\n",
       "      <td>900</td>\n",
       "      <td>0.825795</td>\n",
       "      <td>3.6731</td>\n",
       "      <td>3.3032</td>\n",
       "    </tr>\n",
       "    <tr>\n",
       "      <th>99121838</th>\n",
       "      <td>5395236591</td>\n",
       "      <td>322361711</td>\n",
       "      <td>2018-11-01 14:45:00.0</td>\n",
       "      <td>900</td>\n",
       "      <td>0.239451</td>\n",
       "      <td>2.3307</td>\n",
       "      <td>0.9578</td>\n",
       "    </tr>\n",
       "    <tr>\n",
       "      <th>45538186</th>\n",
       "      <td>5395337001</td>\n",
       "      <td>322361931</td>\n",
       "      <td>2018-11-01 16:43:13.0</td>\n",
       "      <td>409</td>\n",
       "      <td>0.174384</td>\n",
       "      <td>7.2902</td>\n",
       "      <td>5.8671</td>\n",
       "    </tr>\n",
       "    <tr>\n",
       "      <th>45538185</th>\n",
       "      <td>5395337021</td>\n",
       "      <td>322361931</td>\n",
       "      <td>2018-11-01 16:45:00.0</td>\n",
       "      <td>302</td>\n",
       "      <td>0.614609</td>\n",
       "      <td>7.2657</td>\n",
       "      <td>7.3265</td>\n",
       "    </tr>\n",
       "    <tr>\n",
       "      <th>18939627</th>\n",
       "      <td>5395364001</td>\n",
       "      <td>322364701</td>\n",
       "      <td>2018-11-01 16:47:55.0</td>\n",
       "      <td>297</td>\n",
       "      <td>0.240006</td>\n",
       "      <td>3.2350</td>\n",
       "      <td>2.9092</td>\n",
       "    </tr>\n",
       "    <tr>\n",
       "      <th>99111946</th>\n",
       "      <td>5396681311</td>\n",
       "      <td>322369151</td>\n",
       "      <td>2018-11-01 15:20:49.0</td>\n",
       "      <td>87</td>\n",
       "      <td>0.072493</td>\n",
       "      <td>6.3909</td>\n",
       "      <td>2.9997</td>\n",
       "    </tr>\n",
       "    <tr>\n",
       "      <th>18939546</th>\n",
       "      <td>5395431721</td>\n",
       "      <td>322369461</td>\n",
       "      <td>2018-11-01 16:55:28.0</td>\n",
       "      <td>50</td>\n",
       "      <td>0.005531</td>\n",
       "      <td>2.9236</td>\n",
       "      <td>0.3982</td>\n",
       "    </tr>\n",
       "    <tr>\n",
       "      <th>18939418</th>\n",
       "      <td>5395620651</td>\n",
       "      <td>322370041</td>\n",
       "      <td>2018-11-01 16:56:29.0</td>\n",
       "      <td>131</td>\n",
       "      <td>0.006174</td>\n",
       "      <td>3.0560</td>\n",
       "      <td>0.1697</td>\n",
       "    </tr>\n",
       "  </tbody>\n",
       "</table>\n",
       "</div>"
      ],
      "text/plain": [
       "          Interval ID  Session ID Interval Start Time (Local)  \\\n",
       "99121841   5395236561   322361711       2018-11-01 14:00:00.0   \n",
       "99121840   5395236571   322361711       2018-11-01 14:15:00.0   \n",
       "99121839   5395236581   322361711       2018-11-01 14:30:00.0   \n",
       "99121838   5395236591   322361711       2018-11-01 14:45:00.0   \n",
       "45538186   5395337001   322361931       2018-11-01 16:43:13.0   \n",
       "45538185   5395337021   322361931       2018-11-01 16:45:00.0   \n",
       "18939627   5395364001   322364701       2018-11-01 16:47:55.0   \n",
       "99111946   5396681311   322369151       2018-11-01 15:20:49.0   \n",
       "18939546   5395431721   322369461       2018-11-01 16:55:28.0   \n",
       "18939418   5395620651   322370041       2018-11-01 16:56:29.0   \n",
       "\n",
       "          Interval Duration (Secs)  Interval Energy  Peak Power  Average Power  \n",
       "99121841                       900         0.912823      3.6639         3.6513  \n",
       "99121840                       900         0.914189      3.6710         3.6568  \n",
       "99121839                       900         0.825795      3.6731         3.3032  \n",
       "99121838                       900         0.239451      2.3307         0.9578  \n",
       "45538186                       409         0.174384      7.2902         5.8671  \n",
       "45538185                       302         0.614609      7.2657         7.3265  \n",
       "18939627                       297         0.240006      3.2350         2.9092  \n",
       "99111946                        87         0.072493      6.3909         2.9997  \n",
       "18939546                        50         0.005531      2.9236         0.3982  \n",
       "18939418                       131         0.006174      3.0560         0.1697  "
      ]
     },
     "execution_count": 26,
     "metadata": {},
     "output_type": "execute_result"
    }
   ],
   "source": [
    "df_clean.tail(10)"
   ]
  },
  {
   "cell_type": "markdown",
   "metadata": {
    "collapsed": true
   },
   "source": [
    "# save resulting data"
   ]
  },
  {
   "cell_type": "code",
   "execution_count": 27,
   "metadata": {},
   "outputs": [],
   "source": [
    "if not test:\n",
    "    print(\"saving\")\n",
    "    df_clean.to_csv(path + 'clean/' +'intervals_clean.csv',sep=',', index=False)"
   ]
  },
  {
   "cell_type": "code",
   "execution_count": null,
   "metadata": {},
   "outputs": [],
   "source": []
  }
 ],
 "metadata": {
  "kernelspec": {
   "display_name": "edapy3",
   "language": "python",
   "name": "edapy3"
  },
  "language_info": {
   "codemirror_mode": {
    "name": "ipython",
    "version": 3
   },
   "file_extension": ".py",
   "mimetype": "text/x-python",
   "name": "python",
   "nbconvert_exporter": "python",
   "pygments_lexer": "ipython3",
   "version": "3.7.2"
  }
 },
 "nbformat": 4,
 "nbformat_minor": 1
}
