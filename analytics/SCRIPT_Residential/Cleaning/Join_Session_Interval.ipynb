{
 "cells": [
  {
   "cell_type": "code",
   "execution_count": 1,
   "metadata": {},
   "outputs": [],
   "source": [
    "import pandas as pd\n",
    "import numpy as np\n",
    "from datetime import datetime\n",
    "import matplotlib.pyplot as plt\n",
    "import ast"
   ]
  },
  {
   "cell_type": "code",
   "execution_count": 2,
   "metadata": {},
   "outputs": [],
   "source": [
    "# do verbose sanity checks, and do not save in the end\n",
    "test = False\n",
    "save_paired = False\n",
    "save_merged = False\n",
    "save_merged_agg_session = False\n",
    "save_merged_agg_port = True\n",
    "\n",
    "# Loading data into pandas dataframe\n",
    "path = \"../../data/clean/\"\n",
    "\n",
    "if save_paired:\n",
    "    file_sessions = \"sessions_clean.csv\"\n",
    "    file_intervals = \"intervals_clean.csv\"\n",
    "else:\n",
    "    file_sessions = \"sessions_paired.csv\"\n",
    "    file_intervals = \"intervals_paired.csv\"    \n",
    "    \n",
    "if test:\n",
    "    nrows = 1e7\n",
    "else:\n",
    "    nrows = None\n",
    "    \n",
    "def get_csv(file):\n",
    "    print(\"Reading {} rows of {}\".format(nrows if nrows is not None else \"ALL\", file))\n",
    "    return pd.read_csv(path + file, index_col=False, nrows=nrows)"
   ]
  },
  {
   "cell_type": "code",
   "execution_count": 3,
   "metadata": {},
   "outputs": [
    {
     "name": "stdout",
     "output_type": "stream",
     "text": [
      "Reading ALL rows of sessions_paired.csv\n",
      "Reading ALL rows of intervals_paired.csv\n"
     ]
    }
   ],
   "source": [
    "session = get_csv(file_sessions)\n",
    "interval = get_csv(file_intervals)"
   ]
  },
  {
   "cell_type": "code",
   "execution_count": 4,
   "metadata": {},
   "outputs": [],
   "source": [
    "# sessions_raw = get_csv(file_sessions)\n",
    "# intervals_raw = get_csv(file_intervals)\n",
    "# session = sessions_raw.copy(deep=True)\n",
    "# interval = intervals_raw.copy(deep=True)"
   ]
  },
  {
   "cell_type": "code",
   "execution_count": 6,
   "metadata": {
    "scrolled": true
   },
   "outputs": [
    {
     "name": "stdout",
     "output_type": "stream",
     "text": [
      "['Interval ID', 'Session ID', 'Interval Start Time (Local)', 'Interval Duration (Secs)', 'Interval Energy', 'Peak Power', 'Average Power']\n",
      "['Session ID', 'Station ID', 'Port ID', 'Connector Type', 'POI Category', 'POI Subcategory', 'Session Time Zone', 'Session Time (secs)', 'Charging Time (secs)', 'Start SoC', 'End SoC', 'Full Charge', 'Energy (kWh)', 'Driver ID', 'Driver Zip', 'Vehicle Make', 'Vehicle Model', 'Battery Capacity', 'EV Type', '$ Fee', 'Fee Currency', 'Zip Code', 'City', 'County', 'State', 'Country', 'Driver City', 'Driver State', 'Driver Country', 'Max Power', 'Session Type', 'Vehicle Model Year', 'start_datetime', 'start_seconds', 'start_year', 'start_month', 'start_day', 'start_weekday']\n"
     ]
    }
   ],
   "source": [
    "print(list(interval))\n",
    "print(list(session))"
   ]
  },
  {
   "cell_type": "markdown",
   "metadata": {},
   "source": [
    "# Helper Fun"
   ]
  },
  {
   "cell_type": "code",
   "execution_count": 9,
   "metadata": {},
   "outputs": [],
   "source": [
    "def apply_inplace(df, field, fun):\n",
    "    return pd.concat([df.drop(field, axis=1), df[field].apply(fun)], axis=1) "
   ]
  },
  {
   "cell_type": "code",
   "execution_count": 10,
   "metadata": {},
   "outputs": [],
   "source": [
    "def str_list(x):\n",
    "    return str(list(x))"
   ]
  },
  {
   "cell_type": "markdown",
   "metadata": {},
   "source": [
    "# Remove Sessions and Intervals without a pair"
   ]
  },
  {
   "cell_type": "code",
   "execution_count": 11,
   "metadata": {},
   "outputs": [],
   "source": [
    "def remove_unpaired(session, interval):\n",
    "    # Getting unique session ID values from interval data\n",
    "    interval_session_IDs_unique = interval['Session ID'].unique()\n",
    "    session_IDs_unique = session['Session ID'].unique()\n",
    "    interval_set = set(interval_session_IDs_unique)\n",
    "    session_set = set(session_IDs_unique)\n",
    "    paired = interval_set.intersection(session_set)\n",
    "    print(\"Number of unique sessions ID in interval data: \", len(interval_session_IDs_unique))\n",
    "    print(\"Number of unique sessions ID in session data: \", len(session_IDs_unique))\n",
    "    print(\"Number of unique sessions ID in both: \", len(paired))\n",
    "\n",
    "    # Getting boolean array to check whether session ID from interval data is in session data\n",
    "    session_has_pair = session['Session ID'].isin(paired)\n",
    "    # Removing session IDs that are not part of interval data\n",
    "    session_with_pair = session[session_has_pair]\n",
    "    \n",
    "    # Getting boolean array removing interval data that got removed from session data cleaning\n",
    "    interval_has_pair = interval['Session ID'].isin(paired)\n",
    "    # Getting final interval data\n",
    "    interval_with_pair = interval[interval_has_pair]\n",
    "    \n",
    "    print(\"Change of unique sessions ID in session data: \", \n",
    "          len(session_with_pair['Session ID'].unique()) - session_IDs_unique)\n",
    "    print(\"change of unique sessions ID in interval data: \", \n",
    "          len(interval_with_pair['Session ID'].unique()) - interval_session_IDs_unique)\n",
    "    return session_with_pair, interval_with_pair\n"
   ]
  },
  {
   "cell_type": "code",
   "execution_count": 12,
   "metadata": {},
   "outputs": [],
   "source": [
    "if save_paired:\n",
    "    session, interval = remove_unpaired(session, interval)"
   ]
  },
  {
   "cell_type": "code",
   "execution_count": 13,
   "metadata": {},
   "outputs": [],
   "source": [
    "if save_paired:\n",
    "    print(\"resave paired sessions\")\n",
    "    session.to_csv(path +'sessions_paired.csv',sep=',', index=False)\n",
    "    print(\"resave paired intervals\")\n",
    "    interval.to_csv(path +'intervals_paired.csv', index=False)"
   ]
  },
  {
   "cell_type": "markdown",
   "metadata": {},
   "source": [
    "# Merge and save without aggregating"
   ]
  },
  {
   "cell_type": "code",
   "execution_count": 14,
   "metadata": {},
   "outputs": [],
   "source": [
    "merged = pd.merge(left=session, right=interval, on='Session ID')"
   ]
  },
  {
   "cell_type": "code",
   "execution_count": null,
   "metadata": {},
   "outputs": [],
   "source": [
    "if save_merged:\n",
    "    print(\"save merged\")\n",
    "    merged.to_csv(path +'merged.csv',sep=',', index=False)\n",
    "    print(\"done\")"
   ]
  },
  {
   "cell_type": "markdown",
   "metadata": {},
   "source": [
    "# Experiments"
   ]
  },
  {
   "cell_type": "code",
   "execution_count": 8,
   "metadata": {},
   "outputs": [],
   "source": [
    "# interval['start_datetime'] = interval['start_datetime'].apply(\n",
    "#     lambda x: datetime.strptime(x, \"%Y-%m-%d %H:%M:%S\"))"
   ]
  },
  {
   "cell_type": "code",
   "execution_count": 9,
   "metadata": {},
   "outputs": [],
   "source": [
    "# naming collisions\n",
    "# list(set(list(interval)).intersection(list(session)))"
   ]
  },
  {
   "cell_type": "code",
   "execution_count": 10,
   "metadata": {},
   "outputs": [],
   "source": [
    "# interval.rename(columns={'start_datetime': 'interval_datetime'}, inplace=True)"
   ]
  },
  {
   "cell_type": "code",
   "execution_count": 11,
   "metadata": {},
   "outputs": [],
   "source": [
    "# interval = interval.drop(columns=['start_time_seconds'])"
   ]
  },
  {
   "cell_type": "code",
   "execution_count": 12,
   "metadata": {},
   "outputs": [],
   "source": [
    "# list(set(list(interval)).intersection(list(session)))"
   ]
  },
  {
   "cell_type": "code",
   "execution_count": 13,
   "metadata": {},
   "outputs": [],
   "source": [
    "# Merge"
   ]
  },
  {
   "cell_type": "code",
   "execution_count": 14,
   "metadata": {},
   "outputs": [],
   "source": [
    "# data = pd.merge(left=session, right=interval, on='Session ID')"
   ]
  },
  {
   "cell_type": "code",
   "execution_count": 15,
   "metadata": {},
   "outputs": [],
   "source": [
    "# session.head(5)"
   ]
  },
  {
   "cell_type": "code",
   "execution_count": 16,
   "metadata": {},
   "outputs": [],
   "source": [
    "# interval.head(5)"
   ]
  },
  {
   "cell_type": "code",
   "execution_count": 17,
   "metadata": {},
   "outputs": [],
   "source": [
    "# data.head(5)\n",
    "# is not really tidy."
   ]
  },
  {
   "cell_type": "markdown",
   "metadata": {},
   "source": [
    "# idea: group intervals by session id, make all variables lists, then merge\n"
   ]
  },
  {
   "cell_type": "code",
   "execution_count": 16,
   "metadata": {},
   "outputs": [],
   "source": [
    "# df = interval.copy(deep=True)\n",
    "# # df = df.sort_values(['interval_datetime']) # logical choice, but timestamps are not always correct.\n",
    "# df = df.sort_values(['Interval ID']) # seems to work aswell. Has same amount of errors\n",
    "# df = df.groupby('Session ID', as_index=False)"
   ]
  },
  {
   "cell_type": "code",
   "execution_count": 17,
   "metadata": {},
   "outputs": [],
   "source": [
    "# df.head(5)"
   ]
  },
  {
   "cell_type": "code",
   "execution_count": 18,
   "metadata": {},
   "outputs": [],
   "source": [
    "# df2 = df.agg(list)"
   ]
  },
  {
   "cell_type": "code",
   "execution_count": 19,
   "metadata": {},
   "outputs": [],
   "source": [
    "# df.head(5)"
   ]
  },
  {
   "cell_type": "code",
   "execution_count": 20,
   "metadata": {},
   "outputs": [],
   "source": [
    "# df['num_intervals'] = df[\"Interval ID\"].apply(len)"
   ]
  },
  {
   "cell_type": "markdown",
   "metadata": {},
   "source": [
    "# D-tour: Are interval durations and date-time stamps consistent? \n",
    "Answer: not always."
   ]
  },
  {
   "cell_type": "code",
   "execution_count": 18,
   "metadata": {},
   "outputs": [],
   "source": [
    "# df2[\"duration_1\"] = df2.apply(lambda x: sum(x[\"Interval Duration (Secs)\"][:-1]), axis=1)"
   ]
  },
  {
   "cell_type": "code",
   "execution_count": 19,
   "metadata": {},
   "outputs": [],
   "source": [
    "# df2.head(5)"
   ]
  },
  {
   "cell_type": "code",
   "execution_count": 20,
   "metadata": {},
   "outputs": [],
   "source": [
    "# df2[\"diff_1\"] = df2.apply(lambda x: \n",
    "#                           (x[\"start_datetime\"][-1] - x[\"start_datetime\"][0]).total_seconds(), \n",
    "#                           axis=1)"
   ]
  },
  {
   "cell_type": "code",
   "execution_count": 21,
   "metadata": {},
   "outputs": [],
   "source": [
    "# df_error = df2[df2[\"diff_1\"] != df2[\"duration_1\"]]"
   ]
  },
  {
   "cell_type": "code",
   "execution_count": 22,
   "metadata": {},
   "outputs": [],
   "source": [
    "# print(len(df2))\n",
    "# print(len(df_error))"
   ]
  },
  {
   "cell_type": "code",
   "execution_count": 23,
   "metadata": {},
   "outputs": [],
   "source": [
    "# df2[\"diff\"] = df2[\"diff_1\"] - df2[\"duration_1\"]"
   ]
  },
  {
   "cell_type": "code",
   "execution_count": 24,
   "metadata": {},
   "outputs": [],
   "source": [
    "# df2.sort_values(\"diff\", ascending=False).head(5)"
   ]
  },
  {
   "cell_type": "code",
   "execution_count": 25,
   "metadata": {},
   "outputs": [],
   "source": [
    "# for x in df2.sort_values(\"diff\", ascending=False).head(5).iloc[1]:\n",
    "#     print(x)"
   ]
  },
  {
   "cell_type": "markdown",
   "metadata": {},
   "source": [
    "# Aggregate before merging\n"
   ]
  },
  {
   "cell_type": "markdown",
   "metadata": {},
   "source": [
    "### To reduce footprint, round to 4 decimal places"
   ]
  },
  {
   "cell_type": "code",
   "execution_count": 7,
   "metadata": {},
   "outputs": [],
   "source": [
    "decimals = {\n",
    "    'Interval Energy': 4, \n",
    "    'Peak Power': 4, \n",
    "    'Average Power': 4,\n",
    "}\n",
    "interval = interval.round(decimals=decimals)"
   ]
  },
  {
   "cell_type": "code",
   "execution_count": 8,
   "metadata": {},
   "outputs": [
    {
     "data": {
      "text/html": [
       "<div>\n",
       "<style scoped>\n",
       "    .dataframe tbody tr th:only-of-type {\n",
       "        vertical-align: middle;\n",
       "    }\n",
       "\n",
       "    .dataframe tbody tr th {\n",
       "        vertical-align: top;\n",
       "    }\n",
       "\n",
       "    .dataframe thead th {\n",
       "        text-align: right;\n",
       "    }\n",
       "</style>\n",
       "<table border=\"1\" class=\"dataframe\">\n",
       "  <thead>\n",
       "    <tr style=\"text-align: right;\">\n",
       "      <th></th>\n",
       "      <th>Interval ID</th>\n",
       "      <th>Session ID</th>\n",
       "      <th>Interval Start Time (Local)</th>\n",
       "      <th>Interval Duration (Secs)</th>\n",
       "      <th>Interval Energy</th>\n",
       "      <th>Peak Power</th>\n",
       "      <th>Average Power</th>\n",
       "    </tr>\n",
       "  </thead>\n",
       "  <tbody>\n",
       "    <tr>\n",
       "      <th>0</th>\n",
       "      <td>751891049</td>\n",
       "      <td>26149711</td>\n",
       "      <td>2015-05-03 22:15:53.0</td>\n",
       "      <td>847</td>\n",
       "      <td>1.2996</td>\n",
       "      <td>5.7168</td>\n",
       "      <td>5.5236</td>\n",
       "    </tr>\n",
       "    <tr>\n",
       "      <th>1</th>\n",
       "      <td>751891051</td>\n",
       "      <td>26149711</td>\n",
       "      <td>2015-05-03 22:30:00.0</td>\n",
       "      <td>900</td>\n",
       "      <td>1.4297</td>\n",
       "      <td>5.7303</td>\n",
       "      <td>5.7188</td>\n",
       "    </tr>\n",
       "    <tr>\n",
       "      <th>2</th>\n",
       "      <td>751891053</td>\n",
       "      <td>26149711</td>\n",
       "      <td>2015-05-03 22:45:00.0</td>\n",
       "      <td>900</td>\n",
       "      <td>1.4340</td>\n",
       "      <td>5.7517</td>\n",
       "      <td>5.7358</td>\n",
       "    </tr>\n",
       "    <tr>\n",
       "      <th>3</th>\n",
       "      <td>751891055</td>\n",
       "      <td>26149711</td>\n",
       "      <td>2015-05-03 23:00:00.0</td>\n",
       "      <td>900</td>\n",
       "      <td>1.4308</td>\n",
       "      <td>5.7322</td>\n",
       "      <td>5.7231</td>\n",
       "    </tr>\n",
       "    <tr>\n",
       "      <th>4</th>\n",
       "      <td>751891057</td>\n",
       "      <td>26149711</td>\n",
       "      <td>2015-05-03 23:15:00.0</td>\n",
       "      <td>900</td>\n",
       "      <td>1.4325</td>\n",
       "      <td>5.7328</td>\n",
       "      <td>5.7300</td>\n",
       "    </tr>\n",
       "    <tr>\n",
       "      <th>5</th>\n",
       "      <td>751891059</td>\n",
       "      <td>26149711</td>\n",
       "      <td>2015-05-03 23:30:00.0</td>\n",
       "      <td>900</td>\n",
       "      <td>1.4174</td>\n",
       "      <td>5.7338</td>\n",
       "      <td>5.6697</td>\n",
       "    </tr>\n",
       "    <tr>\n",
       "      <th>6</th>\n",
       "      <td>751891061</td>\n",
       "      <td>26149711</td>\n",
       "      <td>2015-05-03 23:45:00.0</td>\n",
       "      <td>900</td>\n",
       "      <td>0.9115</td>\n",
       "      <td>5.0972</td>\n",
       "      <td>3.6460</td>\n",
       "    </tr>\n",
       "    <tr>\n",
       "      <th>7</th>\n",
       "      <td>751891063</td>\n",
       "      <td>26149711</td>\n",
       "      <td>2015-05-04 00:00:00.0</td>\n",
       "      <td>900</td>\n",
       "      <td>0.4643</td>\n",
       "      <td>2.5260</td>\n",
       "      <td>1.8571</td>\n",
       "    </tr>\n",
       "    <tr>\n",
       "      <th>8</th>\n",
       "      <td>751891065</td>\n",
       "      <td>26149711</td>\n",
       "      <td>2015-05-04 00:15:00.0</td>\n",
       "      <td>900</td>\n",
       "      <td>0.1889</td>\n",
       "      <td>1.3999</td>\n",
       "      <td>0.7555</td>\n",
       "    </tr>\n",
       "    <tr>\n",
       "      <th>9</th>\n",
       "      <td>751912503</td>\n",
       "      <td>26167547</td>\n",
       "      <td>2015-05-04 09:28:20.0</td>\n",
       "      <td>100</td>\n",
       "      <td>0.1044</td>\n",
       "      <td>5.0150</td>\n",
       "      <td>3.7584</td>\n",
       "    </tr>\n",
       "  </tbody>\n",
       "</table>\n",
       "</div>"
      ],
      "text/plain": [
       "   Interval ID  Session ID Interval Start Time (Local)  \\\n",
       "0    751891049    26149711       2015-05-03 22:15:53.0   \n",
       "1    751891051    26149711       2015-05-03 22:30:00.0   \n",
       "2    751891053    26149711       2015-05-03 22:45:00.0   \n",
       "3    751891055    26149711       2015-05-03 23:00:00.0   \n",
       "4    751891057    26149711       2015-05-03 23:15:00.0   \n",
       "5    751891059    26149711       2015-05-03 23:30:00.0   \n",
       "6    751891061    26149711       2015-05-03 23:45:00.0   \n",
       "7    751891063    26149711       2015-05-04 00:00:00.0   \n",
       "8    751891065    26149711       2015-05-04 00:15:00.0   \n",
       "9    751912503    26167547       2015-05-04 09:28:20.0   \n",
       "\n",
       "   Interval Duration (Secs)  Interval Energy  Peak Power  Average Power  \n",
       "0                       847           1.2996      5.7168         5.5236  \n",
       "1                       900           1.4297      5.7303         5.7188  \n",
       "2                       900           1.4340      5.7517         5.7358  \n",
       "3                       900           1.4308      5.7322         5.7231  \n",
       "4                       900           1.4325      5.7328         5.7300  \n",
       "5                       900           1.4174      5.7338         5.6697  \n",
       "6                       900           0.9115      5.0972         3.6460  \n",
       "7                       900           0.4643      2.5260         1.8571  \n",
       "8                       900           0.1889      1.3999         0.7555  \n",
       "9                       100           0.1044      5.0150         3.7584  "
      ]
     },
     "execution_count": 8,
     "metadata": {},
     "output_type": "execute_result"
    }
   ],
   "source": [
    "interval.head(10)"
   ]
  },
  {
   "cell_type": "markdown",
   "metadata": {},
   "source": [
    "## Agg by session"
   ]
  },
  {
   "cell_type": "code",
   "execution_count": 20,
   "metadata": {},
   "outputs": [],
   "source": [
    "if save_merged_agg_session:\n",
    "    df = interval.copy(deep=True)\n",
    "    # df = df.sort_values(['interval_datetime']) # logical choice, but timestamps are not always correct.\n",
    "    df = df.sort_values(['Interval ID']) # seems to work aswell. Has same amount of errors\n",
    "    df = df.drop(columns=['Interval ID'])\n",
    "    df = df.groupby('Session ID', as_index=False)"
   ]
  },
  {
   "cell_type": "code",
   "execution_count": 24,
   "metadata": {},
   "outputs": [
    {
     "name": "stdout",
     "output_type": "stream",
     "text": [
      "aggregating\n"
     ]
    }
   ],
   "source": [
    "if save_merged_agg_session:\n",
    "    print(\"aggregating\")\n",
    "    df = df.agg(str_list)\n"
   ]
  },
  {
   "cell_type": "code",
   "execution_count": 25,
   "metadata": {},
   "outputs": [],
   "source": [
    "if save_merged_agg_session:\n",
    "    print(\"merging\")\n",
    "    data = pd.merge(left=session, right=df, on='Session ID')"
   ]
  },
  {
   "cell_type": "code",
   "execution_count": 31,
   "metadata": {},
   "outputs": [
    {
     "name": "stdout",
     "output_type": "stream",
     "text": [
      "save paired sessions, aggregated by session\n"
     ]
    }
   ],
   "source": [
    "if save_merged_agg_session: \n",
    "    print(\"save paired sessions, aggregated by session\")\n",
    "    data.to_csv(path +'merged_agg_session.csv',sep=',', index=False)"
   ]
  },
  {
   "cell_type": "code",
   "execution_count": 26,
   "metadata": {},
   "outputs": [
    {
     "name": "stdout",
     "output_type": "stream",
     "text": [
      "['Session ID', 'Station ID', 'Port ID', 'Connector Type', 'POI Category', 'POI Subcategory', 'Session Time Zone', 'Session Time (secs)', 'Charging Time (secs)', 'Start SoC', 'End SoC', 'Full Charge', 'Energy (kWh)', 'Driver ID', 'Driver Zip', 'Vehicle Make', 'Vehicle Model', 'Battery Capacity', 'EV Type', '$ Fee', 'Fee Currency', 'Zip Code', 'City', 'County', 'State', 'Country', 'Driver City', 'Driver State', 'Driver Country', 'Max Power', 'Session Type', 'Vehicle Model Year', 'start_datetime', 'start_seconds', 'start_year', 'start_month', 'start_day', 'start_weekday', 'Interval Start Time (Local)', 'Interval Duration (Secs)', 'Interval Energy', 'Peak Power', 'Average Power']\n"
     ]
    },
    {
     "data": {
      "text/html": [
       "<div>\n",
       "<style scoped>\n",
       "    .dataframe tbody tr th:only-of-type {\n",
       "        vertical-align: middle;\n",
       "    }\n",
       "\n",
       "    .dataframe tbody tr th {\n",
       "        vertical-align: top;\n",
       "    }\n",
       "\n",
       "    .dataframe thead th {\n",
       "        text-align: right;\n",
       "    }\n",
       "</style>\n",
       "<table border=\"1\" class=\"dataframe\">\n",
       "  <thead>\n",
       "    <tr style=\"text-align: right;\">\n",
       "      <th></th>\n",
       "      <th>Session ID</th>\n",
       "      <th>Station ID</th>\n",
       "      <th>Port ID</th>\n",
       "      <th>Connector Type</th>\n",
       "      <th>POI Category</th>\n",
       "      <th>POI Subcategory</th>\n",
       "      <th>Session Time Zone</th>\n",
       "      <th>Session Time (secs)</th>\n",
       "      <th>Charging Time (secs)</th>\n",
       "      <th>Start SoC</th>\n",
       "      <th>...</th>\n",
       "      <th>start_seconds</th>\n",
       "      <th>start_year</th>\n",
       "      <th>start_month</th>\n",
       "      <th>start_day</th>\n",
       "      <th>start_weekday</th>\n",
       "      <th>Interval Start Time (Local)</th>\n",
       "      <th>Interval Duration (Secs)</th>\n",
       "      <th>Interval Energy</th>\n",
       "      <th>Peak Power</th>\n",
       "      <th>Average Power</th>\n",
       "    </tr>\n",
       "  </thead>\n",
       "  <tbody>\n",
       "    <tr>\n",
       "      <th>0</th>\n",
       "      <td>99999951</td>\n",
       "      <td>155805</td>\n",
       "      <td>208243.0</td>\n",
       "      <td>J1772</td>\n",
       "      <td>Parking</td>\n",
       "      <td>Commercial</td>\n",
       "      <td>PDT</td>\n",
       "      <td>4143</td>\n",
       "      <td>4130</td>\n",
       "      <td>NaN</td>\n",
       "      <td>...</td>\n",
       "      <td>49812</td>\n",
       "      <td>2017</td>\n",
       "      <td>9</td>\n",
       "      <td>264</td>\n",
       "      <td>3</td>\n",
       "      <td>['2017-09-21 13:50:12.0', '2017-09-21 14:00:00...</td>\n",
       "      <td>[588, 900, 900, 900, 852]</td>\n",
       "      <td>[0.9428, 1.4959, 1.4785, 1.4985, 1.4078]</td>\n",
       "      <td>[5.992, 5.9624, 5.9617, 6.0112, 6.0064]</td>\n",
       "      <td>[5.7725, 5.9837, 5.9139, 5.9938, 5.9483]</td>\n",
       "    </tr>\n",
       "    <tr>\n",
       "      <th>1</th>\n",
       "      <td>99999911</td>\n",
       "      <td>127071</td>\n",
       "      <td>166451.0</td>\n",
       "      <td>J1772</td>\n",
       "      <td>Workplace</td>\n",
       "      <td>High-Tech</td>\n",
       "      <td>PDT</td>\n",
       "      <td>14104</td>\n",
       "      <td>10440</td>\n",
       "      <td>NaN</td>\n",
       "      <td>...</td>\n",
       "      <td>47701</td>\n",
       "      <td>2017</td>\n",
       "      <td>9</td>\n",
       "      <td>264</td>\n",
       "      <td>3</td>\n",
       "      <td>['2017-09-21 13:15:00.0', '2017-09-21 13:30:00...</td>\n",
       "      <td>[900, 900, 900, 900, 900, 900, 900, 900, 900, ...</td>\n",
       "      <td>[0.7774, 0.8061, 0.8068, 0.8073, 0.8062, 0.804...</td>\n",
       "      <td>[3.2187, 3.2279, 3.2346, 3.235, 3.2294, 3.2259...</td>\n",
       "      <td>[3.1097, 3.2244, 3.2271, 3.229, 3.2249, 3.2198...</td>\n",
       "    </tr>\n",
       "    <tr>\n",
       "      <th>2</th>\n",
       "      <td>99999881</td>\n",
       "      <td>143745</td>\n",
       "      <td>191547.0</td>\n",
       "      <td>J1772</td>\n",
       "      <td>Workplace</td>\n",
       "      <td>General</td>\n",
       "      <td>PDT</td>\n",
       "      <td>4364</td>\n",
       "      <td>1328</td>\n",
       "      <td>NaN</td>\n",
       "      <td>...</td>\n",
       "      <td>49813</td>\n",
       "      <td>2017</td>\n",
       "      <td>9</td>\n",
       "      <td>264</td>\n",
       "      <td>3</td>\n",
       "      <td>['2017-09-21 13:50:13.0', '2017-09-21 14:00:00...</td>\n",
       "      <td>[587, 900]</td>\n",
       "      <td>[0.4999, 0.4977]</td>\n",
       "      <td>[3.191, 3.194]</td>\n",
       "      <td>[3.0656, 1.9909]</td>\n",
       "    </tr>\n",
       "    <tr>\n",
       "      <th>3</th>\n",
       "      <td>99999861</td>\n",
       "      <td>78433</td>\n",
       "      <td>195605.0</td>\n",
       "      <td>J1772</td>\n",
       "      <td>Workplace</td>\n",
       "      <td>General</td>\n",
       "      <td>PDT</td>\n",
       "      <td>9818</td>\n",
       "      <td>9811</td>\n",
       "      <td>NaN</td>\n",
       "      <td>...</td>\n",
       "      <td>49811</td>\n",
       "      <td>2017</td>\n",
       "      <td>9</td>\n",
       "      <td>264</td>\n",
       "      <td>3</td>\n",
       "      <td>['2017-09-21 13:50:11.0', '2017-09-21 14:00:00...</td>\n",
       "      <td>[589, 900, 900, 900, 900, 900, 900, 900, 900, ...</td>\n",
       "      <td>[0.9106, 1.4252, 1.4273, 1.4312, 1.43, 1.4299,...</td>\n",
       "      <td>[5.7417, 5.7135, 5.7185, 5.7277, 5.7287, 5.729...</td>\n",
       "      <td>[5.5655, 5.7006, 5.709, 5.7248, 5.7199, 5.7196...</td>\n",
       "    </tr>\n",
       "    <tr>\n",
       "      <th>4</th>\n",
       "      <td>99999851</td>\n",
       "      <td>93629</td>\n",
       "      <td>105187.0</td>\n",
       "      <td>J1772</td>\n",
       "      <td>Workplace</td>\n",
       "      <td>General</td>\n",
       "      <td>PDT</td>\n",
       "      <td>7165</td>\n",
       "      <td>6849</td>\n",
       "      <td>NaN</td>\n",
       "      <td>...</td>\n",
       "      <td>49814</td>\n",
       "      <td>2017</td>\n",
       "      <td>9</td>\n",
       "      <td>264</td>\n",
       "      <td>3</td>\n",
       "      <td>['2017-09-21 13:50:14.0', '2017-09-21 14:00:00...</td>\n",
       "      <td>[586, 900, 900, 900, 900, 900, 900, 900]</td>\n",
       "      <td>[0.3542, 0.3996, 0.2998, 0.2933, 0.2945, 0.325...</td>\n",
       "      <td>[2.2728, 2.2695, 1.2451, 1.1886, 1.1939, 2.270...</td>\n",
       "      <td>[2.1762, 1.5982, 1.199, 1.173, 1.178, 1.3, 2.2...</td>\n",
       "    </tr>\n",
       "  </tbody>\n",
       "</table>\n",
       "<p>5 rows × 43 columns</p>\n",
       "</div>"
      ],
      "text/plain": [
       "   Session ID  Station ID   Port ID Connector Type POI Category  \\\n",
       "0    99999951      155805  208243.0          J1772      Parking   \n",
       "1    99999911      127071  166451.0          J1772    Workplace   \n",
       "2    99999881      143745  191547.0          J1772    Workplace   \n",
       "3    99999861       78433  195605.0          J1772    Workplace   \n",
       "4    99999851       93629  105187.0          J1772    Workplace   \n",
       "\n",
       "  POI Subcategory Session Time Zone  Session Time (secs)  \\\n",
       "0      Commercial               PDT                 4143   \n",
       "1       High-Tech               PDT                14104   \n",
       "2         General               PDT                 4364   \n",
       "3         General               PDT                 9818   \n",
       "4         General               PDT                 7165   \n",
       "\n",
       "   Charging Time (secs)  Start SoC  ...  start_seconds  start_year  \\\n",
       "0                  4130        NaN  ...          49812        2017   \n",
       "1                 10440        NaN  ...          47701        2017   \n",
       "2                  1328        NaN  ...          49813        2017   \n",
       "3                  9811        NaN  ...          49811        2017   \n",
       "4                  6849        NaN  ...          49814        2017   \n",
       "\n",
       "   start_month  start_day start_weekday  \\\n",
       "0            9        264             3   \n",
       "1            9        264             3   \n",
       "2            9        264             3   \n",
       "3            9        264             3   \n",
       "4            9        264             3   \n",
       "\n",
       "                         Interval Start Time (Local)  \\\n",
       "0  ['2017-09-21 13:50:12.0', '2017-09-21 14:00:00...   \n",
       "1  ['2017-09-21 13:15:00.0', '2017-09-21 13:30:00...   \n",
       "2  ['2017-09-21 13:50:13.0', '2017-09-21 14:00:00...   \n",
       "3  ['2017-09-21 13:50:11.0', '2017-09-21 14:00:00...   \n",
       "4  ['2017-09-21 13:50:14.0', '2017-09-21 14:00:00...   \n",
       "\n",
       "                            Interval Duration (Secs)  \\\n",
       "0                          [588, 900, 900, 900, 852]   \n",
       "1  [900, 900, 900, 900, 900, 900, 900, 900, 900, ...   \n",
       "2                                         [587, 900]   \n",
       "3  [589, 900, 900, 900, 900, 900, 900, 900, 900, ...   \n",
       "4           [586, 900, 900, 900, 900, 900, 900, 900]   \n",
       "\n",
       "                                     Interval Energy  \\\n",
       "0           [0.9428, 1.4959, 1.4785, 1.4985, 1.4078]   \n",
       "1  [0.7774, 0.8061, 0.8068, 0.8073, 0.8062, 0.804...   \n",
       "2                                   [0.4999, 0.4977]   \n",
       "3  [0.9106, 1.4252, 1.4273, 1.4312, 1.43, 1.4299,...   \n",
       "4  [0.3542, 0.3996, 0.2998, 0.2933, 0.2945, 0.325...   \n",
       "\n",
       "                                          Peak Power  \\\n",
       "0            [5.992, 5.9624, 5.9617, 6.0112, 6.0064]   \n",
       "1  [3.2187, 3.2279, 3.2346, 3.235, 3.2294, 3.2259...   \n",
       "2                                     [3.191, 3.194]   \n",
       "3  [5.7417, 5.7135, 5.7185, 5.7277, 5.7287, 5.729...   \n",
       "4  [2.2728, 2.2695, 1.2451, 1.1886, 1.1939, 2.270...   \n",
       "\n",
       "                                       Average Power  \n",
       "0           [5.7725, 5.9837, 5.9139, 5.9938, 5.9483]  \n",
       "1  [3.1097, 3.2244, 3.2271, 3.229, 3.2249, 3.2198...  \n",
       "2                                   [3.0656, 1.9909]  \n",
       "3  [5.5655, 5.7006, 5.709, 5.7248, 5.7199, 5.7196...  \n",
       "4  [2.1762, 1.5982, 1.199, 1.173, 1.178, 1.3, 2.2...  \n",
       "\n",
       "[5 rows x 43 columns]"
      ]
     },
     "execution_count": 26,
     "metadata": {},
     "output_type": "execute_result"
    }
   ],
   "source": [
    "print(list(data))\n",
    "data.head(5)"
   ]
  },
  {
   "cell_type": "code",
   "execution_count": 29,
   "metadata": {},
   "outputs": [
    {
     "data": {
      "image/png": "[encoded data removed]",
      "text/plain": [
       "<Figure size 432x288 with 1 Axes>"
      ]
     },
     "metadata": {
      "needs_background": "light"
     },
     "output_type": "display_data"
    }
   ],
   "source": [
    "avg = data[\"Average Power\"]\n",
    "for i in np.random.randint(len(avg), size=3):\n",
    "#     print(avg[i])\n",
    "    plt.plot(ast.literal_eval(avg[i]))"
   ]
  },
  {
   "cell_type": "code",
   "execution_count": 38,
   "metadata": {},
   "outputs": [
    {
     "name": "stdout",
     "output_type": "stream",
     "text": [
      "Session ID                                                           73293485\n",
      "Station ID                                                             112405\n",
      "Port ID                                                                138793\n",
      "Connector Type                                                          J1772\n",
      "POI Category                                                        Workplace\n",
      "POI Subcategory                                                       General\n",
      "Session Time Zone                                                         PDT\n",
      "Session Time (secs)                                                     18944\n",
      "Charging Time (secs)                                                    14984\n",
      "Start SoC                                                                 NaN\n",
      "End SoC                                                                   NaN\n",
      "Full Charge                                                              True\n",
      "Energy (kWh)                                                          13.6487\n",
      "Driver ID                                                                7878\n",
      "Driver Zip                                                              94530\n",
      "Vehicle Make                                                            Smart\n",
      "Vehicle Model                                           Fortwo Electric Drive\n",
      "Battery Capacity                                                         17.6\n",
      "EV Type                                                                PLUGIN\n",
      "$ Fee                                                                    6.69\n",
      "Fee Currency                                                              USD\n",
      "Zip Code                                                                94107\n",
      "City                                                            San Francisco\n",
      "County                                                   San Francisco County\n",
      "State                                                              California\n",
      "Country                                                         United States\n",
      "Driver City                                                        El Cerrito\n",
      "Driver State                                                       California\n",
      "Driver Country                                                  United States\n",
      "Max Power                                                                 6.6\n",
      "Session Type                                                            OTHER\n",
      "Vehicle Model Year                                                       2016\n",
      "start_datetime                                            2017-06-23 09:00:42\n",
      "start_time_seconds                                                      32442\n",
      "end_datetime                                              2017-06-23 14:16:25\n",
      "end_time_seconds                                                        51385\n",
      "Interval ID                 [1434976403, 1434976405, 1434976407, 143497640...\n",
      "Interval Duration (Secs)    [858, 900, 900, 900, 900, 900, 900, 900, 900, ...\n",
      "Peak Power                  [3.3569, 3.3444, 3.3611, 3.3562, 3.3603, 3.350...\n",
      "Average Power               [3.1685, 3.3333, 3.3399, 3.3434, 3.3487, 3.339...\n",
      "Interval Energy             [0.755158, 0.8333219999999999, 0.8349709999999...\n",
      "interval_datetime           [2017-06-23 09:00:42, 2017-06-23 09:15:00, 201...\n",
      "Name: 29412, dtype: object\n"
     ]
    },
    {
     "data": {
      "image/png": "[encoded data removed]",
      "text/plain": [
       "<Figure size 432x288 with 1 Axes>"
      ]
     },
     "metadata": {
      "needs_background": "light"
     },
     "output_type": "display_data"
    }
   ],
   "source": [
    "for i in np.random.randint(len(data), size=1):\n",
    "    print(data.iloc[i])\n",
    "    plt.plot(ast.literal_eval(data.iloc[i][\"Average Power\"]))"
   ]
  },
  {
   "cell_type": "code",
   "execution_count": 205,
   "metadata": {},
   "outputs": [],
   "source": [
    "# total = data['Energy (kWh)']\n",
    "data[\"norm\"] = data.apply(\n",
    "    lambda x: [(a)/(sum(x[\"Average Power\"])+1e-10) \n",
    "               for a in x[\"Average Power\"].apply(ast.literal_eval)],\n",
    "    axis=1\n",
    ")"
   ]
  },
  {
   "cell_type": "code",
   "execution_count": 225,
   "metadata": {},
   "outputs": [
    {
     "data": {
      "image/png": "[encoded data removed]",
      "text/plain": [
       "<Figure size 432x288 with 1 Axes>"
      ]
     },
     "metadata": {
      "needs_background": "light"
     },
     "output_type": "display_data"
    }
   ],
   "source": [
    "avg = data[\"norm\"]\n",
    "for i in np.random.randint(len(avg), size=10):\n",
    "#     print(avg[i])\n",
    "    plt.plot(ast.literal_eval(avg[i]))"
   ]
  }
 ],
 "metadata": {
  "kernelspec": {
   "display_name": "Python 3",
   "language": "python",
   "name": "python3"
  },
  "language_info": {
   "codemirror_mode": {
    "name": "ipython",
    "version": 3
   },
   "file_extension": ".py",
   "mimetype": "text/x-python",
   "name": "python",
   "nbconvert_exporter": "python",
   "pygments_lexer": "ipython3",
   "version": "3.7.0"
  }
 },
 "nbformat": 4,
 "nbformat_minor": 2
}
