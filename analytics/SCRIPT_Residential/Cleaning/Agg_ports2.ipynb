{
 "cells": [
  {
   "cell_type": "code",
   "execution_count": 2,
   "metadata": {},
   "outputs": [],
   "source": [
    "import pandas as pd\n",
    "import numpy as np\n",
    "from datetime import datetime\n",
    "import matplotlib.pyplot as plt\n",
    "import ast"
   ]
  },
  {
   "cell_type": "code",
   "execution_count": 3,
   "metadata": {},
   "outputs": [],
   "source": [
    "# Loading data into pandas dataframe\n",
    "path = \"../../data/clean/\"\n",
    "file = \"merged_agg_session.csv\"\n",
    "cols = ['Port ID', 'Interval Energy', 'start_seconds', 'start_year', 'start_month', 'start_day']"
   ]
  },
  {
   "cell_type": "code",
   "execution_count": 4,
   "metadata": {},
   "outputs": [],
   "source": [
    "df = pd.read_csv(path + file, index_col=False, usecols=cols)"
   ]
  },
  {
   "cell_type": "code",
   "execution_count": 5,
   "metadata": {},
   "outputs": [],
   "source": [
    "def seconds_to_96_steps(x):\n",
    "    return x // 900"
   ]
  },
  {
   "cell_type": "code",
   "execution_count": null,
   "metadata": {},
   "outputs": [],
   "source": [
    "def apply_inplace(df, field, fun):\n",
    "    return pd.concat([df.drop(field, axis=1), df[field].apply(fun)], axis=1) "
   ]
  },
  {
   "cell_type": "code",
   "execution_count": 6,
   "metadata": {},
   "outputs": [],
   "source": [
    "df['step'] = df['start_seconds'].apply(seconds_to_96_steps)\n",
    "# df.drop(columns=['start_seconds'], inplace=True)\n",
    "# df.drop(columns=['start_month'], inplace=True)"
   ]
  },
  {
   "cell_type": "code",
   "execution_count": 23,
   "metadata": {},
   "outputs": [],
   "source": [
    "# print(df['start_year'].value_counts())"
   ]
  },
  {
   "cell_type": "code",
   "execution_count": 24,
   "metadata": {},
   "outputs": [],
   "source": [
    "# print(df['Port ID'].value_counts().head(10))\n",
    "# print(np.percentile(df['Port ID'].value_counts(), 20))\n",
    "# print(np.percentile(df['Port ID'].value_counts(), 50))\n",
    "# print(np.percentile(df['Port ID'].value_counts(), 80))"
   ]
  },
  {
   "cell_type": "code",
   "execution_count": 38,
   "metadata": {},
   "outputs": [
    {
     "name": "stdout",
     "output_type": "stream",
     "text": [
      "15682\n",
      "12549\n"
     ]
    }
   ],
   "source": [
    "df = df[~df['Port ID'].isnull()]\n",
    "df['Port ID'] = df['Port ID'].apply(lambda x: str(int(x)))\n",
    "ports = df['Port ID'].value_counts()\n",
    "# print(ports)\n",
    "print(len(ports))\n",
    "ports = ports[ports >= 100]\n",
    "print(len(ports))\n",
    "ports = [str(int(x)) for x in ports.index.values]"
   ]
  },
  {
   "cell_type": "code",
   "execution_count": 39,
   "metadata": {},
   "outputs": [],
   "source": [
    "df = df[df['Port ID'].isin(ports)]"
   ]
  },
  {
   "cell_type": "markdown",
   "metadata": {},
   "source": [
    "# Create df for ports, fully filled in time"
   ]
  },
  {
   "cell_type": "code",
   "execution_count": 30,
   "metadata": {},
   "outputs": [
    {
     "name": "stdout",
     "output_type": "stream",
     "text": [
      "140256\n"
     ]
    }
   ],
   "source": [
    "# total_steps = 96 * (4*365 + 1) # 4 years + leap year\n",
    "# print(total_steps)"
   ]
  },
  {
   "cell_type": "code",
   "execution_count": 68,
   "metadata": {},
   "outputs": [],
   "source": [
    "# not feasible, will take forever.\n",
    "\n",
    "def get_df_for_year(df, year):\n",
    "    df_year = df[df['start_year'] == year]\n",
    "    print(\"apply str to list transform\")\n",
    "    df_year = apply_inplace(df_year, 'Interval Energy', ast.literal_eval)\n",
    "    max_idx = 96*365 if year != 2016 else 96*366\n",
    "    data_year = pd.DataFrame(0, index=np.arange(max_idx), columns=ports)\n",
    "#     print(data_year.head(10))\n",
    "    num_rows = len(df_year)\n",
    "    i = 0\n",
    "    for index, row in df_year.iterrows(): \n",
    "        i += 1\n",
    "        print(i, \" / \", num_rows)\n",
    "        energy = row['Interval Energy']\n",
    "#         energy = ast.literal_eval(row['Interval Energy'])\n",
    "#         energy = np.array(ast.literal_eval(row['Interval Energy']))\n",
    "        start_idx = (row['start_day'] - 1)*96 + row['step']\n",
    "        end_idx = start_idx + len(energy) - 1 # note; pandas includes end index\n",
    "        if end_idx > max_idx:\n",
    "            end_idx = max_idx\n",
    "            energy = energy[:(end_idx - start_idx)]\n",
    "            # print\n",
    "#             print(end_idx - start_idx, len(energy))\n",
    "#             print(start_idx, end_idx, max_idx, energy)\n",
    "#             print(len(data_year.loc[start_idx:end_idx, row['Port ID']]))\n",
    "#             print(data_year.loc[start_idx:end_idx, row['Port ID']])\n",
    "        data_year.loc[start_idx:end_idx, row['Port ID']] = energy"
   ]
  },
  {
   "cell_type": "code",
   "execution_count": 69,
   "metadata": {},
   "outputs": [
    {
     "name": "stderr",
     "output_type": "stream",
     "text": [
      "/home/ec2-user/anaconda3/envs/eda/lib/python3.7/site-packages/ipykernel_launcher.py:5: SettingWithCopyWarning: \n",
      "A value is trying to be set on a copy of a slice from a DataFrame.\n",
      "Try using .loc[row_indexer,col_indexer] = value instead\n",
      "\n",
      "See the caveats in the documentation: http://pandas.pydata.org/pandas-docs/stable/indexing.html#indexing-view-versus-copy\n",
      "  \"\"\"\n"
     ]
    },
    {
     "name": "stdout",
     "output_type": "stream",
     "text": [
      "1  /  1298745\n",
      "2  /  1298745\n",
      "3  /  1298745\n",
      "4  /  1298745\n",
      "5  /  1298745\n",
      "6  /  1298745\n",
      "7  /  1298745\n",
      "8  /  1298745\n",
      "9  /  1298745\n",
      "10  /  1298745\n",
      "11  /  1298745\n",
      "12  /  1298745\n",
      "13  /  1298745\n",
      "14  /  1298745\n",
      "15  /  1298745\n",
      "16  /  1298745\n",
      "17  /  1298745\n",
      "18  /  1298745\n",
      "19  /  1298745\n",
      "20  /  1298745\n",
      "21  /  1298745\n",
      "22  /  1298745\n",
      "23  /  1298745\n",
      "24  /  1298745\n",
      "25  /  1298745\n",
      "26  /  1298745\n",
      "27  /  1298745\n",
      "28  /  1298745\n",
      "29  /  1298745\n",
      "30  /  1298745\n",
      "31  /  1298745\n",
      "32  /  1298745\n",
      "33  /  1298745\n",
      "34  /  1298745\n",
      "35  /  1298745\n",
      "36  /  1298745\n",
      "37  /  1298745\n",
      "38  /  1298745\n",
      "39  /  1298745\n",
      "40  /  1298745\n"
     ]
    },
    {
     "ename": "ValueError",
     "evalue": "Must have equal len keys and value when setting with an iterable",
     "output_type": "error",
     "traceback": [
      "\u001b[0;31m---------------------------------------------------------------------------\u001b[0m",
      "\u001b[0;31mValueError\u001b[0m                                Traceback (most recent call last)",
      "\u001b[0;32m<ipython-input-69-f46541165827>\u001b[0m in \u001b[0;36m<module>\u001b[0;34m\u001b[0m\n\u001b[0;32m----> 1\u001b[0;31m \u001b[0mdf_2015\u001b[0m \u001b[0;34m=\u001b[0m \u001b[0mget_df_for_year\u001b[0m\u001b[0;34m(\u001b[0m\u001b[0mdf\u001b[0m\u001b[0;34m,\u001b[0m \u001b[0myear\u001b[0m\u001b[0;34m=\u001b[0m\u001b[0;36m2015\u001b[0m\u001b[0;34m)\u001b[0m\u001b[0;34m\u001b[0m\u001b[0;34m\u001b[0m\u001b[0m\n\u001b[0m",
      "\u001b[0;32m<ipython-input-68-1561bdf36561>\u001b[0m in \u001b[0;36mget_df_for_year\u001b[0;34m(df, year)\u001b[0m\n\u001b[1;32m     25\u001b[0m \u001b[0;31m#             print(len(data_year.loc[start_idx:end_idx, row['Port ID']]))\u001b[0m\u001b[0;34m\u001b[0m\u001b[0;34m\u001b[0m\u001b[0;34m\u001b[0m\u001b[0m\n\u001b[1;32m     26\u001b[0m \u001b[0;31m#             print(data_year.loc[start_idx:end_idx, row['Port ID']])\u001b[0m\u001b[0;34m\u001b[0m\u001b[0;34m\u001b[0m\u001b[0;34m\u001b[0m\u001b[0m\n\u001b[0;32m---> 27\u001b[0;31m         \u001b[0mdata_year\u001b[0m\u001b[0;34m.\u001b[0m\u001b[0mloc\u001b[0m\u001b[0;34m[\u001b[0m\u001b[0mstart_idx\u001b[0m\u001b[0;34m:\u001b[0m\u001b[0mend_idx\u001b[0m\u001b[0;34m,\u001b[0m \u001b[0mrow\u001b[0m\u001b[0;34m[\u001b[0m\u001b[0;34m'Port ID'\u001b[0m\u001b[0;34m]\u001b[0m\u001b[0;34m]\u001b[0m \u001b[0;34m=\u001b[0m \u001b[0menergy\u001b[0m\u001b[0;34m\u001b[0m\u001b[0;34m\u001b[0m\u001b[0m\n\u001b[0m",
      "\u001b[0;32m~/anaconda3/envs/eda/lib/python3.7/site-packages/pandas/core/indexing.py\u001b[0m in \u001b[0;36m__setitem__\u001b[0;34m(self, key, value)\u001b[0m\n\u001b[1;32m    188\u001b[0m             \u001b[0mkey\u001b[0m \u001b[0;34m=\u001b[0m \u001b[0mcom\u001b[0m\u001b[0;34m.\u001b[0m\u001b[0mapply_if_callable\u001b[0m\u001b[0;34m(\u001b[0m\u001b[0mkey\u001b[0m\u001b[0;34m,\u001b[0m \u001b[0mself\u001b[0m\u001b[0;34m.\u001b[0m\u001b[0mobj\u001b[0m\u001b[0;34m)\u001b[0m\u001b[0;34m\u001b[0m\u001b[0;34m\u001b[0m\u001b[0m\n\u001b[1;32m    189\u001b[0m         \u001b[0mindexer\u001b[0m \u001b[0;34m=\u001b[0m \u001b[0mself\u001b[0m\u001b[0;34m.\u001b[0m\u001b[0m_get_setitem_indexer\u001b[0m\u001b[0;34m(\u001b[0m\u001b[0mkey\u001b[0m\u001b[0;34m)\u001b[0m\u001b[0;34m\u001b[0m\u001b[0;34m\u001b[0m\u001b[0m\n\u001b[0;32m--> 190\u001b[0;31m         \u001b[0mself\u001b[0m\u001b[0;34m.\u001b[0m\u001b[0m_setitem_with_indexer\u001b[0m\u001b[0;34m(\u001b[0m\u001b[0mindexer\u001b[0m\u001b[0;34m,\u001b[0m \u001b[0mvalue\u001b[0m\u001b[0;34m)\u001b[0m\u001b[0;34m\u001b[0m\u001b[0;34m\u001b[0m\u001b[0m\n\u001b[0m\u001b[1;32m    191\u001b[0m \u001b[0;34m\u001b[0m\u001b[0m\n\u001b[1;32m    192\u001b[0m     \u001b[0;32mdef\u001b[0m \u001b[0m_validate_key\u001b[0m\u001b[0;34m(\u001b[0m\u001b[0mself\u001b[0m\u001b[0;34m,\u001b[0m \u001b[0mkey\u001b[0m\u001b[0;34m,\u001b[0m \u001b[0maxis\u001b[0m\u001b[0;34m)\u001b[0m\u001b[0;34m:\u001b[0m\u001b[0;34m\u001b[0m\u001b[0;34m\u001b[0m\u001b[0m\n",
      "\u001b[0;32m~/anaconda3/envs/eda/lib/python3.7/site-packages/pandas/core/indexing.py\u001b[0m in \u001b[0;36m_setitem_with_indexer\u001b[0;34m(self, indexer, value)\u001b[0m\n\u001b[1;32m    609\u001b[0m \u001b[0;34m\u001b[0m\u001b[0m\n\u001b[1;32m    610\u001b[0m                     \u001b[0;32mif\u001b[0m \u001b[0mlen\u001b[0m\u001b[0;34m(\u001b[0m\u001b[0mlabels\u001b[0m\u001b[0;34m)\u001b[0m \u001b[0;34m!=\u001b[0m \u001b[0mlen\u001b[0m\u001b[0;34m(\u001b[0m\u001b[0mvalue\u001b[0m\u001b[0;34m)\u001b[0m\u001b[0;34m:\u001b[0m\u001b[0;34m\u001b[0m\u001b[0;34m\u001b[0m\u001b[0m\n\u001b[0;32m--> 611\u001b[0;31m                         raise ValueError('Must have equal len keys and value '\n\u001b[0m\u001b[1;32m    612\u001b[0m                                          'when setting with an iterable')\n\u001b[1;32m    613\u001b[0m \u001b[0;34m\u001b[0m\u001b[0m\n",
      "\u001b[0;31mValueError\u001b[0m: Must have equal len keys and value when setting with an iterable"
     ]
    }
   ],
   "source": [
    "df_2015 = get_df_for_year(df, year=2015)"
   ]
  },
  {
   "cell_type": "code",
   "execution_count": null,
   "metadata": {},
   "outputs": [],
   "source": []
  }
 ],
 "metadata": {
  "kernelspec": {
   "display_name": "edapy3",
   "language": "python",
   "name": "edapy3"
  },
  "language_info": {
   "codemirror_mode": {
    "name": "ipython",
    "version": 3
   },
   "file_extension": ".py",
   "mimetype": "text/x-python",
   "name": "python",
   "nbconvert_exporter": "python",
   "pygments_lexer": "ipython3",
   "version": "3.7.2"
  }
 },
 "nbformat": 4,
 "nbformat_minor": 2
}
