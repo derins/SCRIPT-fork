{
 "cells": [
  {
   "cell_type": "markdown",
   "metadata": {},
   "source": [
    "# Clean Sessions\n",
    "\n",
    "Based off Oskar's script called 'clean_sessions' for the commercial data."
   ]
  },
  {
   "cell_type": "code",
   "execution_count": 2,
   "metadata": {},
   "outputs": [],
   "source": [
    "import pandas as pd\n",
    "import s3fs\n",
    "import boto3 \n",
    "from io import StringIO\n",
    "from datetime import datetime, date\n",
    "import numpy as np"
   ]
  },
  {
   "cell_type": "markdown",
   "metadata": {},
   "source": [
    "*Note my changes are highlighted with italics*\n",
    "\n",
    "*Can also do it all at once later after box with \"Clean, Transform all at once: \"*\n",
    "\n",
    "### Clean\n",
    "\n",
    "* 1) Eliminate sessions that have 0 kWh Energy (*specifically < 0.1kWh*)\n",
    "\n",
    "* 2) Eliminate sessions where total session time is less than 120 seconds (probably driver never really charged his car)\n",
    "\n",
    "* 3) ~~Ignore sessions with “Connector Type” -  Type 2 Cable & Type 2 Socket~~ (*in this set connector types are {'J1772', 'NEMA14', 'NEMA6'}*)\n",
    "\n",
    "* 4) ~~“Session Type” - FLEET should ideally be analyzed/treated separately since they are not your regular/passenger EV drivers~~ (*The only category present in this set is 'Single family residential'*)\n",
    "\n",
    "* 5) Ignore sessions with Energy(kWh) greater than 100 kWh ~~for “Session Type” OTHER~~ (*OTHER is the only Session Type*)\n",
    "\n",
    "### Transform Datetimes\n",
    "\n",
    "* transform start time string to datetime, create new column \"start_datetime\"\n",
    "* create new columns: \"start_\" + [\"seconds\", \"year\", \"month\", \"day\", \"weekday\"]\n",
    "* ~~ignore endtime, because it is given by start time + duration~~\n",
    "* ~~drop original start and end columns~~\n",
    "\n",
    "\n",
    "### ~~Optional~~ Clean:\n",
    "\n",
    "* 6) Ignore sessions not in PDT/PST timezone\n",
    "\n",
    "* 7) discard drivers from out of country\n",
    "\n",
    "* 8) discard sessions with Fees not in USD\n",
    "\n",
    "\n"
   ]
  },
  {
   "cell_type": "markdown",
   "metadata": {},
   "source": [
    "# Load"
   ]
  },
  {
   "cell_type": "code",
   "execution_count": 3,
   "metadata": {},
   "outputs": [
    {
     "name": "stdout",
     "output_type": "stream",
     "text": [
      "Size of CSV:  1074668\n",
      "Columns:  ['Session ID', 'Station ID', 'Port ID', 'Connector Type', 'POI Category', 'POI Subcategory', 'Station Start Time (Local)', 'Station End Time (Local)', 'Session Time Zone', 'Session Time (secs)', 'Charging Time (secs)', 'Start SoC', 'End SoC', 'Full Charge', 'Energy (kWh)', 'Driver ID', 'Driver Zip', 'Vehicle Make', 'Vehicle Model', 'Battery Capacity', 'EV Type', '$ Fee', 'Fee Currency', 'Zip Code', 'City', 'County', 'State', 'Country', 'Driver City', 'Driver State', 'Driver Country', 'Max Power', 'Session Type', 'Vehicle Model Year']\n"
     ]
    }
   ],
   "source": [
    "united_date = '26072019'\n",
    "df_raw = pd.read_csv('s3://script.chargepoint.data/Residential_Data/clean/Charging_Sessions_United'+united_date+'.csv')\n",
    "print(\"Size of CSV: \", len(df_raw))\n",
    "print(\"Columns: \", list(df_raw))"
   ]
  },
  {
   "cell_type": "markdown",
   "metadata": {},
   "source": [
    "### Helper Fun"
   ]
  },
  {
   "cell_type": "code",
   "execution_count": 16,
   "metadata": {},
   "outputs": [],
   "source": [
    "def remove_less_than(data, col, threshold):\n",
    "    print(\"removing {} occurences of {} of less than {}\".format(sum(data[col] < threshold), col, threshold))\n",
    "    return data[data[col] >= threshold]\n",
    "\n",
    "def remove_greater_than(data, col, threshold):\n",
    "    print(\"removing {} occurences of {} of greater than {}\".format(sum(data[col] > threshold), col, threshold))\n",
    "    return data[data[col] <= threshold]\n"
   ]
  },
  {
   "cell_type": "markdown",
   "metadata": {},
   "source": [
    "## Clean 1 - remove sessions with less than 0.1 kWh:"
   ]
  },
  {
   "cell_type": "code",
   "execution_count": 9,
   "metadata": {},
   "outputs": [
    {
     "name": "stdout",
     "output_type": "stream",
     "text": [
      "Removing  0.040203113891918246  fraction of the sessions.\n",
      "removing 43205 occurences of Energy (kWh) of less than 0.1\n"
     ]
    }
   ],
   "source": [
    "print(\"Removing \", sum(df_raw['Energy (kWh)'] < 0.1) / len(df_raw), \" fraction of the sessions.\")\n",
    "df = remove_less_than(df_raw, col='Energy (kWh)', threshold=0.1)"
   ]
  },
  {
   "cell_type": "markdown",
   "metadata": {},
   "source": [
    "## Clean 2 - remove sessions with Session Time < 2min"
   ]
  },
  {
   "cell_type": "code",
   "execution_count": 10,
   "metadata": {},
   "outputs": [
    {
     "name": "stdout",
     "output_type": "stream",
     "text": [
      "Removing  0.0011401281480770517  fraction of the sessions.\n",
      "removing 1176 occurences of Session Time (secs) of less than 120\n"
     ]
    }
   ],
   "source": [
    "print(\"Removing \", sum(df['Session Time (secs)'] < 120) / len(df), \" fraction of the sessions.\")\n",
    "df = remove_less_than(df, col='Session Time (secs)', threshold=120)"
   ]
  },
  {
   "cell_type": "markdown",
   "metadata": {},
   "source": [
    "## ~~Clean 3 - Remove sessions with “Connector Type” - Type 2 Cable & Type 2 Socket~~"
   ]
  },
  {
   "cell_type": "markdown",
   "metadata": {},
   "source": [
    "## ~~Clean 4 - separating fleet from non fleet~~"
   ]
  },
  {
   "cell_type": "markdown",
   "metadata": {},
   "source": [
    "## Clean 5 - ignore sessions with Energy(kWh) greater than 100 kWh ~~for “Session Type” OTHER~~\n"
   ]
  },
  {
   "cell_type": "code",
   "execution_count": 15,
   "metadata": {},
   "outputs": [
    {
     "name": "stdout",
     "output_type": "stream",
     "text": [
      "Removing  1.3588446714362115e-05  fraction of the sessions.\n",
      "removing 14 occurences of Energy (kWh) of less than 100\n"
     ]
    }
   ],
   "source": [
    "print(\"Removing \", sum(df['Energy (kWh)'] > 100) / len(df), \" fraction of the sessions.\")\n",
    "df = remove_greater_than(df, col='Energy (kWh)', threshold=100)"
   ]
  },
  {
   "cell_type": "markdown",
   "metadata": {},
   "source": [
    "# Transform Datetimes (make new variables)"
   ]
  },
  {
   "cell_type": "code",
   "execution_count": 23,
   "metadata": {},
   "outputs": [],
   "source": [
    "def to_datetime(x):\n",
    "    return datetime.strptime(x, \"%Y-%m-%d %H:%M:%S.%f\")\n",
    "\n",
    "def to_seconds(x):\n",
    "    \"\"\"seconds in current day since midnight\"\"\"\n",
    "    return 60*60*x.hour + 60*x.minute + x.second\n",
    "\n",
    "def to_year(x):\n",
    "    return x.year\n",
    "\n",
    "def to_month(x):\n",
    "    return x.month\n",
    "\n",
    "def to_day(x):\n",
    "    \"\"\"day of year, [1, 366]\"\"\"\n",
    "    return x.timetuple().tm_yday\n",
    "\n",
    "# My addition: (should start counting everything from 0)\n",
    "def to_day0(x):\n",
    "    \"\"\"day of year, [0, 365]\"\"\"\n",
    "    return x.timetuple().tm_yday - 1\n",
    "\n",
    "def to_weekday(x):\n",
    "    \"\"\"weekday, [0, 6]\"\"\"\n",
    "    return x.weekday()"
   ]
  },
  {
   "cell_type": "code",
   "execution_count": 18,
   "metadata": {},
   "outputs": [],
   "source": [
    "def apply_transforms(data, col, transforms, names, drop_col=False):\n",
    "    \"\"\"apply multiple transforms\"\"\"\n",
    "    for n, t in zip(names, transforms):\n",
    "        print(\"applying transform {} to {}\".format(n, col))\n",
    "        data[n] = data[col].apply(t)\n",
    "    if drop_col:\n",
    "        print(\"dropping {}\".format(col))\n",
    "        data = data.drop(columns=[col])  \n",
    "    return data"
   ]
  },
  {
   "cell_type": "markdown",
   "metadata": {},
   "source": [
    "### handle datetimes: START\n",
    "apply multiple transforms to start time. \n",
    "\n",
    "*Don't remove end times, unnecessary*"
   ]
  },
  {
   "cell_type": "code",
   "execution_count": 19,
   "metadata": {},
   "outputs": [],
   "source": [
    "def transform_start_datetimes(data):\n",
    "    col = \"Station Start Time (Local)\"\n",
    "    \n",
    "    # remove sessions where timestamp is not a string\n",
    "    data_clean = data[data[col].apply(lambda x: type(x)) == type(\"\")]\n",
    "    print(\"removed {} sessions where timestamp was not a string\".format(len(data) - len(data_clean)))\n",
    "    \n",
    "    # Note changed to use \"to_day0\" not \"to_day\"\n",
    "    transforms = [to_datetime, to_seconds, to_year, to_month, to_day0, to_weekday]\n",
    "    names = [\"datetime\", \"seconds\", \"year\", \"month\", \"day\", \"weekday\"]\n",
    "    names = [\"start_{}\".format(x) for x in names]\n",
    "    \n",
    "    # create datetime object from string\n",
    "    data_clean = apply_transforms(data_clean, col, [transforms[0]], [names[0]], drop_col=False)\n",
    "    # all other transfroms are applied to datetime object\n",
    "    data_clean = apply_transforms(data_clean, names[0], transforms[1:], names[1:], drop_col=False)\n",
    "    \n",
    "    return data_clean"
   ]
  },
  {
   "cell_type": "code",
   "execution_count": 20,
   "metadata": {},
   "outputs": [
    {
     "name": "stdout",
     "output_type": "stream",
     "text": [
      "2015-05-26 17:05:01.0\n",
      "2015-05-26 17:05:01\n",
      "2015-05-26 17:05:01\n",
      "<class 'str'>    1030273\n",
      "Name: Station Start Time (Local), dtype: int64\n"
     ]
    }
   ],
   "source": [
    "col = \"Station Start Time (Local)\"\n",
    "print(df[col][0])\n",
    "print(datetime.strptime(df[col][0], \"%Y-%m-%d %H:%M:%S.%f\"))\n",
    "print(datetime.strptime(df[col][0], \"%Y-%m-%d %H:%M:%S.%f\"))\n",
    "print(df[col].apply(lambda x: type(x)).value_counts())"
   ]
  },
  {
   "cell_type": "code",
   "execution_count": 24,
   "metadata": {},
   "outputs": [
    {
     "name": "stdout",
     "output_type": "stream",
     "text": [
      "removed 0 sessions where timestamp was not a string\n",
      "applying transform start_datetime to Station Start Time (Local)\n",
      "applying transform start_seconds to start_datetime\n",
      "applying transform start_year to start_datetime\n",
      "applying transform start_month to start_datetime\n",
      "applying transform start_day to start_datetime\n",
      "applying transform start_weekday to start_datetime\n"
     ]
    }
   ],
   "source": [
    "df = transform_start_datetimes(df)"
   ]
  },
  {
   "cell_type": "markdown",
   "metadata": {},
   "source": [
    "# Optional Cleaning"
   ]
  },
  {
   "cell_type": "markdown",
   "metadata": {},
   "source": [
    "## Helper function: Remove all rows that are not legit values for a column"
   ]
  },
  {
   "cell_type": "code",
   "execution_count": 25,
   "metadata": {},
   "outputs": [],
   "source": [
    "def remove_out_of(data, col, legit_values, keep_nan=True):\n",
    "    \"\"\"Helper function: Remove all rows that are not legit values for a column\"\"\"\n",
    "    print(\"There are {} NAN entries in column {}\".format(data[col].isnull().sum(), col))\n",
    "    legit = data[col].apply(lambda x: x in legit_values)\n",
    "    is_nan = keep_nan & data[col].isnull()\n",
    "    data_clean = data[legit | is_nan]\n",
    "    print(\"Removed {} entries for variable {} of values {}\".format(\n",
    "        len(data)-len(data_clean), col, set(data[col].unique()) - set(legit_values + [np.nan])))\n",
    "    if not keep_nan:\n",
    "        print(\"dropped nans\")\n",
    "    return data_clean"
   ]
  },
  {
   "cell_type": "markdown",
   "metadata": {},
   "source": [
    "## Optional Clean 6 - ignore sessions not in PDT/PST timezone\n",
    "\n",
    "Note: Is only small fraction\n"
   ]
  },
  {
   "cell_type": "code",
   "execution_count": 29,
   "metadata": {},
   "outputs": [
    {
     "name": "stdout",
     "output_type": "stream",
     "text": [
      "There are 0 NAN entries in column Session Time Zone\n",
      "Removed 2282 entries for variable Session Time Zone of values {'UTC'}\n"
     ]
    }
   ],
   "source": [
    "df = remove_out_of(df, col=\"Session Time Zone\", legit_values=['PDT', 'PST'], keep_nan=True)\n"
   ]
  },
  {
   "cell_type": "markdown",
   "metadata": {},
   "source": [
    "## Optional Clean 7 - discard drivers from out of country\n",
    "Because they are only here temporarily\n",
    "\n",
    "Is only small fraction\n",
    "\n",
    "Keep drivers from other states, because they might just not have changed their info in the database"
   ]
  },
  {
   "cell_type": "code",
   "execution_count": 30,
   "metadata": {},
   "outputs": [
    {
     "name": "stdout",
     "output_type": "stream",
     "text": [
      "There are 536 NAN entries in column Driver Country\n",
      "Removed 0 entries for variable Driver Country of values set()\n"
     ]
    }
   ],
   "source": [
    "df = remove_out_of(df, col=\"Driver Country\", legit_values=[\"United States\"], keep_nan=True)"
   ]
  },
  {
   "cell_type": "markdown",
   "metadata": {},
   "source": [
    "## Optional Clean 8 -  discard sessions with Fees not in USD\n",
    "is only small fraction"
   ]
  },
  {
   "cell_type": "code",
   "execution_count": 31,
   "metadata": {},
   "outputs": [
    {
     "name": "stdout",
     "output_type": "stream",
     "text": [
      "There are 1 NAN entries in column Fee Currency\n",
      "Removed 0 entries for variable Fee Currency of values set()\n"
     ]
    }
   ],
   "source": [
    "df = remove_out_of(df, col=\"Fee Currency\", legit_values=[\"USD\"], keep_nan=True)"
   ]
  },
  {
   "cell_type": "markdown",
   "metadata": {},
   "source": [
    "# Put all together in one function"
   ]
  },
  {
   "cell_type": "code",
   "execution_count": 32,
   "metadata": {},
   "outputs": [],
   "source": [
    "def clean_session_data(df):\n",
    "    \"\"\"\n",
    "    * 1) Eliminate sessions that have 0 kWh Energy\n",
    "    * 2) Eliminate sessions where total session time is less than 120 seconds (probably driver never really charged his car)\n",
    "    * 3) Ignore sessions with Energy(kWh) greater than 100 kWh\n",
    "    \"\"\"\n",
    "    df = remove_less_than(df, col='Energy (kWh)', threshold=0.1)    \n",
    "    df = remove_less_than(df, col='Session Time (secs)', threshold=120)\n",
    "    df = remove_greater_than(df, col='Energy (kWh)', threshold=100)\n",
    "    \n",
    "    df = transform_start_datetimes(df)\n",
    "    df = remove_out_of(df, col=\"Session Time Zone\", legit_values=['PDT', 'PST'], keep_nan=True)\n",
    "    df = remove_out_of(df, col=\"Driver Country\", legit_values=[\"United States\"], keep_nan=True)\n",
    "    df = remove_out_of(df, col=\"Fee Currency\", legit_values=[\"USD\"], keep_nan=True) \n",
    "        \n",
    "    return df"
   ]
  },
  {
   "cell_type": "markdown",
   "metadata": {
    "collapsed": true
   },
   "source": [
    "# Clean, Transform all at once: "
   ]
  },
  {
   "cell_type": "code",
   "execution_count": 33,
   "metadata": {},
   "outputs": [
    {
     "name": "stdout",
     "output_type": "stream",
     "text": [
      "removing 43205 occurences of Energy (kWh) of less than 0.1\n",
      "removing 1176 occurences of Session Time (secs) of less than 120\n",
      "removing 14 occurences of Energy (kWh) of greater than 100\n",
      "removed 0 sessions where timestamp was not a string\n",
      "applying transform start_datetime to Station Start Time (Local)\n",
      "applying transform start_seconds to start_datetime\n",
      "applying transform start_year to start_datetime\n",
      "applying transform start_month to start_datetime\n",
      "applying transform start_day to start_datetime\n",
      "applying transform start_weekday to start_datetime\n",
      "There are 0 NAN entries in column Session Time Zone\n",
      "Removed 2282 entries for variable Session Time Zone of values {'UTC'}\n",
      "There are 536 NAN entries in column Driver Country\n",
      "Removed 0 entries for variable Driver Country of values set()\n",
      "There are 1 NAN entries in column Fee Currency\n",
      "Removed 0 entries for variable Fee Currency of values set()\n",
      "change in size: 0.9565661208857061\n"
     ]
    }
   ],
   "source": [
    "df = clean_session_data(df_raw)\n",
    "print(\"change in size:\",  len(df)/len(df_raw))"
   ]
  },
  {
   "cell_type": "markdown",
   "metadata": {},
   "source": [
    "# Save"
   ]
  },
  {
   "cell_type": "code",
   "execution_count": 34,
   "metadata": {},
   "outputs": [],
   "source": [
    "save_date = '26072019'"
   ]
  },
  {
   "cell_type": "code",
   "execution_count": 35,
   "metadata": {},
   "outputs": [
    {
     "data": {
      "text/plain": [
       "{'ResponseMetadata': {'RequestId': '97E67B4A6B32D19D',\n",
       "  'HostId': '1mPNYw0U4KQBNg7ogT6u5BC9sbqU8LUIu1IF3U79mtavVylJgbN7VeqJmKEmAKiCesI+uIFxxB4=',\n",
       "  'HTTPStatusCode': 200,\n",
       "  'HTTPHeaders': {'x-amz-id-2': '1mPNYw0U4KQBNg7ogT6u5BC9sbqU8LUIu1IF3U79mtavVylJgbN7VeqJmKEmAKiCesI+uIFxxB4=',\n",
       "   'x-amz-request-id': '97E67B4A6B32D19D',\n",
       "   'date': 'Sat, 27 Jul 2019 00:22:34 GMT',\n",
       "   'etag': '\"414f3a3afba48c1aa2cdd498c62e2d24\"',\n",
       "   'content-length': '0',\n",
       "   'server': 'AmazonS3'},\n",
       "  'RetryAttempts': 0},\n",
       " 'ETag': '\"414f3a3afba48c1aa2cdd498c62e2d24\"'}"
      ]
     },
     "execution_count": 35,
     "metadata": {},
     "output_type": "execute_result"
    }
   ],
   "source": [
    "csv_buffer = StringIO()\n",
    "df.to_csv(csv_buffer, index=False)\n",
    "s3_resource = boto3.resource('s3')\n",
    "s3_resource.Object('script.chargepoint.data', 'Residential_Data/clean/Charging_Sessions_Cleaned'+str(save_date)+'.csv').put(Body=csv_buffer.getvalue())"
   ]
  }
 ],
 "metadata": {
  "kernelspec": {
   "display_name": "Python 3",
   "language": "python",
   "name": "python3"
  },
  "language_info": {
   "codemirror_mode": {
    "name": "ipython",
    "version": 3
   },
   "file_extension": ".py",
   "mimetype": "text/x-python",
   "name": "python",
   "nbconvert_exporter": "python",
   "pygments_lexer": "ipython3",
   "version": "3.7.0"
  }
 },
 "nbformat": 4,
 "nbformat_minor": 1
}
