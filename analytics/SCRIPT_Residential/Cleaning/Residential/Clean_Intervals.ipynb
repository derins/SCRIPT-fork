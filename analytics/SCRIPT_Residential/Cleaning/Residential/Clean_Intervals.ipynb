{
 "cells": [
  {
   "cell_type": "markdown",
   "metadata": {},
   "source": [
    "# Clean Intervals\n",
    "\n",
    "Based off Oskar's script called 'clean_intervals' for the commercial data."
   ]
  },
  {
   "cell_type": "code",
   "execution_count": 2,
   "metadata": {},
   "outputs": [],
   "source": [
    "import pandas as pd\n",
    "import s3fs\n",
    "import boto3\n",
    "from io import StringIO\n",
    "from datetime import datetime, date\n",
    "import numpy as np"
   ]
  },
  {
   "cell_type": "markdown",
   "metadata": {},
   "source": [
    "\n",
    "### Clean\n",
    "\n",
    "* 0 - Remove all Intervals with Zero or Negative Energy (End of a session is captured in session data)\n",
    "* 1 - Remove intervals of duration less than 1 second\n",
    "* 2 - Replace negative energy values with zero\n",
    "* 3a - Ignore interval data with super high “Power” (limit to station max: 50kW) -> Assuming power data is in kW. \n",
    "* 3b - Also limit maximal energy, to 50kW times Interval-duration\n",
    "\n",
    "* optional: Sort by session ID and interval ID\n",
    "* optional: round to 4 decimals\n",
    "\n",
    "Note: only done for non-fleet.\n",
    "\n",
    "Note:\n",
    "Some of the intervals in a session might be missing in a few cases because the data was not stored/captured\n",
    "Ideally “Session Time” and sum of “Interval Duration” should match, if it does not, please use “Session Time”"
   ]
  },
  {
   "cell_type": "code",
   "execution_count": 3,
   "metadata": {},
   "outputs": [
    {
     "name": "stdout",
     "output_type": "stream",
     "text": [
      "Len of CSV:  40285809\n",
      "Columns:  ['Interval ID', 'Session ID', 'Interval Start Time (Local)', 'Interval Duration (Secs)', 'Peak Power', 'Average Power', 'Interval Energy']\n"
     ]
    }
   ],
   "source": [
    "date_united = '26072019'\n",
    "df_raw = pd.read_csv('s3://script.chargepoint.data/Residential_Data/clean/Charging_Intervals_United'+date_united+'.csv')\n",
    "print(\"Len of CSV: \", len(df_raw.index))\n",
    "print(\"Columns: \", list(df_raw))"
   ]
  },
  {
   "cell_type": "markdown",
   "metadata": {},
   "source": [
    "# Helper Fun"
   ]
  },
  {
   "cell_type": "code",
   "execution_count": 4,
   "metadata": {},
   "outputs": [],
   "source": [
    "def apply_inplace(df, field, fun):\n",
    "    return pd.concat([df.drop(field, axis=1), df[field].apply(fun)], axis=1) "
   ]
  },
  {
   "cell_type": "code",
   "execution_count": 5,
   "metadata": {},
   "outputs": [],
   "source": [
    "def remove_less_or_equal(data, col, threshold):\n",
    "    print(\"removing {} occurences of {} of less than {}\".format(sum(data[col] <= threshold), col, threshold))\n",
    "    return data[data[col] > threshold]"
   ]
  },
  {
   "cell_type": "code",
   "execution_count": 6,
   "metadata": {},
   "outputs": [],
   "source": [
    "def remove_less_than(data, col, threshold):\n",
    "    print(\"removing {} occurences of {} of less than {}\".format(sum(data[col] < threshold), col, threshold))\n",
    "    return data[data[col] >= threshold]"
   ]
  },
  {
   "cell_type": "code",
   "execution_count": 9,
   "metadata": {},
   "outputs": [],
   "source": [
    "def replace_neg_with_zero(data, col):\n",
    "    print(\"In {}, {} negative entries were replaced with 0\".format(col, sum(data[col] < 0)))\n",
    "    fun = lambda x: x if (x > 0) else 0.0\n",
    "    return apply_inplace(data, col, fun)"
   ]
  },
  {
   "cell_type": "markdown",
   "metadata": {},
   "source": [
    "# Clean 0 - Remove Intervals with Zero or negative Energy"
   ]
  },
  {
   "cell_type": "code",
   "execution_count": 7,
   "metadata": {},
   "outputs": [
    {
     "name": "stdout",
     "output_type": "stream",
     "text": [
      "removing 29369560 occurences of Interval Energy of less than 0.0\n"
     ]
    }
   ],
   "source": [
    "df = remove_less_or_equal(df_raw, col=\"Interval Energy\", threshold=0.0)"
   ]
  },
  {
   "cell_type": "markdown",
   "metadata": {},
   "source": [
    "# Clean 1 - Remove intervals of length 0"
   ]
  },
  {
   "cell_type": "code",
   "execution_count": 8,
   "metadata": {},
   "outputs": [
    {
     "name": "stdout",
     "output_type": "stream",
     "text": [
      "removing 93427 occurences of Interval Duration (Secs) of less than 1\n"
     ]
    }
   ],
   "source": [
    "df = remove_less_than(df, col='Interval Duration (Secs)', threshold=1)"
   ]
  },
  {
   "cell_type": "markdown",
   "metadata": {},
   "source": [
    "# Clean 2 - Replace negative Power with 0"
   ]
  },
  {
   "cell_type": "code",
   "execution_count": 10,
   "metadata": {},
   "outputs": [
    {
     "name": "stdout",
     "output_type": "stream",
     "text": [
      "In Peak Power, 0 negative entries were replaced with 0\n",
      "In Average Power, 0 negative entries were replaced with 0\n"
     ]
    }
   ],
   "source": [
    "df = replace_neg_with_zero(df, col='Peak Power')\n",
    "df = replace_neg_with_zero(df, col='Average Power')"
   ]
  },
  {
   "cell_type": "markdown",
   "metadata": {},
   "source": [
    "# Clean 3 - Limit Peak / Avg Power and Interval Energy"
   ]
  },
  {
   "cell_type": "code",
   "execution_count": 13,
   "metadata": {},
   "outputs": [],
   "source": [
    "def limit_power(data, col, threshold):\n",
    "    print(\"In {}, {} extreme entries were replaced with {}\".format(col, sum(data[col] > threshold), threshold))\n",
    "    fun = lambda x: min(x, threshold)\n",
    "    return apply_inplace(data, col, fun)"
   ]
  },
  {
   "cell_type": "code",
   "execution_count": 14,
   "metadata": {},
   "outputs": [],
   "source": [
    "def limit_energy_sophisticated(data, threshold):\n",
    "    assert sum(data['Interval Duration (Secs)'] == 0) == 0\n",
    "    col = 'Interval Energy'\n",
    "    col_s = 'Interval Duration (Secs)'\n",
    "    to_replace = data[col]  > (threshold/3600)*data[col_s]\n",
    "    print(\"In {}, {} extreme entries were replaced with {}\".format(col, sum(to_replace), threshold))\n",
    "    data.loc[:, col] = np.minimum(data[col], (threshold/3600)*data[col_s])\n",
    "    return data"
   ]
  },
  {
   "cell_type": "code",
   "execution_count": 15,
   "metadata": {},
   "outputs": [
    {
     "name": "stdout",
     "output_type": "stream",
     "text": [
      "In Peak Power, 10 extreme entries were replaced with 50\n",
      "In Average Power, 634 extreme entries were replaced with 50\n",
      "In Interval Energy, 1982 extreme entries were replaced with 50\n"
     ]
    }
   ],
   "source": [
    "df = limit_power(df, col='Peak Power', threshold=50)\n",
    "df = limit_power(df, col='Average Power', threshold=50)\n",
    "df = limit_energy_sophisticated(df, threshold=50)"
   ]
  },
  {
   "cell_type": "markdown",
   "metadata": {},
   "source": [
    "# Sort values  by session ID, interval ID"
   ]
  },
  {
   "cell_type": "code",
   "execution_count": 16,
   "metadata": {},
   "outputs": [],
   "source": [
    "df = df.sort_values(by=[\"Session ID\", \"Interval ID\"], axis=0, ascending=True)"
   ]
  },
  {
   "cell_type": "markdown",
   "metadata": {},
   "source": [
    "~~Simplify dataset for easier joining~~"
   ]
  },
  {
   "cell_type": "code",
   "execution_count": 23,
   "metadata": {},
   "outputs": [],
   "source": [
    "# if test:\n",
    "#     data = df.copy(deep=True)\n",
    "#     print(\"fraction of incomplete intervals:\", sum(data[\"Interval Duration (Secs)\"] != 900)/len(data))\n",
    "# # Note: too many. skipped."
   ]
  },
  {
   "cell_type": "markdown",
   "metadata": {},
   "source": [
    "## Round to 4 decimals"
   ]
  },
  {
   "cell_type": "code",
   "execution_count": 17,
   "metadata": {},
   "outputs": [],
   "source": [
    "decimals = {'Interval Energy': 4, 'Peak Power': 4, 'Average Power': 4}\n",
    "df = df.round(decimals=decimals)"
   ]
  },
  {
   "cell_type": "markdown",
   "metadata": {},
   "source": [
    "# All in one function"
   ]
  },
  {
   "cell_type": "code",
   "execution_count": 18,
   "metadata": {},
   "outputs": [],
   "source": [
    "def clean_intervals(df):\n",
    "    \"\"\"\n",
    "    * 0 - Remove all Intervals with Zero or Negative Energy (End of a session is captured in session data)\n",
    "    * 1 - Remove intervals of duration less than 1 second\n",
    "    * 2 - Replace negative energy values with zero\n",
    "    * 3a - Ignore interval data with super high “Power” (limit to station max: 50kW) -> Assuming power data is in kW. \n",
    "    * 3b - Also limit maximal energy, to 50kW times Interval-duration\n",
    "    * optional: Sort by session ID and interval ID\n",
    "    * optional: round to 4 decimals\n",
    "    \"\"\"\n",
    "    df = remove_less_or_equal(df, col=\"Interval Energy\", threshold=0.0)\n",
    "    df = remove_less_than(df, col='Interval Duration (Secs)', threshold=1)\n",
    "    df = replace_neg_with_zero(df, col='Peak Power')\n",
    "    df = replace_neg_with_zero(df, col='Average Power')\n",
    "    df = replace_neg_with_zero(df, col='Interval Energy')\n",
    "    df = limit_power(df, col='Peak Power', threshold=50)\n",
    "    df = limit_power(df, col='Average Power', threshold=50)\n",
    "    df = limit_energy_sophisticated(df, threshold=50)\n",
    "    df = df.sort_values(by=[\"Session ID\", \"Interval ID\"], axis=0, ascending=True)\n",
    "    df = df.round(decimals={'Interval Energy': 4,'Peak Power': 4,'Average Power': 4,})\n",
    "    return df"
   ]
  },
  {
   "cell_type": "code",
   "execution_count": 19,
   "metadata": {},
   "outputs": [
    {
     "name": "stdout",
     "output_type": "stream",
     "text": [
      "removing 29369560 occurences of Interval Energy of less than 0.0\n",
      "removing 93427 occurences of Interval Duration (Secs) of less than 1\n",
      "In Peak Power, 0 negative entries were replaced with 0\n",
      "In Average Power, 0 negative entries were replaced with 0\n",
      "In Interval Energy, 0 negative entries were replaced with 0\n",
      "In Peak Power, 10 extreme entries were replaced with 50\n",
      "In Average Power, 634 extreme entries were replaced with 50\n",
      "In Interval Energy, 1982 extreme entries were replaced with 50\n",
      "change in size: 0.26865097831348006\n"
     ]
    }
   ],
   "source": [
    "# Can do it all at once: \n",
    "df = clean_intervals(df_raw)\n",
    "print(\"change in size:\",  len(df)/len(df_raw))"
   ]
  },
  {
   "cell_type": "markdown",
   "metadata": {
    "collapsed": true
   },
   "source": [
    "# Save"
   ]
  },
  {
   "cell_type": "code",
   "execution_count": 20,
   "metadata": {},
   "outputs": [],
   "source": [
    "save_date = '26072019'"
   ]
  },
  {
   "cell_type": "code",
   "execution_count": 21,
   "metadata": {},
   "outputs": [
    {
     "data": {
      "text/plain": [
       "{'ResponseMetadata': {'RequestId': '8C27C7E97057E56A',\n",
       "  'HostId': '1maNr4TugUCoWUIfH/YS1qAawmiqP/rxS24UR2ojKzh2rE6zDBSf9BSVn/zLQMUJNzjLqyiV9B4=',\n",
       "  'HTTPStatusCode': 200,\n",
       "  'HTTPHeaders': {'x-amz-id-2': '1maNr4TugUCoWUIfH/YS1qAawmiqP/rxS24UR2ojKzh2rE6zDBSf9BSVn/zLQMUJNzjLqyiV9B4=',\n",
       "   'x-amz-request-id': '8C27C7E97057E56A',\n",
       "   'date': 'Sat, 27 Jul 2019 00:47:40 GMT',\n",
       "   'etag': '\"6111ea41c46dccf91b4d3950c6e239b8\"',\n",
       "   'content-length': '0',\n",
       "   'server': 'AmazonS3'},\n",
       "  'RetryAttempts': 0},\n",
       " 'ETag': '\"6111ea41c46dccf91b4d3950c6e239b8\"'}"
      ]
     },
     "execution_count": 21,
     "metadata": {},
     "output_type": "execute_result"
    }
   ],
   "source": [
    "csv_buffer = StringIO()\n",
    "df.to_csv(csv_buffer, index=False)\n",
    "s3_resource = boto3.resource('s3')\n",
    "s3_resource.Object('script.chargepoint.data', 'Residential_Data/clean/Charging_Intervals_Cleaned'+str(save_date)+'.csv').put(Body=csv_buffer.getvalue())"
   ]
  }
 ],
 "metadata": {
  "kernelspec": {
   "display_name": "Python 3",
   "language": "python",
   "name": "python3"
  },
  "language_info": {
   "codemirror_mode": {
    "name": "ipython",
    "version": 3
   },
   "file_extension": ".py",
   "mimetype": "text/x-python",
   "name": "python",
   "nbconvert_exporter": "python",
   "pygments_lexer": "ipython3",
   "version": "3.7.0"
  }
 },
 "nbformat": 4,
 "nbformat_minor": 1
}
