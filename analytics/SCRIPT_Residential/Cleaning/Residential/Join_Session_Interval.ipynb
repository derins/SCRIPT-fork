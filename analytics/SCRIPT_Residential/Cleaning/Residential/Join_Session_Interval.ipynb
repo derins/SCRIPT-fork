{
 "cells": [
  {
   "cell_type": "markdown",
   "metadata": {},
   "source": [
    "# Join Cleaned Session and Interval Datasets\n",
    "\n",
    "Based on Oskar's script, but only implement the first part\n",
    "\n",
    "Idea: having cleaned sessions and intervals data separately, make sure now that there are no sessions which appear in one set but not the other"
   ]
  },
  {
   "cell_type": "code",
   "execution_count": 1,
   "metadata": {},
   "outputs": [],
   "source": [
    "import pandas as pd\n",
    "import numpy as np\n",
    "from datetime import datetime\n",
    "import matplotlib.pyplot as plt\n",
    "# import ast\n",
    "import boto3\n",
    "import s3fs\n",
    "from io import StringIO"
   ]
  },
  {
   "cell_type": "code",
   "execution_count": 3,
   "metadata": {},
   "outputs": [],
   "source": [
    "date_saved = '26072019'"
   ]
  },
  {
   "cell_type": "code",
   "execution_count": 4,
   "metadata": {},
   "outputs": [],
   "source": [
    "interval = pd.read_csv('s3://script.chargepoint.data/Residential_Data/clean/Charging_Intervals_Cleaned'+date_saved+'.csv')\n",
    "session = pd.read_csv('s3://script.chargepoint.data/Residential_Data/clean/Charging_Sessions_Cleaned'+date_saved+'.csv')"
   ]
  },
  {
   "cell_type": "code",
   "execution_count": 5,
   "metadata": {
    "scrolled": true
   },
   "outputs": [
    {
     "name": "stdout",
     "output_type": "stream",
     "text": [
      "['Interval ID', 'Session ID', 'Interval Start Time (Local)', 'Interval Duration (Secs)', 'Interval Energy', 'Peak Power', 'Average Power']\n",
      "['Session ID', 'Station ID', 'Port ID', 'Connector Type', 'POI Category', 'POI Subcategory', 'Station Start Time (Local)', 'Station End Time (Local)', 'Session Time Zone', 'Session Time (secs)', 'Charging Time (secs)', 'Start SoC', 'End SoC', 'Full Charge', 'Energy (kWh)', 'Driver ID', 'Driver Zip', 'Vehicle Make', 'Vehicle Model', 'Battery Capacity', 'EV Type', '$ Fee', 'Fee Currency', 'Zip Code', 'City', 'County', 'State', 'Country', 'Driver City', 'Driver State', 'Driver Country', 'Max Power', 'Session Type', 'Vehicle Model Year', 'start_datetime', 'start_seconds', 'start_year', 'start_month', 'start_day', 'start_weekday']\n"
     ]
    }
   ],
   "source": [
    "print(list(interval))\n",
    "print(list(session))"
   ]
  },
  {
   "cell_type": "markdown",
   "metadata": {},
   "source": [
    "### Helper Fun"
   ]
  },
  {
   "cell_type": "code",
   "execution_count": 6,
   "metadata": {},
   "outputs": [],
   "source": [
    "def apply_inplace(df, field, fun):\n",
    "    return pd.concat([df.drop(field, axis=1), df[field].apply(fun)], axis=1) "
   ]
  },
  {
   "cell_type": "code",
   "execution_count": 7,
   "metadata": {},
   "outputs": [],
   "source": [
    "def str_list(x):\n",
    "    return str(list(x))"
   ]
  },
  {
   "cell_type": "markdown",
   "metadata": {},
   "source": [
    "# Remove Sessions and Intervals without a pair"
   ]
  },
  {
   "cell_type": "code",
   "execution_count": 10,
   "metadata": {},
   "outputs": [],
   "source": [
    "def remove_unpaired(session, interval):\n",
    "    # Getting unique session ID values from interval data\n",
    "    interval_session_IDs_unique = interval['Session ID'].unique()\n",
    "    session_IDs_unique = session['Session ID'].unique()\n",
    "    interval_set = set(interval_session_IDs_unique)\n",
    "    session_set = set(session_IDs_unique)\n",
    "    paired = interval_set.intersection(session_set)\n",
    "    print(\"Number of unique sessions ID in interval data: \", len(interval_session_IDs_unique))\n",
    "    print(\"Number of unique sessions ID in session data: \", len(session_IDs_unique))\n",
    "    print(\"Number of unique sessions ID in both: \", len(paired))\n",
    "\n",
    "    # Getting boolean array to check whether session ID from interval data is in session data\n",
    "    session_has_pair = session['Session ID'].isin(paired)\n",
    "    # Removing session IDs that are not part of interval data\n",
    "    session_with_pair = session[session_has_pair]\n",
    "    \n",
    "    # Getting boolean array removing interval data that got removed from session data cleaning\n",
    "    interval_has_pair = interval['Session ID'].isin(paired)\n",
    "    # Getting final interval data\n",
    "    interval_with_pair = interval[interval_has_pair]\n",
    "    \n",
    "    print(\"Change of unique sessions ID in session data: \", \n",
    "          len(session_with_pair['Session ID'].unique()) - len(session_IDs_unique))\n",
    "    print(\"change of unique sessions ID in interval data: \", \n",
    "          len(interval_with_pair['Session ID'].unique()) - len(interval_session_IDs_unique))\n",
    "    \n",
    "    return session_with_pair, interval_with_pair"
   ]
  },
  {
   "cell_type": "code",
   "execution_count": 11,
   "metadata": {},
   "outputs": [
    {
     "name": "stdout",
     "output_type": "stream",
     "text": [
      "Number of unique sessions ID in interval data:  1022594\n",
      "Number of unique sessions ID in session data:  1022594\n",
      "Number of unique sessions ID in both:  1022594\n",
      "Change of unique sessions ID in session data:  0\n",
      "change of unique sessions ID in interval data:  0\n"
     ]
    }
   ],
   "source": [
    "session, interval = remove_unpaired(session, interval)"
   ]
  },
  {
   "cell_type": "markdown",
   "metadata": {},
   "source": [
    "# Save"
   ]
  },
  {
   "cell_type": "code",
   "execution_count": 13,
   "metadata": {},
   "outputs": [],
   "source": [
    "# save_date = '26072019'\n",
    "# Save without date since this will always be the file to use (overwrite each time)"
   ]
  },
  {
   "cell_type": "code",
   "execution_count": null,
   "metadata": {},
   "outputs": [
    {
     "name": "stdout",
     "output_type": "stream",
     "text": [
      "Save paired sessions\n",
      "Save paired intervals\n"
     ]
    }
   ],
   "source": [
    "print(\"Save paired sessions\")\n",
    "csv_buffer = StringIO()\n",
    "session.to_csv(csv_buffer, index=False)\n",
    "s3_resource = boto3.resource('s3')\n",
    "s3_resource.Object('script.chargepoint.data', 'Residential_Data/clean/sessions_paired.csv').put(Body=csv_buffer.getvalue())\n",
    "\n",
    "\n",
    "print(\"Save paired intervals\")\n",
    "csv_buffer = StringIO()\n",
    "interval.to_csv(csv_buffer, index=False)\n",
    "s3_resource = boto3.resource('s3')\n",
    "s3_resource.Object('script.chargepoint.data', 'Residential_Data/clean/intervals_paired.csv').put(Body=csv_buffer.getvalue())\n"
   ]
  }
 ],
 "metadata": {
  "kernelspec": {
   "display_name": "Python 3",
   "language": "python",
   "name": "python3"
  },
  "language_info": {
   "codemirror_mode": {
    "name": "ipython",
    "version": 3
   },
   "file_extension": ".py",
   "mimetype": "text/x-python",
   "name": "python",
   "nbconvert_exporter": "python",
   "pygments_lexer": "ipython3",
   "version": "3.7.0"
  }
 },
 "nbformat": 4,
 "nbformat_minor": 2
}
