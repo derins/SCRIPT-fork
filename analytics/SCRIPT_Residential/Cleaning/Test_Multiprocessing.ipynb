{
 "cells": [
  {
   "cell_type": "code",
   "execution_count": 33,
   "metadata": {},
   "outputs": [],
   "source": [
    "import pandas as pd\n",
    "import timeit\n",
    "import dask.dataframe as dd"
   ]
  },
  {
   "cell_type": "code",
   "execution_count": 34,
   "metadata": {},
   "outputs": [],
   "source": [
    "# do verbose sanity checks, and do not save in the end\n",
    "test = False\n",
    "# working on EC2 instance\n",
    "cloud = True"
   ]
  },
  {
   "cell_type": "code",
   "execution_count": 35,
   "metadata": {},
   "outputs": [],
   "source": [
    "if cloud:\n",
    "    path = \"../../data/\"\n",
    "    file = \"sessions_clean.csv\"\n",
    "else:\n",
    "    path = \"/home/ourownstory/github/data/SLAC\"\n",
    "    file = \"Charging_Session_SLAC.csv\"\n",
    "    \n",
    "if test:\n",
    "    nrows = 1e6\n",
    "else:\n",
    "    nrows = None"
   ]
  },
  {
   "cell_type": "code",
   "execution_count": 62,
   "metadata": {},
   "outputs": [],
   "source": [
    "def do_read_csv():\n",
    "    print(\"Reading {} rows of dataframe\".format(nrows if nrows is not None else \"ALL\"))\n",
    "    df = pd.read_csv(path + file, index_col=False, nrows=nrows)#, low_memory=False)\n",
    "    \n",
    "def dask_read_csv():\n",
    "    df2 = dd.read_csv(path + file, dtype={'Driver Zip': 'object'}).compute()   \n",
    "    \n",
    "def dask_read_csv_blocks():\n",
    "    df2 = dd.read_csv(path + file, dtype={'Driver Zip': 'object'}, blocksize=16e6).compute()"
   ]
  },
  {
   "cell_type": "code",
   "execution_count": 37,
   "metadata": {},
   "outputs": [
    {
     "name": "stdout",
     "output_type": "stream",
     "text": [
      "Reading ALL rows of dataframe\n"
     ]
    },
    {
     "data": {
      "text/plain": [
       "51.95397958100057"
      ]
     },
     "execution_count": 37,
     "metadata": {},
     "output_type": "execute_result"
    }
   ],
   "source": [
    "timeit.timeit(do_read_csv, number=1)"
   ]
  },
  {
   "cell_type": "code",
   "execution_count": 50,
   "metadata": {},
   "outputs": [
    {
     "data": {
      "text/plain": [
       "51.03635120600029"
      ]
     },
     "execution_count": 50,
     "metadata": {},
     "output_type": "execute_result"
    }
   ],
   "source": [
    "timeit.timeit(dask_read_csv, number=1)"
   ]
  },
  {
   "cell_type": "code",
   "execution_count": 51,
   "metadata": {},
   "outputs": [
    {
     "name": "stdout",
     "output_type": "stream",
     "text": [
      "CPU times: user 1min 30s, sys: 8.34 s, total: 1min 39s\n",
      "Wall time: 51.2 s\n"
     ]
    }
   ],
   "source": [
    "%time dask_read_csv()"
   ]
  },
  {
   "cell_type": "code",
   "execution_count": 63,
   "metadata": {},
   "outputs": [
    {
     "name": "stdout",
     "output_type": "stream",
     "text": [
      "CPU times: user 1min 32s, sys: 5.72 s, total: 1min 38s\n",
      "Wall time: 51.5 s\n"
     ]
    }
   ],
   "source": [
    "%time dask_read_csv_blocks()"
   ]
  },
  {
   "cell_type": "code",
   "execution_count": 59,
   "metadata": {},
   "outputs": [],
   "source": [
    "# dd.read_csv?"
   ]
  },
  {
   "cell_type": "code",
   "execution_count": 58,
   "metadata": {},
   "outputs": [],
   "source": [
    "# df2 = dd.read_csv(path + file,dtype={'Driver Zip': 'object'}).compute().info()"
   ]
  },
  {
   "cell_type": "markdown",
   "metadata": {},
   "source": [
    "## Conclusions\n",
    "Either I am doing it wrong, or it can not speed up the reading of a single CSV file."
   ]
  },
  {
   "cell_type": "code",
   "execution_count": null,
   "metadata": {},
   "outputs": [],
   "source": []
  }
 ],
 "metadata": {
  "kernelspec": {
   "display_name": "edapy3",
   "language": "python",
   "name": "edapy3"
  },
  "language_info": {
   "codemirror_mode": {
    "name": "ipython",
    "version": 3
   },
   "file_extension": ".py",
   "mimetype": "text/x-python",
   "name": "python",
   "nbconvert_exporter": "python",
   "pygments_lexer": "ipython3",
   "version": "3.7.2"
  }
 },
 "nbformat": 4,
 "nbformat_minor": 2
}
