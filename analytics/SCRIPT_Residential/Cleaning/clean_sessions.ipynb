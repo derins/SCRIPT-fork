{
 "cells": [
  {
   "cell_type": "code",
   "execution_count": 1,
   "metadata": {},
   "outputs": [],
   "source": [
    "import pandas as pd\n",
    "%matplotlib inline\n",
    "import mpld3\n",
    "mpld3.enable_notebook()\n",
    "import numpy as np \n",
    "import matplotlib.pyplot as plt\n",
    "from datetime import datetime, date"
   ]
  },
  {
   "cell_type": "markdown",
   "metadata": {},
   "source": [
    "# Clean, Transform, Save Session data:\n",
    "## Clean\n",
    "\n",
    "* 1) Eliminate sessions that have 0 kWh Energy\n",
    "\n",
    "* 2) Eliminate sessions where total session time is less than 120 seconds (probably driver never really charged his car)\n",
    "\n",
    "* 3) Ignore sessions with “Connector Type” -  Type 2 Cable & Type 2 Socket\n",
    "\n",
    "* 4) “Session Type” - FLEET should ideally be analyzed/treated separately since they are not your regular/passenger EV drivers\n",
    "\n",
    "* 5) Ignore sessions with Energy(kWh) greater than 100 kWh for “Session Type” OTHER\n",
    "\n",
    "## Transform Datetimes\n",
    "\n",
    "* transform start time string to datetime, create new column \"start_datetime\"\n",
    "* create new columns: \"start_\" + [\"seconds\", \"year\", \"month\", \"day\", \"weekday\"]\n",
    "* ignore endtime, because it is given by start time + duration\n",
    "* drop original start and end columns\n",
    "\n",
    "\n",
    "## Optional Clean:\n",
    "\n",
    "* 6) Ignore sessions not in PDT/PST timezone\n",
    "\n",
    "* 7) discard drivers from out of country\n",
    "\n",
    "* 8) discard sessions with Fees not in USD\n",
    "\n",
    "\n"
   ]
  },
  {
   "cell_type": "code",
   "execution_count": 2,
   "metadata": {},
   "outputs": [],
   "source": [
    "# do verbose sanity checks, and do not save in the end\n",
    "test = False\n",
    "# working on EC2 instance\n",
    "cloud = True\n",
    "# transform datetimes\n",
    "transform_datetimes = True"
   ]
  },
  {
   "cell_type": "code",
   "execution_count": 3,
   "metadata": {},
   "outputs": [],
   "source": [
    "# Loading data into pandas dataframe\n",
    "if cloud:\n",
    "    path = \"../../data/\"\n",
    "    file = \"sessions.csv\"\n",
    "else:\n",
    "    path = \"/home/ourownstory/github/data/SLAC\"\n",
    "    file = \"Charging_Session_SLAC.csv\"\n",
    "\n",
    "if test:\n",
    "    nrows = 1e6\n",
    "else:\n",
    "    nrows = None\n",
    "    \n",
    "def get_csv():\n",
    "    print(\"Reading {} rows of dataframe\".format(nrows if nrows is not None else \"ALL\"))\n",
    "    return pd.read_csv(path + file, index_col=False, nrows=nrows)#, low_memory=False)"
   ]
  },
  {
   "cell_type": "code",
   "execution_count": 4,
   "metadata": {},
   "outputs": [
    {
     "name": "stdout",
     "output_type": "stream",
     "text": [
      "Reading ALL rows of dataframe\n"
     ]
    }
   ],
   "source": [
    "df_raw = get_csv()\n",
    "if test:\n",
    "    df = df_raw.copy(deep=True)"
   ]
  },
  {
   "cell_type": "code",
   "execution_count": 5,
   "metadata": {},
   "outputs": [],
   "source": [
    "# List all column headers\n",
    "if test:\n",
    "    print(\"Size of CSV: \", len(df_raw))\n",
    "    print(\"Columns: \", list(df_raw))"
   ]
  },
  {
   "cell_type": "code",
   "execution_count": 6,
   "metadata": {},
   "outputs": [],
   "source": [
    "# df.head(5)"
   ]
  },
  {
   "cell_type": "markdown",
   "metadata": {},
   "source": [
    "# Helper Fun"
   ]
  },
  {
   "cell_type": "code",
   "execution_count": 7,
   "metadata": {},
   "outputs": [],
   "source": [
    "def remove_less_than(data, col, threshold):\n",
    "    print(\"removing {} occurences of {} of less than {}\".format(sum(data[col] < threshold), col, threshold))\n",
    "    return data[data[col] >= threshold]"
   ]
  },
  {
   "cell_type": "markdown",
   "metadata": {},
   "source": [
    "## Clean 1 - remove sessions with less than 0.1 kWh:"
   ]
  },
  {
   "cell_type": "code",
   "execution_count": 8,
   "metadata": {},
   "outputs": [],
   "source": [
    "if test:\n",
    "    s = sum(df['Energy (kWh)'] < 0.1)\n",
    "    print(\"number of sessions to be removed: \", s)"
   ]
  },
  {
   "cell_type": "code",
   "execution_count": 9,
   "metadata": {},
   "outputs": [],
   "source": [
    "# def session_data_remove_zero_energy(data):\n",
    "#     \"\"\"remove sessions with 0 kWh\"\"\"\n",
    "#     print(\"remove sessions with 0 kWh\")\n",
    "#     data_clean = data[data['Energy (kWh)']!=0]\n",
    "#     print(\"Number of values removed: \", len(data)-len(data_clean))\n",
    "#     return data_clean"
   ]
  },
  {
   "cell_type": "code",
   "execution_count": 10,
   "metadata": {},
   "outputs": [],
   "source": [
    "if test:\n",
    "#     df_clean_1 = session_data_remove_zero_energy(df)\n",
    "    df_clean_1 = remove_less_than(df, col='Energy (kWh)', threshold=0.1)\n"
   ]
  },
  {
   "cell_type": "markdown",
   "metadata": {},
   "source": [
    "## Clean 2 - remove sessions with Session Time < 2min"
   ]
  },
  {
   "cell_type": "code",
   "execution_count": 11,
   "metadata": {},
   "outputs": [],
   "source": [
    "if test:\n",
    "    s = sum(df_clean_1['Session Time (secs)'] < 120)\n",
    "    print(\"Number of sessions less than 120 secs long: \", s)"
   ]
  },
  {
   "cell_type": "code",
   "execution_count": 12,
   "metadata": {},
   "outputs": [],
   "source": [
    "# def session_data_remove_session_time(data, session_time=120):\n",
    "#     \"\"\"Removing sessions with Session Time < 2min\"\"\"\n",
    "#     print(\"Removing sessions with Session Time < 2min\")\n",
    "#     data_clean = data[data['Session Time (secs)'] >= 120]\n",
    "#     print(\"Number of values removed: \", len(data) - len(data_clean))\n",
    "#     return data_clean"
   ]
  },
  {
   "cell_type": "code",
   "execution_count": 13,
   "metadata": {},
   "outputs": [],
   "source": [
    "if test:\n",
    "#     df_clean_2 = session_data_remove_session_time(df_clean_1)\n",
    "    df_clean_2 = remove_less_than(df_clean_1, col='Session Time (secs)', threshold=120)"
   ]
  },
  {
   "cell_type": "markdown",
   "metadata": {},
   "source": [
    "## Clean 3 - Remove sessions with “Connector Type” - Type 2 Cable & Type 2 Socket"
   ]
  },
  {
   "cell_type": "code",
   "execution_count": 14,
   "metadata": {},
   "outputs": [],
   "source": [
    "if test:\n",
    "    session_connector_type = df_clean_2['Connector Type']\n",
    "\n",
    "    # Types of sessions:\n",
    "    print(\"Types of connectors: \", session_connector_type.unique())\n",
    "    \n",
    "    # bad connectors\n",
    "    s =sum((session_connector_type == 'Type 2 Cable') | (session_connector_type == 'Type 2 Socket'))\n",
    "    if s != 0:\n",
    "        print(\"Number of sessions with connectors Type 2: \", s)\n",
    "    else:\n",
    "        print(\"No sessions with Type 2 Connector\")  "
   ]
  },
  {
   "cell_type": "code",
   "execution_count": 15,
   "metadata": {},
   "outputs": [],
   "source": [
    "def session_data_remove_connector(data, conn1='Type 2 Cable', conn2 = 'Type 2 Socket'):\n",
    "    \"\"\"Remove sessions with “Connector Type” - Type 2 Cable & Type 2 Socket\"\"\"\n",
    "    print(\"Remove sessions with “Connector Type” - Type 2 Cable & Type 2 Socket\")\n",
    "    data_clean = data[~((data['Connector Type'] == conn1) | (data['Connector Type'] == conn2))]\n",
    "    print(\"Number of values removed: \", len(data) - len(data_clean))\n",
    "    return data_clean"
   ]
  },
  {
   "cell_type": "code",
   "execution_count": 16,
   "metadata": {},
   "outputs": [],
   "source": [
    "if test:\n",
    "    df_clean_3 = session_data_remove_connector(df_clean_2)"
   ]
  },
  {
   "cell_type": "markdown",
   "metadata": {},
   "source": [
    "## Clean 4 - separating fleet from non fleet"
   ]
  },
  {
   "cell_type": "code",
   "execution_count": 17,
   "metadata": {},
   "outputs": [],
   "source": [
    "if test:\n",
    "    session_type = df_clean_3['Session Type']\n",
    "\n",
    "    # Types of sessions:\n",
    "    print(\"Types of sessions: \", session_type.unique())\n",
    "\n",
    "    s = sum(session_type == \"FLEET\")\n",
    "\n",
    "    if s != 0:\n",
    "        print(\"Number of sessions that corresponds to fleet: \", s)\n",
    "    else:\n",
    "        print(\"No sessions with fleet data type\")"
   ]
  },
  {
   "cell_type": "code",
   "execution_count": 18,
   "metadata": {},
   "outputs": [],
   "source": [
    "def session_data_split_fleet(data, session_type_name=\"FLEET\"):\n",
    "    \"\"\"separate fleet from non fleet\"\"\"\n",
    "    data_clean = data[data['Session Type'] != session_type_name]\n",
    "    data_clean_fleet = data[data['Session Type'] == session_type_name]\n",
    "    print(\"Split into {} NON-{} and {} {}\".format(\n",
    "        len(data_clean), session_type_name, len(data_clean_fleet), session_type_name))\n",
    "    return data_clean, data_clean_fleet"
   ]
  },
  {
   "cell_type": "code",
   "execution_count": 19,
   "metadata": {},
   "outputs": [],
   "source": [
    "if test:\n",
    "    df_clean_4, df_clean_4_fleet = session_data_split_fleet(df_clean_3)"
   ]
  },
  {
   "cell_type": "markdown",
   "metadata": {},
   "source": [
    "## Clean 5 - ignore sessions with Energy(kWh) greater than 100 kWh for “Session Type” OTHER\n"
   ]
  },
  {
   "cell_type": "code",
   "execution_count": 20,
   "metadata": {},
   "outputs": [],
   "source": [
    "if test:\n",
    "    session_type_other = df_clean_4[df_clean_4['Session Type'] == 'OTHER']\n",
    "    session_kwh_other = session_type_other['Energy (kWh)']\n",
    "\n",
    "    s = sum(session_kwh_other > 100)\n",
    "    print(\"Number of sessions greater than 100kWh: \", s)"
   ]
  },
  {
   "cell_type": "code",
   "execution_count": 21,
   "metadata": {},
   "outputs": [],
   "source": [
    "def session_data_other_limit_kwh(data, session_type_name=\"OTHER\", max_kwh=100):\n",
    "    \"\"\" ignore sessions with Energy(kWh) greater than 100 kWh for “Session Type” OTHER\"\"\"\n",
    "    is_other = data['Session Type'] == session_type_name\n",
    "    is_over_max = data['Energy (kWh)'] > 100\n",
    "    data_clean = data[~(is_other & is_over_max)]\n",
    "    print(\"removed {} sessions with Energy(kWh) greater than 100 kWh for “Session Type” OTHER\".format(len(data) - len(data_clean)))\n",
    "    return data_clean"
   ]
  },
  {
   "cell_type": "code",
   "execution_count": 22,
   "metadata": {},
   "outputs": [],
   "source": [
    "if test:\n",
    "    df_clean_5 = session_data_other_limit_kwh(df_clean_4)\n",
    "    df_clean_5_fleet = session_data_other_limit_kwh(df_clean_4_fleet)"
   ]
  },
  {
   "cell_type": "markdown",
   "metadata": {},
   "source": [
    "# Transform Datetimes (make new variables)"
   ]
  },
  {
   "cell_type": "code",
   "execution_count": 23,
   "metadata": {},
   "outputs": [],
   "source": [
    "def to_datetime(x):\n",
    "    return datetime.strptime(x, \"%Y-%m-%d %H:%M:%S.%f\")\n",
    "\n",
    "def to_seconds(x):\n",
    "    \"\"\"seconds in current day since midnight\"\"\"\n",
    "    return 60*60*x.hour + 60*x.minute + x.second\n",
    "\n",
    "def to_year(x):\n",
    "    return x.year\n",
    "\n",
    "def to_month(x):\n",
    "    return x.month\n",
    "\n",
    "def to_day(x):\n",
    "    \"\"\"day of year, [1, 366]\"\"\"\n",
    "    return x.timetuple().tm_yday\n",
    "\n",
    "def to_weekday(x):\n",
    "    \"\"\"weekday, [0, 6]\"\"\"\n",
    "    return x.weekday()"
   ]
  },
  {
   "cell_type": "code",
   "execution_count": 24,
   "metadata": {},
   "outputs": [],
   "source": [
    "def apply_transforms(data, col, transforms, names, drop_col=False):\n",
    "    \"\"\"apply multiple transforms\"\"\"\n",
    "    for n, t in zip(names, transforms):\n",
    "        print(\"applying transfrom {} to {}\".format(n, col))\n",
    "        data[n] = data[col].apply(t)\n",
    "    if drop_col:\n",
    "        print(\"dropping {}\".format(col))\n",
    "        data = data.drop(columns=[col])  \n",
    "    return data"
   ]
  },
  {
   "cell_type": "markdown",
   "metadata": {},
   "source": [
    "### handle datetimes: START\n",
    "apply multiple transforms"
   ]
  },
  {
   "cell_type": "code",
   "execution_count": 25,
   "metadata": {},
   "outputs": [],
   "source": [
    "def transform_start_datetimes(data):\n",
    "    col = \"Station Start Time (Local)\"\n",
    "    \n",
    "    # remove sessions where timestamp is not a string\n",
    "    data_clean = data[data[col].apply(lambda x: type(x)) == type(\"\")]\n",
    "    print(\"removed {} sessions where timestamp was not a string\".format(len(data) - len(data_clean)))\n",
    "    \n",
    "    transforms = [to_datetime, to_seconds, to_year, to_month, to_day, to_weekday]\n",
    "    names = [\"datetime\", \"seconds\", \"year\", \"month\", \"day\", \"weekday\"]\n",
    "    names = [\"start_{}\".format(x) for x in names]\n",
    "    \n",
    "    # create datetime object from string\n",
    "    data_clean = apply_transforms(data_clean, col, [transforms[0]], [names[0]], drop_col=False)\n",
    "    # all other transfroms are applied to datetime object\n",
    "    data_clean = apply_transforms(data_clean, names[0], transforms[1:], names[1:], drop_col=False)\n",
    "    \n",
    "    # check\n",
    "#     for n in names:\n",
    "#         print(df_clean_5[n].head(1))\n",
    "    \n",
    "    return data_clean"
   ]
  },
  {
   "cell_type": "code",
   "execution_count": 26,
   "metadata": {},
   "outputs": [],
   "source": [
    "if test:\n",
    "    col = \"Station Start Time (Local)\"\n",
    "    print(df_clean_5[col][0])\n",
    "    print(datetime.strptime(df_clean_5[col][0], \"%Y-%m-%d %H:%M:%S.%f\"))\n",
    "    print(datetime.strptime(df_clean_5[col][0], \"%Y-%m-%d %H:%M:%S.%f\"))\n",
    "    print(df_clean_5[col].apply(lambda x: type(x)).value_counts())\n",
    "    \n",
    "    df_clean_5 = transform_start_datetimes(df_clean_5)\n",
    "    df_clean_5 = df_clean_5.drop(columns=[\"Station Start Time (Local)\"]) "
   ]
  },
  {
   "cell_type": "markdown",
   "metadata": {},
   "source": [
    "### handle datetimes: E\n",
    "remove - it is redundant. \n",
    "(start + session time = end time)"
   ]
  },
  {
   "cell_type": "code",
   "execution_count": 27,
   "metadata": {},
   "outputs": [],
   "source": [
    "if test:\n",
    "    df_clean_5 = df_clean_5.drop(columns=[\"Station End Time (Local)\"]) "
   ]
  },
  {
   "cell_type": "markdown",
   "metadata": {},
   "source": [
    "# Optional Cleaning\n",
    "Note: only continued for non-fleet"
   ]
  },
  {
   "cell_type": "markdown",
   "metadata": {},
   "source": [
    "## Helper function: Remove all rows that are not legit values for a column"
   ]
  },
  {
   "cell_type": "code",
   "execution_count": 28,
   "metadata": {},
   "outputs": [],
   "source": [
    "def remove_out_of(data, col, legit_values, keep_nan=True):\n",
    "    \"\"\"Helper function: Remove all rows that are not legit values for a column\"\"\"\n",
    "    print(\"There are {} NAN entries in column {}\".format(data[col].isnull().sum(), col))\n",
    "    legit = data[col].apply(lambda x: x in legit_values)\n",
    "    is_nan = keep_nan & data[col].isnull()\n",
    "    data_clean = data[legit | is_nan]\n",
    "    print(\"Removed {} entries for variable {} of values {}\".format(\n",
    "        len(data)-len(data_clean), col, set(data[col].unique()) - set(legit_values + [np.nan])))\n",
    "    if not keep_nan:\n",
    "        print(\"dropped nans\")\n",
    "    return data_clean"
   ]
  },
  {
   "cell_type": "markdown",
   "metadata": {},
   "source": [
    "## Optional Clean 6 - ignore sessions not in PDT/PST timezone\n",
    "\n",
    "Note: Is only small fraction\n"
   ]
  },
  {
   "cell_type": "code",
   "execution_count": 29,
   "metadata": {
    "scrolled": true
   },
   "outputs": [],
   "source": [
    "if test:\n",
    "    column = \"Session Time Zone\"\n",
    "    print(df_clean_5[column].value_counts())\n",
    "    # print(len(sessions[column].unique()))\n",
    "\n",
    "    # check: if all in California, USA, must be PDT/PST\n",
    "    col = \"Country\"\n",
    "    print(col)\n",
    "    print(df_clean_5[col].value_counts())\n",
    "    col = \"State\"\n",
    "    print(col)\n",
    "    print(df_clean_5[col].value_counts())"
   ]
  },
  {
   "cell_type": "code",
   "execution_count": 30,
   "metadata": {},
   "outputs": [],
   "source": [
    "if test and transform_datetimes:\n",
    "    # plot START UDT, to sanity check graph form\n",
    "    df_plot = df_clean_5[df_clean_5[\"Session Time Zone\"].apply(lambda x: x in [\"PST\", \"PDT\"])]\n",
    "    df_plot = df_plot[\"start_seconds\"]\n",
    "    plot = plt.hist(df_plot/(60*60), bins=50)"
   ]
  },
  {
   "cell_type": "code",
   "execution_count": 31,
   "metadata": {},
   "outputs": [],
   "source": [
    "if test and transform_datetimes: \n",
    "    # plot START non-UT - shifted or random? seems like a mix\n",
    "    df_plot = df_clean_5[df_clean_5[\"Session Time Zone\"].apply(lambda x: x not in [\"PST\", \"PDT\"])]\n",
    "    df_plot = df_plot[\"start_seconds\"]\n",
    "    plot = plt.hist(df_plot/(60*60), bins=50)"
   ]
  },
  {
   "cell_type": "code",
   "execution_count": 32,
   "metadata": {},
   "outputs": [],
   "source": [
    "if test:\n",
    "    df_clean_6 = remove_out_of(df_clean_5, col=\"Session Time Zone\", legit_values=['PDT', 'PST'], keep_nan=True)"
   ]
  },
  {
   "cell_type": "markdown",
   "metadata": {},
   "source": [
    "## Optional Clean 7 - discard drivers from out of country\n",
    "Because they are only here temporarily\n",
    "\n",
    "Is only small fraction\n",
    "\n",
    "Keep drivers from other states, because they might just not have changed their info in the database"
   ]
  },
  {
   "cell_type": "code",
   "execution_count": 33,
   "metadata": {},
   "outputs": [],
   "source": [
    "if test:\n",
    "    df_clean_7 = remove_out_of(df_clean_6, col=\"Driver Country\", legit_values=[\"United States\"], keep_nan=True)\n",
    "    # Keep out of state drivers for now\n",
    "    # df_clean_7 = remove_out_of(df_clean_7, col=\"Driver State\", legit_values=[\"California\"], keep_nan=True)"
   ]
  },
  {
   "cell_type": "markdown",
   "metadata": {},
   "source": [
    "## Optional Clean 8 -  discard sessions with Fees not in USD\n",
    "is only small fraction"
   ]
  },
  {
   "cell_type": "code",
   "execution_count": 34,
   "metadata": {},
   "outputs": [],
   "source": [
    "if test:\n",
    "    df_clean_8 = remove_out_of(df_clean_7, col=\"Fee Currency\", legit_values=[\"USD\"], keep_nan=True)"
   ]
  },
  {
   "cell_type": "markdown",
   "metadata": {},
   "source": [
    "# Put all together in one function"
   ]
  },
  {
   "cell_type": "code",
   "execution_count": 35,
   "metadata": {},
   "outputs": [],
   "source": [
    "def clean_session_data(df, optional=True, transform_datetimes=True):\n",
    "    \"\"\"\n",
    "    * 1) Eliminate sessions that have 0 kWh Energy\n",
    "    * 2) Eliminate sessions where total session time is less than 120 seconds (probably driver never really charged his car)\n",
    "    * 3) Ignore sessions with “Connector Type” -  Type 2 Cable & Type 2 Socket\n",
    "    * 4) “Session Type” - FLEET should ideally be analyzed/treated separately since they are not your regular/passenger EV drivers\n",
    "    * 5) Ignore sessions with Energy(kWh) greater than 100 kWh for “Session Type” OTHER\n",
    "    \"\"\"\n",
    "    df_clean_1 = remove_less_than(df, col='Energy (kWh)', threshold=0.1)    \n",
    "    df_clean_2 = remove_less_than(df_clean_1, col='Session Time (secs)', threshold=120)\n",
    "    df_clean_3 = session_data_remove_connector(df_clean_2)\n",
    "    df_clean_4, df_clean_4_fleet = session_data_split_fleet(df_clean_3)\n",
    "    df_clean = session_data_other_limit_kwh(df_clean_4)\n",
    "    df_clean_fleet = session_data_other_limit_kwh(df_clean_4_fleet)\n",
    "    \n",
    "    if transform_datetimes:\n",
    "        df_clean = transform_start_datetimes(df_clean)\n",
    "        df_clean = df_clean.drop(columns=[\"Station Start Time (Local)\"]) \n",
    "        df_clean = df_clean.drop(columns=[\"Station End Time (Local)\"])         \n",
    "    \n",
    "    if optional:\n",
    "        df_clean_6 = remove_out_of(df_clean, col=\"Session Time Zone\", legit_values=['PDT', 'PST'], keep_nan=True)\n",
    "        df_clean_7 = remove_out_of(df_clean_6, col=\"Driver Country\", legit_values=[\"United States\"], keep_nan=True)\n",
    "        # Keep out of state drivers for now\n",
    "        # df_clean_7 = remove_out_of(df_clean_7, col=\"Driver State\", legit_values=[\"California\"], keep_nan=True)\n",
    "        df_clean = remove_out_of(df_clean_7, col=\"Fee Currency\", legit_values=[\"USD\"], keep_nan=True) \n",
    "        \n",
    "    return df_clean, df_clean_fleet"
   ]
  },
  {
   "cell_type": "markdown",
   "metadata": {
    "collapsed": true
   },
   "source": [
    "# Clean, Transform and Save Data"
   ]
  },
  {
   "cell_type": "code",
   "execution_count": 36,
   "metadata": {},
   "outputs": [
    {
     "name": "stdout",
     "output_type": "stream",
     "text": [
      "removing 496730 occurences of Energy (kWh) of less than 0.1\n",
      "removing 7613 occurences of Session Time (secs) of less than 120\n",
      "Remove sessions with “Connector Type” - Type 2 Cable & Type 2 Socket\n",
      "Number of values removed:  108\n",
      "Split into 11749580 NON-FLEET and 188801 FLEET\n",
      "removed 228 sessions with Energy(kWh) greater than 100 kWh for “Session Type” OTHER\n",
      "removed 0 sessions with Energy(kWh) greater than 100 kWh for “Session Type” OTHER\n",
      "removed 0 sessions where timestamp was not a string\n",
      "applying transfrom start_datetime to Station Start Time (Local)\n",
      "applying transfrom start_seconds to start_datetime\n",
      "applying transfrom start_year to start_datetime\n",
      "applying transfrom start_month to start_datetime\n",
      "applying transfrom start_day to start_datetime\n",
      "applying transfrom start_weekday to start_datetime\n",
      "There are 0 NAN entries in column Session Time Zone\n",
      "Removed 26368 entries for variable Session Time Zone of values {'UTC', 'EDT', 'MST', 'EST', 'MHT', 'MDT', 'IST'}\n",
      "There are 146872 NAN entries in column Driver Country\n",
      "Removed 1092 entries for variable Driver Country of values {'Austria', 'Israel', 'Canada', 'India', 'Australia', 'France', 'Mexico', 'Switzerland', 'Germany', 'Ireland'}\n",
      "There are 66 NAN entries in column Fee Currency\n",
      "Removed 1538 entries for variable Fee Currency of values {'MXN', 'EUR', 'CAD'}\n",
      "change in size: 0.9419362087344746\n",
      "saving:  sessions_clean.csv\n",
      "saving:  sessions_clean_fleet.csv\n"
     ]
    }
   ],
   "source": [
    "if not test:\n",
    "    # clean, transform\n",
    "    df_clean, df_clean_fleet = clean_session_data(df_raw, optional=True, transform_datetimes=True)\n",
    "    print(\"change in size:\",  len(df_clean)/len(df_raw))\n",
    "    \n",
    "    # save\n",
    "    path += \"clean/\"\n",
    "    name = 'sessions_clean.csv'\n",
    "    print(\"saving: \", name)\n",
    "    df_clean.to_csv(path + name, sep=',', index=False)\n",
    "    name = 'sessions_clean_fleet.csv'\n",
    "    print(\"saving: \", name)\n",
    "    df_clean_fleet.to_csv(path + name, sep=',', index=False)\n",
    "    "
   ]
  },
  {
   "cell_type": "code",
   "execution_count": null,
   "metadata": {},
   "outputs": [],
   "source": []
  },
  {
   "cell_type": "code",
   "execution_count": null,
   "metadata": {},
   "outputs": [],
   "source": []
  }
 ],
 "metadata": {
  "kernelspec": {
   "display_name": "Python 3",
   "language": "python",
   "name": "python3"
  },
  "language_info": {
   "codemirror_mode": {
    "name": "ipython",
    "version": 3
   },
   "file_extension": ".py",
   "mimetype": "text/x-python",
   "name": "python",
   "nbconvert_exporter": "python",
   "pygments_lexer": "ipython3",
   "version": "3.7.0"
  }
 },
 "nbformat": 4,
 "nbformat_minor": 1
}
