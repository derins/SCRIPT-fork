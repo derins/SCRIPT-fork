{
 "cells": [
  {
   "cell_type": "code",
   "execution_count": 1,
   "metadata": {},
   "outputs": [],
   "source": [
    "import pandas as pd\n",
    "from datetime import datetime\n",
    "import matplotlib.pyplot as plt\n",
    "import numpy as np"
   ]
  },
  {
   "cell_type": "code",
   "execution_count": 2,
   "metadata": {},
   "outputs": [],
   "source": [
    "path = \"../CP_analysis/\"\n",
    "file_1000 = \"sessions_161718_top1000.csv\"\n",
    "file_top10 = \"sessions_161718_95014_top10.csv\"\n",
    "file_tail10 = \"sessions_161718_95014_tail10.csv\""
   ]
  },
  {
   "cell_type": "code",
   "execution_count": 3,
   "metadata": {},
   "outputs": [],
   "source": [
    "sessions_1000 = pd.read_csv(path + file_1000, index_col=False)\n",
    "sessions_top = pd.read_csv(path + file_top10, index_col=False)\n",
    "sessions_tail = pd.read_csv(path + file_tail10, index_col=False)\n",
    "# print(sessions_1000.head(1))\n",
    "# print(sessions_top.head(1))\n",
    "# print(sessions_tail.head(1))"
   ]
  },
  {
   "cell_type": "code",
   "execution_count": 17,
   "metadata": {},
   "outputs": [],
   "source": [
    "def session_csv2station_list(df):\n",
    "\n",
    "    # remove noise:\n",
    "    df = df[df[\"Session Time (secs)\"] > 5*60]\n",
    "    df[\"Session Time (secs)\"] = df[\"Session Time (secs)\"].apply(lambda x: min(x, 24*3600))\n",
    "    df = df[df[\"Energy (kWh)\"] > 1]\n",
    "    df[\"Energy (kWh)\"] = df[\"Energy (kWh)\"].apply(lambda x: min(x, 100))\n",
    "\n",
    "    # Ports\n",
    "    station_id = df[\"Port ID\"].unique()\n",
    "#     print(station_id)\n",
    "\n",
    "    # convert to datetimes and sort\n",
    "    df['Station Start Time (Local)'] = df['Station Start Time (Local)'].apply(\n",
    "        lambda x: datetime.strptime(x, \"%Y-%m-%d %H:%M:%S.%f\"))\n",
    "    df = df.sort_values(['Station Start Time (Local)']) \n",
    "\n",
    "    # convert to hours\n",
    "    df['Session Time (secs)'] = df['Session Time (secs)'] / 3600.0\n",
    "\n",
    "    # iterate: split ports, create tuples\n",
    "    station_list = []\n",
    "    for this_id in station_id:\n",
    "        df_id = df[df[\"Port ID\"] == this_id]\n",
    "        df_id = df_id.drop(columns=[\"Port ID\"])\n",
    "        station_list.append(list(df_id.itertuples(index=False, name=None)))  \n",
    "        \n",
    "    return station_list"
   ]
  },
  {
   "cell_type": "code",
   "execution_count": 19,
   "metadata": {},
   "outputs": [
    {
     "name": "stderr",
     "output_type": "stream",
     "text": [
      "/home/ourownstory/venv/script/lib/python3.6/site-packages/ipykernel_launcher.py:5: SettingWithCopyWarning: \n",
      "A value is trying to be set on a copy of a slice from a DataFrame.\n",
      "Try using .loc[row_indexer,col_indexer] = value instead\n",
      "\n",
      "See the caveats in the documentation: http://pandas.pydata.org/pandas-docs/stable/indexing.html#indexing-view-versus-copy\n",
      "  \"\"\"\n"
     ]
    },
    {
     "name": "stdout",
     "output_type": "stream",
     "text": [
      "(15.3313, Timestamp('2016-04-11 22:24:21'), 3.1594444444444445)\n",
      "(18.414671, Timestamp('2016-04-12 09:34:06'), 3.5083333333333333)\n",
      "(8.304698, Timestamp('2016-04-13 10:28:21'), 1.3747222222222222)\n",
      "(7.185753, Timestamp('2016-04-13 13:41:34'), 3.7305555555555556)\n",
      "(5.625832, Timestamp('2016-04-14 09:15:05'), 8.960277777777778)\n",
      "(12.537595, Timestamp('2016-04-15 09:20:16'), 7.104722222222223)\n",
      "(53.248348, Timestamp('2016-04-18 09:57:12'), 9.335277777777778)\n",
      "(10.758947, Timestamp('2016-04-19 09:11:15'), 5.488333333333333)\n",
      "(12.043006, Timestamp('2016-04-20 10:46:07'), 3.4252777777777776)\n",
      "(4.709206, Timestamp('2016-04-20 14:13:04'), 4.906944444444444)\n"
     ]
    }
   ],
   "source": [
    "# df = sessions_tail.copy(deep=True)\n",
    "# print(sessions_tail)\n",
    "\n",
    "station_list_tail = session_csv2station_list(sessions_tail)\n",
    "\n",
    "# print(station_list_tail)\n",
    "\n",
    "# for entry in station_list_tail[3][:10]:\n",
    "#     print(entry)  "
   ]
  },
  {
   "cell_type": "code",
   "execution_count": null,
   "metadata": {},
   "outputs": [],
   "source": []
  },
  {
   "cell_type": "code",
   "execution_count": null,
   "metadata": {},
   "outputs": [],
   "source": []
  }
 ],
 "metadata": {
  "kernelspec": {
   "display_name": "script3",
   "language": "python",
   "name": "script3"
  },
  "language_info": {
   "codemirror_mode": {
    "name": "ipython",
    "version": 3
   },
   "file_extension": ".py",
   "mimetype": "text/x-python",
   "name": "python",
   "nbconvert_exporter": "python",
   "pygments_lexer": "ipython3",
   "version": "3.6.3"
  }
 },
 "nbformat": 4,
 "nbformat_minor": 2
}
