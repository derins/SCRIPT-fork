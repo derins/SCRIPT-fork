{
 "cells": [
  {
   "cell_type": "code",
   "execution_count": 1,
   "metadata": {},
   "outputs": [],
   "source": [
    "import numpy as np\n",
    "import pandas as pd\n",
    "# from plotnine import *\n",
    "import matplotlib.pyplot as plt\n",
    "from datetime import datetime\n",
    "import seaborn as sns\n"
   ]
  },
  {
   "cell_type": "markdown",
   "metadata": {},
   "source": [
    "# Exploratory Data Analysis\n",
    "Session Data (Non-Fleet)\n",
    "## 2 Energy and Time"
   ]
  },
  {
   "cell_type": "code",
   "execution_count": 2,
   "metadata": {},
   "outputs": [],
   "source": [
    "# do verbose sanity checks, and do not save in the end\n",
    "test = False\n",
    "# working on EC2 instance\n",
    "cloud = True"
   ]
  },
  {
   "cell_type": "code",
   "execution_count": 3,
   "metadata": {},
   "outputs": [],
   "source": [
    "if cloud:\n",
    "    path = \"../../data/\"\n",
    "    file = \"sessions_clean.csv\"\n",
    "else:\n",
    "    path = \"/home/ourownstory/github/data/SLAC\"\n",
    "    file = \"Charging_Session_SLAC.csv\"\n",
    "    \n",
    "if test:\n",
    "    nrows = 1e6\n",
    "else:\n",
    "    nrows = None\n",
    "    \n",
    "def get_csv():\n",
    "    print(\"Reading {} rows of dataframe\".format(nrows if nrows is not None else \"ALL\"))\n",
    "    return pd.read_csv(path + file, index_col=False, nrows=nrows)#, low_memory=False)"
   ]
  },
  {
   "cell_type": "code",
   "execution_count": 4,
   "metadata": {},
   "outputs": [
    {
     "name": "stdout",
     "output_type": "stream",
     "text": [
      "Reading ALL rows of dataframe\n"
     ]
    }
   ],
   "source": [
    "df_raw = get_csv()\n",
    "sessions = df_raw.copy(deep=True)"
   ]
  },
  {
   "cell_type": "code",
   "execution_count": 5,
   "metadata": {},
   "outputs": [
    {
     "name": "stdout",
     "output_type": "stream",
     "text": [
      "['Session ID', 'Station ID', 'Port ID', 'Connector Type', 'POI Category', 'POI Subcategory', 'Session Time Zone', 'Session Time (secs)', 'Charging Time (secs)', 'Start SoC', 'End SoC', 'Full Charge', 'Energy (kWh)', 'Driver ID', 'Driver Zip', 'Vehicle Make', 'Vehicle Model', 'Battery Capacity', 'EV Type', '$ Fee', 'Fee Currency', 'Zip Code', 'City', 'County', 'State', 'Country', 'Driver City', 'Driver State', 'Driver Country', 'Max Power', 'Session Type', 'Vehicle Model Year', 'start_datetime', 'start_seconds', 'start_year', 'start_month', 'start_day', 'start_weekday']\n"
     ]
    }
   ],
   "source": [
    "print(list(sessions))\n",
    "# print(sessions.head(5))"
   ]
  },
  {
   "cell_type": "markdown",
   "metadata": {},
   "source": [
    "## Time\n",
    "### Session / Charging Total"
   ]
  },
  {
   "cell_type": "code",
   "execution_count": 8,
   "metadata": {
    "scrolled": true
   },
   "outputs": [
    {
     "name": "stdout",
     "output_type": "stream",
     "text": [
      "PDT    8406397\n",
      "PST    3380448\n",
      "Name: Session Time Zone, dtype: int64\n"
     ]
    }
   ],
   "source": [
    "column = \"Session Time Zone\"\n",
    "print(sessions[column].value_counts())\n",
    "# print(len(sessions[column].unique()))"
   ]
  },
  {
   "cell_type": "code",
   "execution_count": 19,
   "metadata": {},
   "outputs": [
    {
     "name": "stdout",
     "output_type": "stream",
     "text": [
      "15.943333333333333\n"
     ]
    },
    {
     "data": {
      "image/png": "[encoded data removed]",
      "text/plain": [
       "<Figure size 432x288 with 1 Axes>"
      ]
     },
     "metadata": {
      "needs_background": "light"
     },
     "output_type": "display_data"
    }
   ],
   "source": [
    "col = \"Session Time (secs)\"\n",
    "df = sessions[col]\n",
    "p_99 = np.percentile(df, 99)\n",
    "print(p_99/(60*60))\n",
    "df = df[df<p_99]\n",
    "plot = plt.hist(df/(60*60), bins=50)\n",
    "# plot = plt.hist(np.log(df/(60*60)), bins=100)\n",
    "plt.savefig(\"plots/Session_Duration.png\")"
   ]
  },
  {
   "cell_type": "code",
   "execution_count": 20,
   "metadata": {},
   "outputs": [
    {
     "name": "stdout",
     "output_type": "stream",
     "text": [
      "7.882777777777778\n"
     ]
    },
    {
     "data": {
      "image/png": "[encoded data removed]",
      "text/plain": [
       "<Figure size 432x288 with 1 Axes>"
      ]
     },
     "metadata": {
      "needs_background": "light"
     },
     "output_type": "display_data"
    }
   ],
   "source": [
    "col = \"Charging Time (secs)\"\n",
    "df = sessions[col]\n",
    "p_99 = np.percentile(df, 99)\n",
    "print(p_99/(60*60))\n",
    "df = df[df<p_99]\n",
    "plot = plt.hist(df/(60*60), bins=50)\n",
    "plt.savefig(\"plots/Session_Charging_Time.png\")"
   ]
  },
  {
   "cell_type": "code",
   "execution_count": 17,
   "metadata": {},
   "outputs": [
    {
     "data": {
      "image/png": "[encoded data removed]",
      "text/plain": [
       "<Figure size 432x288 with 1 Axes>"
      ]
     },
     "metadata": {
      "needs_background": "light"
     },
     "output_type": "display_data"
    }
   ],
   "source": [
    "# plot: lower half of session times\n",
    "col1 = \"Session Time (secs)\"\n",
    "col2 = \"Charging Time (secs)\"\n",
    "df = sessions.copy(deep=True)\n",
    "p1 = np.percentile(df[col1], 50)\n",
    "p2 = np.percentile(df[col2], 95)\n",
    "df = df[df[col1] < p1]\n",
    "df = df[df[col2] < p2]\n",
    "x = df[col1] /60 /60\n",
    "y = df[col2] /60 /60\n",
    "\n",
    "heatmap, xedges, yedges = np.histogram2d(x, y, bins=20)\n",
    "extent = [xedges[0], xedges[-1], yedges[0], yedges[-1]]\n",
    "\n",
    "plot = plt.imshow(heatmap.T, extent=extent, origin='lower')"
   ]
  },
  {
   "cell_type": "code",
   "execution_count": 22,
   "metadata": {},
   "outputs": [
    {
     "data": {
      "image/png": "[encoded data removed]",
      "text/plain": [
       "<Figure size 432x288 with 1 Axes>"
      ]
     },
     "metadata": {
      "needs_background": "light"
     },
     "output_type": "display_data"
    }
   ],
   "source": [
    "# plot: upper half of session times\n",
    "col1 = \"Session Time (secs)\"\n",
    "col2 = \"Charging Time (secs)\"\n",
    "df = sessions.copy(deep=True)\n",
    "\n",
    "p1 = np.percentile(df[col1], 50)\n",
    "p1u = np.percentile(df[col1], 95)\n",
    "p2 = np.percentile(df[col2], 99)\n",
    "\n",
    "df = df[df[col1] > p1]\n",
    "df = df[df[col1] < p1u]\n",
    "df = df[df[col2] < p2]\n",
    "x = df[col1] /60 /60\n",
    "y = df[col2] /60 /60\n",
    "\n",
    "heatmap, xedges, yedges = np.histogram2d(x, y, bins=20)\n",
    "extent = [xedges[0], xedges[-1], yedges[0], yedges[-1]]\n",
    "\n",
    "plot = plt.imshow(heatmap.T, extent=extent, origin='lower')"
   ]
  },
  {
   "cell_type": "markdown",
   "metadata": {},
   "source": [
    "### Notes\n",
    "mostly charging ends when the session ends. But if Session lasts longer than 2 hours, many charging mostly will end after 2-4 hours. "
   ]
  },
  {
   "cell_type": "markdown",
   "metadata": {},
   "source": [
    "## Start / End Times (PDT)"
   ]
  },
  {
   "cell_type": "code",
   "execution_count": 13,
   "metadata": {},
   "outputs": [
    {
     "name": "stdout",
     "output_type": "stream",
     "text": [
      "2017-09-21 13:50:12.0\n",
      "2017-09-21 13:50:12\n",
      "0   2017-09-21 13:50:12\n",
      "1   2017-09-21 13:15:01\n",
      "2   2017-09-21 13:50:13\n",
      "3   2017-09-21 13:50:11\n",
      "4   2017-09-21 13:50:14\n",
      "Name: start_datetime, dtype: datetime64[ns]\n",
      "0    49812\n",
      "1    47701\n",
      "2    49813\n",
      "3    49811\n",
      "4    49814\n",
      "Name: start_time_seconds, dtype: int64\n"
     ]
    }
   ],
   "source": [
    "# note: transformed in EDA notebook 0\n",
    "\n",
    "# # handle datetimes: START\n",
    "# col = \"Station Start Time (Local)\"\n",
    "\n",
    "# if test:\n",
    "#     df = sessions[col]\n",
    "#     print(df[0])\n",
    "#     print(datetime.strptime(df[0], \"%Y-%m-%d %H:%M:%S.%f\"))\n",
    "\n",
    "# def to_datetime(x):\n",
    "#     return datetime.strptime(x, \"%Y-%m-%d %H:%M:%S.%f\")\n",
    "\n",
    "# def to_seconds(x):\n",
    "#     return 60*60*x.hour + 60*x.minute + x.second\n",
    "\n",
    "# sessions[\"start_datetime\"] = sessions[col].apply(to_datetime)\n",
    "# sessions[\"start_time_seconds\"] = sessions[\"start_datetime\"].apply(to_seconds)\n",
    "\n",
    "# if test:\n",
    "#     print(sessions[\"start_datetime\"].head(5))\n",
    "#     print(sessions[\"start_time_seconds\"].head(5))"
   ]
  },
  {
   "cell_type": "code",
   "execution_count": 14,
   "metadata": {},
   "outputs": [
    {
     "data": {
      "image/png": "[encoded data removed]",
      "text/plain": [
       "<Figure size 432x288 with 1 Axes>"
      ]
     },
     "metadata": {
      "needs_background": "light"
     },
     "output_type": "display_data"
    }
   ],
   "source": [
    "# plot START\n",
    "\n",
    "df = sessions[\"start_time_seconds\"]\n",
    "plot = plt.hist(df/(60*60), bins=50)"
   ]
  },
  {
   "cell_type": "code",
   "execution_count": 15,
   "metadata": {},
   "outputs": [
    {
     "name": "stdout",
     "output_type": "stream",
     "text": [
      "2017-09-21 14:59:12.0\n",
      "2017-09-21 14:59:12\n",
      "0   2017-09-21 14:59:12\n",
      "1   2017-09-21 17:10:05\n",
      "2   2017-09-21 15:02:57\n",
      "3   2017-09-21 16:33:49\n",
      "4   2017-09-21 15:49:40\n",
      "Name: end_datetime, dtype: datetime64[ns]\n",
      "0    53952\n",
      "1    61805\n",
      "2    54177\n",
      "3    59629\n",
      "4    56980\n",
      "Name: end_time_seconds, dtype: int64\n"
     ]
    }
   ],
   "source": [
    "# note: transformed in EDA notebook 0\n",
    "\n",
    "# # handle datetimes: END\n",
    "# col = \"Station End Time (Local)\"\n",
    "\n",
    "# if test:\n",
    "#     df = sessions[col]\n",
    "#     print(df[0])\n",
    "#     print(datetime.strptime(df[0], \"%Y-%m-%d %H:%M:%S.%f\"))\n",
    "\n",
    "# def to_datetime(x):\n",
    "#     return datetime.strptime(x, \"%Y-%m-%d %H:%M:%S.%f\")\n",
    "\n",
    "# def to_seconds(x):\n",
    "#     return 60*60*x.hour + 60*x.minute + x.second\n",
    "\n",
    "# sessions[\"end_datetime\"] = sessions[col].apply(to_datetime)\n",
    "# sessions[\"end_time_seconds\"] = sessions[\"end_datetime\"].apply(to_seconds)\n",
    "\n",
    "# if test:\n",
    "#     print(sessions[\"end_datetime\"].head(5))\n",
    "#     print(sessions[\"end_time_seconds\"].head(5))"
   ]
  },
  {
   "cell_type": "code",
   "execution_count": 16,
   "metadata": {},
   "outputs": [
    {
     "data": {
      "image/png": "[encoded data removed]",
      "text/plain": [
       "<Figure size 432x288 with 1 Axes>"
      ]
     },
     "metadata": {
      "needs_background": "light"
     },
     "output_type": "display_data"
    }
   ],
   "source": [
    "# plot END\n",
    "\n",
    "df = sessions[\"end_time_seconds\"]\n",
    "plot = plt.hist(df/(60*60), bins=50)"
   ]
  },
  {
   "cell_type": "code",
   "execution_count": 35,
   "metadata": {},
   "outputs": [
    {
     "data": {
      "image/png": "[encoded data removed]",
      "text/plain": [
       "<Figure size 432x288 with 1 Axes>"
      ]
     },
     "metadata": {
      "needs_background": "light"
     },
     "output_type": "display_data"
    }
   ],
   "source": [
    "# plot start-end\n",
    "x = sessions[\"start_seconds\"] \n",
    "y = (x + sessions[\"Session Time (secs)\"]) %(24*3600)\n",
    "x = x /60  /60\n",
    "y = y /60  /60\n",
    "\n",
    "heatmap, xedges, yedges = np.histogram2d(x, y, bins=24)\n",
    "extent = [xedges[0], xedges[-1], yedges[0], yedges[-1]]\n",
    "\n",
    "plot = plt.imshow(heatmap.T, extent=extent, origin='lower')\n",
    "plt.savefig(\"plots/Start_End_Time.png\")"
   ]
  },
  {
   "cell_type": "code",
   "execution_count": 18,
   "metadata": {},
   "outputs": [],
   "source": [
    "# alternative plot\n",
    "\n",
    "# import seaborn as sns\n",
    "# ax = sns.heatmap(heatmap)\n",
    "# plt.show()"
   ]
  },
  {
   "cell_type": "markdown",
   "metadata": {},
   "source": [
    "### Notes\n",
    "The main arrival peak is at 0800. The second arrival peak is at 1300.\n",
    "The main departure peak is at 1800. The second departure peak is at 1200\n",
    "Most people who arrive at 0800/0900 will leave around 1200, but some remain until 1700.\n",
    "Many people that arrive at 1300 will leave at 1600/1700.\n",
    "People who arive between 1600 and 2400 will leave within 1-3 hours.\n",
    "\n",
    "Among the cars which remain parked over lunch, there is a large pot\n",
    "ential for load-shifting. Similarly, people, who only leave for lunch, but immediately come back, they might be fine if their car is not full\n",
    "y cahrged before they actually leave their workplace in the evening.\n"
   ]
  },
  {
   "cell_type": "markdown",
   "metadata": {},
   "source": [
    "## Energy\n"
   ]
  },
  {
   "cell_type": "code",
   "execution_count": 37,
   "metadata": {},
   "outputs": [
    {
     "name": "stdout",
     "output_type": "stream",
     "text": [
      "43.62962228000003\n"
     ]
    },
    {
     "data": {
      "image/png": "[encoded data removed]",
      "text/plain": [
       "<Figure size 432x288 with 1 Axes>"
      ]
     },
     "metadata": {
      "needs_background": "light"
     },
     "output_type": "display_data"
    }
   ],
   "source": [
    "col = \"Energy (kWh)\"\n",
    "df = sessions[col]\n",
    "p_99 = np.percentile(df, 99)\n",
    "print(p_99)\n",
    "df = df[df<p_99]\n",
    "plot = plt.hist(df, bins=50)"
   ]
  },
  {
   "cell_type": "code",
   "execution_count": 39,
   "metadata": {},
   "outputs": [
    {
     "name": "stdout",
     "output_type": "stream",
     "text": [
      "7.76\n",
      "29.828957649999992\n"
     ]
    },
    {
     "data": {
      "text/plain": [
       "<matplotlib.axes._subplots.AxesSubplot at 0x7f1c7aab10b8>"
      ]
     },
     "execution_count": 39,
     "metadata": {},
     "output_type": "execute_result"
    },
    {
     "data": {
      "image/png": "[encoded data removed]",
      "text/plain": [
       "<Figure size 432x288 with 1 Axes>"
      ]
     },
     "metadata": {
      "needs_background": "light"
     },
     "output_type": "display_data"
    }
   ],
   "source": [
    "col1 = \"Energy (kWh)\"\n",
    "col2 = \"$ Fee\"\n",
    "\n",
    "df = sessions.copy(deep=True)\n",
    "p_99 = np.nanpercentile(df[col2], 99)\n",
    "print(p_99)\n",
    "df = df[df[col2] < p_99]\n",
    "df = df[df[col2] > 0.01]\n",
    "p_99 = np.nanpercentile(df[col1], 99)\n",
    "print(p_99)\n",
    "df = df[df[col1] < p_99]\n",
    "\n",
    "x = df[col1] //1\n",
    "y = df[col2]\n",
    "sns.boxplot(x,y)"
   ]
  },
  {
   "cell_type": "code",
   "execution_count": 40,
   "metadata": {},
   "outputs": [
    {
     "name": "stdout",
     "output_type": "stream",
     "text": [
      "8588906\n",
      "Workplace                  3303013\n",
      "Municipal                   194607\n",
      "Parking                     106766\n",
      "Retail                       60779\n",
      "Education                    58362\n",
      "Healthcare                   56296\n",
      "Multifamily Commercial       27760\n",
      "Hospitality                  18330\n",
      "Fleet                         9686\n",
      "Government (Fed, State)       9111\n",
      "Name: POI Category, dtype: int64\n",
      "Chevrolet        131909\n",
      "Nissan            98477\n",
      "Tesla             87135\n",
      "BMW               46236\n",
      "Volkswagen        36721\n",
      "Fiat              36487\n",
      "Ford              16642\n",
      "Toyota             9642\n",
      "Honda              8283\n",
      "Mercedes-Benz      8132\n",
      "Name: Vehicle Make, dtype: int64\n",
      "San Francisco    99364\n",
      "Palo Alto        38549\n",
      "Santa Clara      37201\n",
      "San Jose         31847\n",
      "Oakland          27951\n",
      "Walnut Creek     25697\n",
      "Mountain View    22942\n",
      "Hayward          20700\n",
      "Menlo Park       16475\n",
      "Redwood City     15734\n",
      "Name: City, dtype: int64\n"
     ]
    }
   ],
   "source": [
    "df = sessions.copy(deep=True)\n",
    "df = df[df[\"$ Fee\"] == 0]\n",
    "print(len(df[df[\"$ Fee\"] == 0]))\n",
    "\n",
    "df = df[df[\"Energy (kWh)\"] > 10]\n",
    "print(df[\"POI Category\"].value_counts().head(10))\n",
    "\n",
    "df = df[df[\"POI Category\"] != \"Workplace\"]\n",
    "print(df[\"Vehicle Make\"].value_counts().head(10))\n",
    "print(df[\"City\"].value_counts().head(10))"
   ]
  },
  {
   "cell_type": "markdown",
   "metadata": {},
   "source": [
    "## Session/Charging Time vs Start / End Times (PDT)"
   ]
  },
  {
   "cell_type": "code",
   "execution_count": 41,
   "metadata": {},
   "outputs": [
    {
     "name": "stdout",
     "output_type": "stream",
     "text": [
      "15.943333333333333\n"
     ]
    },
    {
     "data": {
      "text/plain": [
       "<matplotlib.axes._subplots.AxesSubplot at 0x7f1e2e8ecb70>"
      ]
     },
     "execution_count": 41,
     "metadata": {},
     "output_type": "execute_result"
    },
    {
     "data": {
      "image/png": "[encoded data removed]",
      "text/plain": [
       "<Figure size 432x288 with 1 Axes>"
      ]
     },
     "metadata": {
      "needs_background": "light"
     },
     "output_type": "display_data"
    }
   ],
   "source": [
    "col1 = \"start_seconds\"\n",
    "col2 = \"Session Time (secs)\"\n",
    "\n",
    "df = sessions.copy(deep=True)\n",
    "p_99 = np.nanpercentile(df[col2], 99)\n",
    "print(p_99/3600)\n",
    "df = df[df[col2] < p_99]\n",
    "\n",
    "x = df[col1] //3600\n",
    "y = df[col2] /3600\n",
    "sns.boxplot(x,y)"
   ]
  },
  {
   "cell_type": "code",
   "execution_count": 42,
   "metadata": {},
   "outputs": [
    {
     "name": "stdout",
     "output_type": "stream",
     "text": [
      "7.882777777777778\n"
     ]
    },
    {
     "data": {
      "text/plain": [
       "<matplotlib.axes._subplots.AxesSubplot at 0x7f1c722d9208>"
      ]
     },
     "execution_count": 42,
     "metadata": {},
     "output_type": "execute_result"
    },
    {
     "data": {
      "image/png": "[encoded data removed]",
      "text/plain": [
       "<Figure size 432x288 with 1 Axes>"
      ]
     },
     "metadata": {
      "needs_background": "light"
     },
     "output_type": "display_data"
    }
   ],
   "source": [
    "col1 = \"start_seconds\"\n",
    "col2 = \"Charging Time (secs)\"\n",
    "\n",
    "df = sessions.copy(deep=True)\n",
    "p_99 = np.nanpercentile(df[col2], 99)\n",
    "print(p_99/3600)\n",
    "df = df[df[col2] < p_99]\n",
    "\n",
    "x = df[col1] //3600\n",
    "y = df[col2] /3600\n",
    "sns.boxplot(x,y)"
   ]
  },
  {
   "cell_type": "code",
   "execution_count": 51,
   "metadata": {},
   "outputs": [
    {
     "data": {
      "image/png": "[encoded data removed]",
      "text/plain": [
       "<Figure size 432x288 with 1 Axes>"
      ]
     },
     "metadata": {
      "needs_background": "light"
     },
     "output_type": "display_data"
    }
   ],
   "source": [
    "# ratio of charge time vs session time per hour\n",
    "\n",
    "col1 = \"start_seconds\"\n",
    "col2 = \"Charging Time (secs)\"\n",
    "col3 = \"Session Time (secs)\"\n",
    "\n",
    "df = sessions.copy(deep=True)\n",
    "# p_99 = np.nanpercentile(df[col3], 99)\n",
    "# print(p_99/3600)\n",
    "# df = df[df[col3] < p_99]\n",
    "\n",
    "df = df[(df[col3] - df[col2]) >= 0]\n",
    "df = df[df[col3] > 3600]\n",
    "\n",
    "x = df[col1] //3600\n",
    "y = 1 - df[col2] / df[col3]\n",
    "ax = sns.boxplot(x,y)\n",
    "ax.set(xlabel='Hour of Day', ylabel='Charging Flexibility')\n",
    "plt.savefig(\"plots/Charging_Flexibility.png\")"
   ]
  },
  {
   "cell_type": "code",
   "execution_count": 56,
   "metadata": {},
   "outputs": [
    {
     "name": "stdout",
     "output_type": "stream",
     "text": [
      "9.694722222222222\n"
     ]
    },
    {
     "data": {
      "image/png": "[encoded data removed]",
      "text/plain": [
       "<Figure size 432x288 with 1 Axes>"
      ]
     },
     "metadata": {
      "needs_background": "light"
     },
     "output_type": "display_data"
    }
   ],
   "source": [
    "# ratio of charge time vs session duration\n",
    "\n",
    "col1 = \"Session Time (secs)\"\n",
    "col2 = \"Charging Time (secs)\"\n",
    "col3 = \"Session Time (secs)\"\n",
    "\n",
    "df = sessions.copy(deep=True)\n",
    "p_99 = np.nanpercentile(df[col1], 95)\n",
    "print(p_99/3600)\n",
    "df = df[df[col3] < p_99]\n",
    "\n",
    "df = df[(df[col3] - df[col2]) >= 0]\n",
    "# df = df[df[col3] > 3600]\n",
    "\n",
    "x = df[col1] //3600\n",
    "y = 1 - df[col2] / df[col3]\n",
    "ax = sns.boxplot(x,y)\n",
    "ax.set(xlabel='Session Duration', ylabel='Charging Flexibility')\n",
    "plt.savefig(\"plots/Charging_Flexibility_Duration.png\")"
   ]
  },
  {
   "cell_type": "code",
   "execution_count": 57,
   "metadata": {},
   "outputs": [
    {
     "data": {
      "text/plain": [
       "<matplotlib.axes._subplots.AxesSubplot at 0x7f1d25591a90>"
      ]
     },
     "execution_count": 57,
     "metadata": {},
     "output_type": "execute_result"
    },
    {
     "data": {
      "image/png": "[encoded data removed]",
      "text/plain": [
       "<Figure size 432x288 with 1 Axes>"
      ]
     },
     "metadata": {
      "needs_background": "light"
     },
     "output_type": "display_data"
    }
   ],
   "source": [
    "col1 = \"start_seconds\"\n",
    "col2 = \"Start SoC\"\n",
    "\n",
    "df = sessions.copy(deep=True)\n",
    "# p_99 = np.nanpercentile(df[col2], 99)\n",
    "# print(p_99/3600)\n",
    "# df = df[df[col2] < p_99]\n",
    "\n",
    "x = df[col1] //3600\n",
    "y = df[col2]\n",
    "sns.boxplot(x,y)"
   ]
  },
  {
   "cell_type": "code",
   "execution_count": 58,
   "metadata": {},
   "outputs": [
    {
     "data": {
      "text/plain": [
       "<matplotlib.axes._subplots.AxesSubplot at 0x7f1d26874fd0>"
      ]
     },
     "execution_count": 58,
     "metadata": {},
     "output_type": "execute_result"
    },
    {
     "data": {
      "image/png": "[encoded data removed]",
      "text/plain": [
       "<Figure size 432x288 with 1 Axes>"
      ]
     },
     "metadata": {
      "needs_background": "light"
     },
     "output_type": "display_data"
    }
   ],
   "source": [
    "col1 = \"start_seconds\"\n",
    "col2 = \"End SoC\"\n",
    "\n",
    "df = sessions.copy(deep=True)\n",
    "# p_99 = np.percentile(df[col2], 99)\n",
    "# print(p_99/3600)\n",
    "# df = df[df[col2] < p_99]\n",
    "\n",
    "x = df[col1] //3600\n",
    "y = df[col2]\n",
    "sns.boxplot(x,y)"
   ]
  },
  {
   "cell_type": "code",
   "execution_count": 63,
   "metadata": {},
   "outputs": [
    {
     "data": {
      "image/png": "[encoded data removed]",
      "text/plain": [
       "<Figure size 432x288 with 1 Axes>"
      ]
     },
     "metadata": {
      "needs_background": "light"
     },
     "output_type": "display_data"
    }
   ],
   "source": [
    "# plot start-end SOC\n",
    "df = sessions.copy(deep=True)\n",
    "df = df[~df[\"Start SoC\"].isnull()]\n",
    "df = df[~df[\"End SoC\"].isnull()]\n",
    "x = df[\"Start SoC\"] \n",
    "y = df[\"End SoC\"] \n",
    "\n",
    "heatmap, xedges, yedges = np.histogram2d(x, y, bins=10)\n",
    "extent = [xedges[0], xedges[-1], yedges[0], yedges[-1]]\n",
    "\n",
    "plot = plt.imshow(heatmap.T, extent=extent, origin='lower')\n",
    "plt.savefig(\"plots/Start_End_SoC.png\")"
   ]
  }
 ],
 "metadata": {
  "kernelspec": {
   "display_name": "edapy3",
   "language": "python",
   "name": "edapy3"
  },
  "language_info": {
   "codemirror_mode": {
    "name": "ipython",
    "version": 3
   },
   "file_extension": ".py",
   "mimetype": "text/x-python",
   "name": "python",
   "nbconvert_exporter": "python",
   "pygments_lexer": "ipython3",
   "version": "3.7.2"
  }
 },
 "nbformat": 4,
 "nbformat_minor": 2
}
