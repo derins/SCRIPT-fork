{
 "cells": [
  {
   "cell_type": "code",
   "execution_count": 1,
   "metadata": {},
   "outputs": [],
   "source": [
    "import pandas as pd\n",
    "from datetime import datetime\n",
    "import matplotlib.pyplot as plt\n",
    "import numpy as np"
   ]
  },
  {
   "cell_type": "code",
   "execution_count": 2,
   "metadata": {},
   "outputs": [],
   "source": [
    "path = \"../CP_analysis/\""
   ]
  },
  {
   "cell_type": "code",
   "execution_count": 3,
   "metadata": {},
   "outputs": [
    {
     "data": {
      "text/html": [
       "<div>\n",
       "<style scoped>\n",
       "    .dataframe tbody tr th:only-of-type {\n",
       "        vertical-align: middle;\n",
       "    }\n",
       "\n",
       "    .dataframe tbody tr th {\n",
       "        vertical-align: top;\n",
       "    }\n",
       "\n",
       "    .dataframe thead th {\n",
       "        text-align: right;\n",
       "    }\n",
       "</style>\n",
       "<table border=\"1\" class=\"dataframe\">\n",
       "  <thead>\n",
       "    <tr style=\"text-align: right;\">\n",
       "      <th></th>\n",
       "      <th>Session ID</th>\n",
       "      <th>Station ID</th>\n",
       "      <th>Port ID</th>\n",
       "      <th>Connector Type</th>\n",
       "      <th>POI Category</th>\n",
       "      <th>POI Subcategory</th>\n",
       "      <th>Station Start Time (Local)</th>\n",
       "      <th>Station End Time (Local)</th>\n",
       "      <th>Session Time Zone</th>\n",
       "      <th>Session Time (secs)</th>\n",
       "      <th>...</th>\n",
       "      <th>City</th>\n",
       "      <th>County</th>\n",
       "      <th>State</th>\n",
       "      <th>Country</th>\n",
       "      <th>Driver City</th>\n",
       "      <th>Driver State</th>\n",
       "      <th>Driver Country</th>\n",
       "      <th>Max Power</th>\n",
       "      <th>Session Type</th>\n",
       "      <th>Vehicle Model Year</th>\n",
       "    </tr>\n",
       "  </thead>\n",
       "  <tbody>\n",
       "    <tr>\n",
       "      <th>0</th>\n",
       "      <td>99999951</td>\n",
       "      <td>155805</td>\n",
       "      <td>208243.0</td>\n",
       "      <td>J1772</td>\n",
       "      <td>Parking</td>\n",
       "      <td>Commercial</td>\n",
       "      <td>2017-09-21 13:50:12.0</td>\n",
       "      <td>2017-09-21 14:59:12.0</td>\n",
       "      <td>PDT</td>\n",
       "      <td>4143</td>\n",
       "      <td>...</td>\n",
       "      <td>Santa Clara</td>\n",
       "      <td>Santa Clara County</td>\n",
       "      <td>California</td>\n",
       "      <td>United States</td>\n",
       "      <td>San Jose</td>\n",
       "      <td>California</td>\n",
       "      <td>United States</td>\n",
       "      <td>6.6</td>\n",
       "      <td>OTHER</td>\n",
       "      <td>2015.0</td>\n",
       "    </tr>\n",
       "    <tr>\n",
       "      <th>1</th>\n",
       "      <td>99999911</td>\n",
       "      <td>127071</td>\n",
       "      <td>166451.0</td>\n",
       "      <td>J1772</td>\n",
       "      <td>Workplace</td>\n",
       "      <td>High-Tech</td>\n",
       "      <td>2017-09-21 13:15:01.0</td>\n",
       "      <td>2017-09-21 17:10:05.0</td>\n",
       "      <td>PDT</td>\n",
       "      <td>14104</td>\n",
       "      <td>...</td>\n",
       "      <td>Sunnyvale</td>\n",
       "      <td>Santa Clara County</td>\n",
       "      <td>California</td>\n",
       "      <td>United States</td>\n",
       "      <td>Saratoga</td>\n",
       "      <td>California</td>\n",
       "      <td>United States</td>\n",
       "      <td>6.6</td>\n",
       "      <td>OTHER</td>\n",
       "      <td>2017.0</td>\n",
       "    </tr>\n",
       "    <tr>\n",
       "      <th>2</th>\n",
       "      <td>99999881</td>\n",
       "      <td>143745</td>\n",
       "      <td>191547.0</td>\n",
       "      <td>J1772</td>\n",
       "      <td>Workplace</td>\n",
       "      <td>General</td>\n",
       "      <td>2017-09-21 13:50:13.0</td>\n",
       "      <td>2017-09-21 15:02:57.0</td>\n",
       "      <td>PDT</td>\n",
       "      <td>4364</td>\n",
       "      <td>...</td>\n",
       "      <td>Mountain View</td>\n",
       "      <td>Santa Clara County</td>\n",
       "      <td>California</td>\n",
       "      <td>United States</td>\n",
       "      <td>Sunnyvale</td>\n",
       "      <td>California</td>\n",
       "      <td>United States</td>\n",
       "      <td>6.6</td>\n",
       "      <td>OTHER</td>\n",
       "      <td>2013.0</td>\n",
       "    </tr>\n",
       "    <tr>\n",
       "      <th>3</th>\n",
       "      <td>99999861</td>\n",
       "      <td>78433</td>\n",
       "      <td>195605.0</td>\n",
       "      <td>J1772</td>\n",
       "      <td>Workplace</td>\n",
       "      <td>General</td>\n",
       "      <td>2017-09-21 13:50:11.0</td>\n",
       "      <td>2017-09-21 16:33:49.0</td>\n",
       "      <td>PDT</td>\n",
       "      <td>9818</td>\n",
       "      <td>...</td>\n",
       "      <td>Santa Clara</td>\n",
       "      <td>Santa Clara County</td>\n",
       "      <td>California</td>\n",
       "      <td>United States</td>\n",
       "      <td>Fremont</td>\n",
       "      <td>California</td>\n",
       "      <td>United States</td>\n",
       "      <td>6.6</td>\n",
       "      <td>OTHER</td>\n",
       "      <td>2015.0</td>\n",
       "    </tr>\n",
       "    <tr>\n",
       "      <th>4</th>\n",
       "      <td>99999851</td>\n",
       "      <td>93629</td>\n",
       "      <td>105187.0</td>\n",
       "      <td>J1772</td>\n",
       "      <td>Workplace</td>\n",
       "      <td>General</td>\n",
       "      <td>2017-09-21 13:50:14.0</td>\n",
       "      <td>2017-09-21 15:49:40.0</td>\n",
       "      <td>PDT</td>\n",
       "      <td>7165</td>\n",
       "      <td>...</td>\n",
       "      <td>San Jose</td>\n",
       "      <td>Santa Clara County</td>\n",
       "      <td>California</td>\n",
       "      <td>United States</td>\n",
       "      <td>San Jose</td>\n",
       "      <td>California</td>\n",
       "      <td>United States</td>\n",
       "      <td>6.6</td>\n",
       "      <td>OTHER</td>\n",
       "      <td>2015.0</td>\n",
       "    </tr>\n",
       "  </tbody>\n",
       "</table>\n",
       "<p>5 rows × 34 columns</p>\n",
       "</div>"
      ],
      "text/plain": [
       "   Session ID  Station ID   Port ID Connector Type POI Category  \\\n",
       "0    99999951      155805  208243.0          J1772      Parking   \n",
       "1    99999911      127071  166451.0          J1772    Workplace   \n",
       "2    99999881      143745  191547.0          J1772    Workplace   \n",
       "3    99999861       78433  195605.0          J1772    Workplace   \n",
       "4    99999851       93629  105187.0          J1772    Workplace   \n",
       "\n",
       "  POI Subcategory Station Start Time (Local) Station End Time (Local)  \\\n",
       "0      Commercial      2017-09-21 13:50:12.0    2017-09-21 14:59:12.0   \n",
       "1       High-Tech      2017-09-21 13:15:01.0    2017-09-21 17:10:05.0   \n",
       "2         General      2017-09-21 13:50:13.0    2017-09-21 15:02:57.0   \n",
       "3         General      2017-09-21 13:50:11.0    2017-09-21 16:33:49.0   \n",
       "4         General      2017-09-21 13:50:14.0    2017-09-21 15:49:40.0   \n",
       "\n",
       "  Session Time Zone  Session Time (secs)  ...           City  \\\n",
       "0               PDT                 4143  ...    Santa Clara   \n",
       "1               PDT                14104  ...      Sunnyvale   \n",
       "2               PDT                 4364  ...  Mountain View   \n",
       "3               PDT                 9818  ...    Santa Clara   \n",
       "4               PDT                 7165  ...       San Jose   \n",
       "\n",
       "               County       State        Country  Driver City  Driver State  \\\n",
       "0  Santa Clara County  California  United States     San Jose    California   \n",
       "1  Santa Clara County  California  United States     Saratoga    California   \n",
       "2  Santa Clara County  California  United States    Sunnyvale    California   \n",
       "3  Santa Clara County  California  United States      Fremont    California   \n",
       "4  Santa Clara County  California  United States     San Jose    California   \n",
       "\n",
       "  Driver Country Max Power Session Type  Vehicle Model Year  \n",
       "0  United States       6.6        OTHER              2015.0  \n",
       "1  United States       6.6        OTHER              2017.0  \n",
       "2  United States       6.6        OTHER              2013.0  \n",
       "3  United States       6.6        OTHER              2015.0  \n",
       "4  United States       6.6        OTHER              2015.0  \n",
       "\n",
       "[5 rows x 34 columns]"
      ]
     },
     "execution_count": 3,
     "metadata": {},
     "output_type": "execute_result"
    }
   ],
   "source": [
    "sessions = pd.read_csv(path + \"sessions.csv\", index_col=False)\n",
    "# sessions = pd.read_csv(path + \"sessions.csv\", index_col=False, nrows=1e6)\n",
    "sessions.head(5)"
   ]
  },
  {
   "cell_type": "code",
   "execution_count": 4,
   "metadata": {},
   "outputs": [
    {
     "name": "stdout",
     "output_type": "stream",
     "text": [
      "12442832\n",
      "Session ID 12442832\n",
      "Station ID 8756\n",
      "Port ID 16010\n",
      "Connector Type 7\n",
      "['J1772' 'Combo' 'NEMA 5-20R' 'CHAdeMO' nan 'Type 2 Cable' 'Type 2 Socket']\n",
      "POI Category 13\n",
      "['Parking' 'Workplace' 'Retail' 'Municipal' 'Fleet' 'Education'\n",
      " 'Hospitality' 'Government (Fed, State)' 'Parks and Recreation'\n",
      " 'Healthcare' 'Multifamily Commercial' 'Multifamily Home Service'\n",
      " 'Utility']\n",
      "POI Subcategory 37\n",
      "Station Start Time (Local) 10561876\n",
      "Station End Time (Local) 10768393\n",
      "Session Time Zone 10\n",
      "['PDT' 'PST' 'MDT' 'EDT' 'UTC' 'MST' 'EST' 'IST' 'CST' 'MHT']\n",
      "Session Time (secs) 156753\n",
      "Charging Time (secs) 52579\n",
      "Start SoC 102\n",
      "End SoC 102\n",
      "Full Charge 2\n",
      "[False  True]\n",
      "Energy (kWh) 8783406\n",
      "Driver ID 121548\n",
      "Driver Zip 3694\n",
      "Vehicle Make 32\n",
      "Vehicle Model 82\n",
      "Battery Capacity 68\n",
      "EV Type 3\n",
      "['PLUGIN' nan 'HYBRID']\n",
      "$ Fee 5471\n",
      "Fee Currency 5\n",
      "['USD' 'CAD' 'EUR' 'MXN' nan]\n",
      "Zip Code 232\n",
      "City 123\n",
      "County 9\n",
      "['Santa Clara County' 'San Mateo County' 'Alameda County'\n",
      " 'San Francisco County' 'Contra Costa County' 'Napa County' 'Marin County'\n",
      " 'Solano County' 'Sonoma County']\n",
      "State 1\n",
      "['California']\n",
      "Country 1\n",
      "['United States']\n",
      "Driver City 2123\n",
      "Driver State 76\n",
      "Driver Country 13\n",
      "['United States' nan 'Canada' 'Germany' 'Mexico' 'France' 'Australia'\n",
      " 'India' 'Israel' 'Austria' 'Korea, Republic Of' 'Ireland' 'Switzerland']\n",
      "Max Power 8\n",
      "[ 6.6  24.   50.    1.92   nan 40.   22.    7.2 ]\n",
      "Session Type 2\n",
      "['OTHER' 'FLEET']\n",
      "Vehicle Model Year 13\n",
      "[2015. 2017. 2013. 2016.   nan 2014. 2012. 2011. 2018. 2010. 2008. 2019.\n",
      " 2009.]\n"
     ]
    }
   ],
   "source": [
    "# print(len(sessions))\n",
    "# for column in list(sessions):\n",
    "#     unique = sessions[column].unique()\n",
    "#     print(column, len(unique))\n",
    "#     if len(unique) < 25:\n",
    "#         print(unique)"
   ]
  },
  {
   "cell_type": "code",
   "execution_count": 4,
   "metadata": {},
   "outputs": [],
   "source": [
    "sessions = sessions[sessions['Session Type'] != 'FLEET']\n"
   ]
  },
  {
   "cell_type": "code",
   "execution_count": 11,
   "metadata": {},
   "outputs": [],
   "source": [
    "col = 'slack_time'\n",
    "sessions[col] = sessions['Session Time (secs)'] - sessions['Charging Time (secs)']"
   ]
  },
  {
   "cell_type": "code",
   "execution_count": 15,
   "metadata": {},
   "outputs": [
    {
     "data": {
      "image/png": "[encoded data removed]",
      "text/plain": [
       "<Figure size 432x288 with 1 Axes>"
      ]
     },
     "metadata": {
      "needs_background": "light"
     },
     "output_type": "display_data"
    }
   ],
   "source": [
    "col = 'slack_time'\n",
    "df = sessions.copy(deep=True)\n",
    "\n",
    "df = df[df[col] < np.percentile(df[col], 99)]\n",
    "df = df[df[col] > 0]\n",
    "plot = plt.hist(df[col], bins=50)"
   ]
  },
  {
   "cell_type": "code",
   "execution_count": 16,
   "metadata": {},
   "outputs": [],
   "source": [
    "df = sessions.copy(deep=True)\n",
    "df = df.groupby('Port ID', as_index=False)\n",
    "df = df.agg('median')"
   ]
  },
  {
   "cell_type": "code",
   "execution_count": 19,
   "metadata": {},
   "outputs": [
    {
     "data": {
      "image/png": "[encoded data removed]",
      "text/plain": [
       "<Figure size 432x288 with 1 Axes>"
      ]
     },
     "metadata": {
      "needs_background": "light"
     },
     "output_type": "display_data"
    }
   ],
   "source": [
    "# df\n",
    "plot = plt.hist(df[col], bins=50)"
   ]
  },
  {
   "cell_type": "code",
   "execution_count": 20,
   "metadata": {},
   "outputs": [
    {
     "name": "stdout",
     "output_type": "stream",
     "text": [
      "183101.0    12522\n",
      "224953.0    10575\n",
      "194645.0     9900\n",
      "179993.0     8930\n",
      "222923.0     8267\n",
      "194747.0     8193\n",
      "79119.0      7897\n",
      "198169.0     7832\n",
      "195085.0     7823\n",
      "194143.0     7659\n",
      "Name: Port ID, dtype: int64\n"
     ]
    }
   ],
   "source": [
    "column = \"Port ID\"\n",
    "top_stations_100 = sessions[column].value_counts().head(100)\n",
    "print(top_stations_100.head(10))\n",
    "# print(len(sessions[column].unique()))"
   ]
  },
  {
   "cell_type": "code",
   "execution_count": 21,
   "metadata": {},
   "outputs": [
    {
     "name": "stdout",
     "output_type": "stream",
     "text": [
      "Palo Alto        109677\n",
      "Milpitas          75580\n",
      "San Jose          61614\n",
      "Fremont           55603\n",
      "Cupertino         34520\n",
      "San Mateo         33613\n",
      "Menlo Park        28406\n",
      "Oakland           20877\n",
      "San Francisco     16916\n",
      "Campbell          12522\n",
      "Name: City, dtype: int64\n"
     ]
    }
   ],
   "source": [
    "column = \"Port ID\"\n",
    "sessions_stations_100 = sessions[sessions[column].apply(lambda x: x in top_stations_100)]\n",
    "column = \"City\"\n",
    "print(sessions_stations_100[column].value_counts().head(10))"
   ]
  },
  {
   "cell_type": "code",
   "execution_count": 27,
   "metadata": {},
   "outputs": [
    {
     "name": "stdout",
     "output_type": "stream",
     "text": [
      "2018    4146598\n",
      "2017    3858204\n",
      "2016    2894856\n",
      "2015    1343852\n",
      "Name: year, dtype: int64\n"
     ]
    }
   ],
   "source": [
    "sessions['year'] = sessions[\"Station Start Time (Local)\"].apply(lambda x: int(x[:4]))\n",
    "# print(sessions['year'].head(20))\n",
    "print(sessions['year'].value_counts())"
   ]
  },
  {
   "cell_type": "code",
   "execution_count": 28,
   "metadata": {},
   "outputs": [
    {
     "name": "stdout",
     "output_type": "stream",
     "text": [
      "Santa Clara County      5248541\n",
      "San Mateo County        1218251\n",
      "Alameda County           636957\n",
      "Contra Costa County      289272\n",
      "San Francisco County     255355\n",
      "Marin County             163942\n",
      "Sonoma County            132297\n",
      "Napa County               33399\n",
      "Solano County             26788\n",
      "Name: County, dtype: int64\n"
     ]
    }
   ],
   "source": [
    "sessions_1718 = sessions[sessions['year'].apply(lambda x: x in [2017, 2018])]\n",
    "print(sessions_1718[\"County\"].value_counts().head(10))\n",
    "sessions_sc = sessions_1718[sessions_1718[\"County\"] == \"Santa Clara County\"]\n",
    "sessions_sc = sessions_sc[sessions_sc[\"POI Category\"] == \"Workplace\"]"
   ]
  },
  {
   "cell_type": "code",
   "execution_count": 29,
   "metadata": {},
   "outputs": [],
   "source": [
    "sessions_sc['Station Start Time (Local)'] = sessions_sc['Station Start Time (Local)'].apply(\n",
    "    lambda x: datetime.strptime(x, \"%Y-%m-%d %H:%M:%S.%f\"))\n",
    "sessions_sc = sessions_sc.sort_values(['Station Start Time (Local)']) "
   ]
  },
  {
   "cell_type": "code",
   "execution_count": 38,
   "metadata": {},
   "outputs": [
    {
     "name": "stdout",
     "output_type": "stream",
     "text": [
      "194645.0    8208\n",
      "183101.0    7989\n",
      "194747.0    7355\n",
      "179993.0    6932\n",
      "222923.0    6827\n",
      "195085.0    6744\n",
      "194143.0    6617\n",
      "198169.0    6611\n",
      "212625.0    5124\n",
      "196099.0    5030\n",
      "Name: Port ID, dtype: int64\n",
      "[194645.0, 183101.0, 194747.0, 179993.0, 222923.0, 195085.0, 194143.0, 198169.0, 212625.0, 196099.0]\n"
     ]
    }
   ],
   "source": [
    "# top 10\n",
    "column = \"Port ID\"\n",
    "top_sc_10 = sessions_sc[column].value_counts().head(10)\n",
    "print(top_sc_10)\n",
    "print(list(top_sc_10.index))\n",
    "top_sc_10 = list(top_sc_10.index)"
   ]
  },
  {
   "cell_type": "code",
   "execution_count": 39,
   "metadata": {},
   "outputs": [
    {
     "name": "stdout",
     "output_type": "stream",
     "text": [
      "174681.0    1793\n",
      "199775.0    1787\n",
      "526821.0    1786\n",
      "128451.0    1759\n",
      "193707.0    1750\n",
      "174683.0    1749\n",
      "210131.0    1745\n",
      "816331.0    1734\n",
      "141123.0    1730\n",
      "193709.0    1717\n",
      "Name: Port ID, dtype: int64\n",
      "[194645.0, 183101.0, 194747.0, 179993.0, 222923.0, 195085.0, 194143.0, 198169.0, 212625.0, 196099.0, 212627.0, 213473.0, 213475.0, 100565.0, 63053.0, 111303.0, 792271.0, 110103.0, 157275.0, 445701.0, 194295.0, 111305.0, 100695.0, 110051.0, 225425.0, 218915.0, 204349.0, 105399.0, 100641.0, 205055.0, 204347.0, 302112.0, 100715.0, 445691.0, 105397.0, 105631.0, 100153.0, 100693.0, 141495.0, 105819.0, 141493.0, 467401.0, 100713.0, 105623.0, 105629.0, 262095.0, 105817.0, 204015.0, 204017.0, 302110.0, 85119.0, 467391.0, 262093.0, 100151.0, 204113.0, 479601.0, 85121.0, 157289.0, 105621.0, 779931.0, 454361.0, 427181.0, 906571.0, 454351.0, 142391.0, 858331.0, 212469.0, 427171.0, 108101.0, 115817.0, 526831.0, 112937.0, 57249.0, 429691.0, 112939.0, 419551.0, 200251.0, 142911.0, 123779.0, 212467.0, 264643.0, 200253.0, 114563.0, 148267.0, 779681.0, 429681.0, 165283.0, 115815.0, 779671.0, 193407.0, 174681.0, 199775.0, 526821.0, 128451.0, 193707.0, 174683.0, 210131.0, 816331.0, 141123.0, 193709.0]\n"
     ]
    }
   ],
   "source": [
    "# top 100\n",
    "column = \"Port ID\"\n",
    "top_sc_100 = sessions_sc[column].value_counts().head(100)\n",
    "print(top_sc_100.tail(10))\n",
    "print(list(top_sc_100.index))\n",
    "top_sc_100 = list(top_sc_100.index)"
   ]
  },
  {
   "cell_type": "code",
   "execution_count": 32,
   "metadata": {},
   "outputs": [],
   "source": [
    "column = \"Port ID\"\n",
    "sessions_sc_10 = sessions_sc[sessions_sc[column].apply(lambda x: x in top_sc_10)]\n",
    "sessions_sc_100 = sessions_sc[sessions_sc[column].apply(lambda x: x in top_sc_100)]"
   ]
  },
  {
   "cell_type": "code",
   "execution_count": 40,
   "metadata": {},
   "outputs": [
    {
     "data": {
      "text/html": [
       "<div>\n",
       "<style scoped>\n",
       "    .dataframe tbody tr th:only-of-type {\n",
       "        vertical-align: middle;\n",
       "    }\n",
       "\n",
       "    .dataframe tbody tr th {\n",
       "        vertical-align: top;\n",
       "    }\n",
       "\n",
       "    .dataframe thead th {\n",
       "        text-align: right;\n",
       "    }\n",
       "</style>\n",
       "<table border=\"1\" class=\"dataframe\">\n",
       "  <thead>\n",
       "    <tr style=\"text-align: right;\">\n",
       "      <th></th>\n",
       "      <th>Session ID</th>\n",
       "      <th>Station ID</th>\n",
       "      <th>Port ID</th>\n",
       "      <th>Connector Type</th>\n",
       "      <th>POI Category</th>\n",
       "      <th>POI Subcategory</th>\n",
       "      <th>Station Start Time (Local)</th>\n",
       "      <th>Station End Time (Local)</th>\n",
       "      <th>Session Time Zone</th>\n",
       "      <th>Session Time (secs)</th>\n",
       "      <th>...</th>\n",
       "      <th>State</th>\n",
       "      <th>Country</th>\n",
       "      <th>Driver City</th>\n",
       "      <th>Driver State</th>\n",
       "      <th>Driver Country</th>\n",
       "      <th>Max Power</th>\n",
       "      <th>Session Type</th>\n",
       "      <th>Vehicle Model Year</th>\n",
       "      <th>year</th>\n",
       "      <th>slack_time</th>\n",
       "    </tr>\n",
       "  </thead>\n",
       "  <tbody>\n",
       "    <tr>\n",
       "      <th>2769125</th>\n",
       "      <td>57467005</td>\n",
       "      <td>158829</td>\n",
       "      <td>212625.0</td>\n",
       "      <td>J1772</td>\n",
       "      <td>Workplace</td>\n",
       "      <td>General</td>\n",
       "      <td>2017-01-01 08:21:42</td>\n",
       "      <td>2017-01-01 09:55:54.0</td>\n",
       "      <td>PST</td>\n",
       "      <td>5650</td>\n",
       "      <td>...</td>\n",
       "      <td>California</td>\n",
       "      <td>United States</td>\n",
       "      <td>Menlo Park</td>\n",
       "      <td>California</td>\n",
       "      <td>United States</td>\n",
       "      <td>6.6</td>\n",
       "      <td>OTHER</td>\n",
       "      <td>2012.0</td>\n",
       "      <td>2017</td>\n",
       "      <td>58</td>\n",
       "    </tr>\n",
       "    <tr>\n",
       "      <th>2769018</th>\n",
       "      <td>57469325</td>\n",
       "      <td>158829</td>\n",
       "      <td>212625.0</td>\n",
       "      <td>J1772</td>\n",
       "      <td>Workplace</td>\n",
       "      <td>General</td>\n",
       "      <td>2017-01-01 09:59:32</td>\n",
       "      <td>2017-01-01 11:19:17.0</td>\n",
       "      <td>PST</td>\n",
       "      <td>4789</td>\n",
       "      <td>...</td>\n",
       "      <td>California</td>\n",
       "      <td>United States</td>\n",
       "      <td>Menlo Park</td>\n",
       "      <td>California</td>\n",
       "      <td>United States</td>\n",
       "      <td>6.6</td>\n",
       "      <td>OTHER</td>\n",
       "      <td>2012.0</td>\n",
       "      <td>2017</td>\n",
       "      <td>37</td>\n",
       "    </tr>\n",
       "    <tr>\n",
       "      <th>2768899</th>\n",
       "      <td>57471385</td>\n",
       "      <td>124643</td>\n",
       "      <td>183101.0</td>\n",
       "      <td>CHAdeMO</td>\n",
       "      <td>Workplace</td>\n",
       "      <td>High-Tech</td>\n",
       "      <td>2017-01-01 11:12:02</td>\n",
       "      <td>2017-01-01 11:14:27.0</td>\n",
       "      <td>PST</td>\n",
       "      <td>144</td>\n",
       "      <td>...</td>\n",
       "      <td>California</td>\n",
       "      <td>United States</td>\n",
       "      <td>Sunnyvale</td>\n",
       "      <td>California</td>\n",
       "      <td>United States</td>\n",
       "      <td>50.0</td>\n",
       "      <td>OTHER</td>\n",
       "      <td>2015.0</td>\n",
       "      <td>2017</td>\n",
       "      <td>144</td>\n",
       "    </tr>\n",
       "    <tr>\n",
       "      <th>2768892</th>\n",
       "      <td>57471455</td>\n",
       "      <td>124643</td>\n",
       "      <td>183101.0</td>\n",
       "      <td>CHAdeMO</td>\n",
       "      <td>Workplace</td>\n",
       "      <td>High-Tech</td>\n",
       "      <td>2017-01-01 11:15:01</td>\n",
       "      <td>2017-01-01 11:38:55.0</td>\n",
       "      <td>PST</td>\n",
       "      <td>1433</td>\n",
       "      <td>...</td>\n",
       "      <td>California</td>\n",
       "      <td>United States</td>\n",
       "      <td>Sunnyvale</td>\n",
       "      <td>California</td>\n",
       "      <td>United States</td>\n",
       "      <td>50.0</td>\n",
       "      <td>OTHER</td>\n",
       "      <td>2015.0</td>\n",
       "      <td>2017</td>\n",
       "      <td>13</td>\n",
       "    </tr>\n",
       "    <tr>\n",
       "      <th>2768834</th>\n",
       "      <td>57472251</td>\n",
       "      <td>125537</td>\n",
       "      <td>194143.0</td>\n",
       "      <td>CHAdeMO</td>\n",
       "      <td>Workplace</td>\n",
       "      <td>High-Tech</td>\n",
       "      <td>2017-01-01 11:40:50</td>\n",
       "      <td>2017-01-01 12:08:18.0</td>\n",
       "      <td>PST</td>\n",
       "      <td>1644</td>\n",
       "      <td>...</td>\n",
       "      <td>California</td>\n",
       "      <td>United States</td>\n",
       "      <td>Palo Alto</td>\n",
       "      <td>California</td>\n",
       "      <td>United States</td>\n",
       "      <td>50.0</td>\n",
       "      <td>OTHER</td>\n",
       "      <td>NaN</td>\n",
       "      <td>2017</td>\n",
       "      <td>20</td>\n",
       "    </tr>\n",
       "  </tbody>\n",
       "</table>\n",
       "<p>5 rows × 36 columns</p>\n",
       "</div>"
      ],
      "text/plain": [
       "         Session ID  Station ID   Port ID Connector Type POI Category  \\\n",
       "2769125    57467005      158829  212625.0          J1772    Workplace   \n",
       "2769018    57469325      158829  212625.0          J1772    Workplace   \n",
       "2768899    57471385      124643  183101.0        CHAdeMO    Workplace   \n",
       "2768892    57471455      124643  183101.0        CHAdeMO    Workplace   \n",
       "2768834    57472251      125537  194143.0        CHAdeMO    Workplace   \n",
       "\n",
       "        POI Subcategory Station Start Time (Local) Station End Time (Local)  \\\n",
       "2769125         General        2017-01-01 08:21:42    2017-01-01 09:55:54.0   \n",
       "2769018         General        2017-01-01 09:59:32    2017-01-01 11:19:17.0   \n",
       "2768899       High-Tech        2017-01-01 11:12:02    2017-01-01 11:14:27.0   \n",
       "2768892       High-Tech        2017-01-01 11:15:01    2017-01-01 11:38:55.0   \n",
       "2768834       High-Tech        2017-01-01 11:40:50    2017-01-01 12:08:18.0   \n",
       "\n",
       "        Session Time Zone  Session Time (secs)  ...       State  \\\n",
       "2769125               PST                 5650  ...  California   \n",
       "2769018               PST                 4789  ...  California   \n",
       "2768899               PST                  144  ...  California   \n",
       "2768892               PST                 1433  ...  California   \n",
       "2768834               PST                 1644  ...  California   \n",
       "\n",
       "               Country  Driver City  Driver State  Driver Country  Max Power  \\\n",
       "2769125  United States   Menlo Park    California   United States        6.6   \n",
       "2769018  United States   Menlo Park    California   United States        6.6   \n",
       "2768899  United States    Sunnyvale    California   United States       50.0   \n",
       "2768892  United States    Sunnyvale    California   United States       50.0   \n",
       "2768834  United States    Palo Alto    California   United States       50.0   \n",
       "\n",
       "        Session Type Vehicle Model Year  year  slack_time  \n",
       "2769125        OTHER             2012.0  2017          58  \n",
       "2769018        OTHER             2012.0  2017          37  \n",
       "2768899        OTHER             2015.0  2017         144  \n",
       "2768892        OTHER             2015.0  2017          13  \n",
       "2768834        OTHER                NaN  2017          20  \n",
       "\n",
       "[5 rows x 36 columns]"
      ]
     },
     "execution_count": 40,
     "metadata": {},
     "output_type": "execute_result"
    }
   ],
   "source": [
    "sessions_sc_10.head(5)"
   ]
  },
  {
   "cell_type": "code",
   "execution_count": 34,
   "metadata": {},
   "outputs": [
    {
     "name": "stdout",
     "output_type": "stream",
     "text": [
      "12243510\n",
      "285654\n",
      "67437\n",
      "Milpitas         85336\n",
      "San Jose         74663\n",
      "Cupertino        34239\n",
      "Sunnyvale        30809\n",
      "Palo Alto        26986\n",
      "Campbell         14561\n",
      "Santa Clara       9491\n",
      "Mountain View     7711\n",
      "Los Gatos         1858\n",
      "Name: City, dtype: int64\n",
      "San Jose     32755\n",
      "Milpitas     21569\n",
      "Campbell      7989\n",
      "Palo Alto     5124\n",
      "Name: City, dtype: int64\n"
     ]
    }
   ],
   "source": [
    "print(len(sessions))\n",
    "print(len(sessions_sc_100))\n",
    "print(len(sessions_sc_10))\n",
    "column = \"City\"\n",
    "print(sessions_sc_100[column].value_counts())\n",
    "print(sessions_sc_10[column].value_counts())"
   ]
  },
  {
   "cell_type": "code",
   "execution_count": 41,
   "metadata": {},
   "outputs": [
    {
     "name": "stderr",
     "output_type": "stream",
     "text": [
      "/home/ec2-user/anaconda3/envs/eda/lib/python3.7/site-packages/ipykernel_launcher.py:2: SettingWithCopyWarning: \n",
      "A value is trying to be set on a copy of a slice from a DataFrame.\n",
      "Try using .loc[row_indexer,col_indexer] = value instead\n",
      "\n",
      "See the caveats in the documentation: http://pandas.pydata.org/pandas-docs/stable/indexing.html#indexing-view-versus-copy\n",
      "  \n"
     ]
    }
   ],
   "source": [
    "col = 'slack_time'\n",
    "sessions_sc_100[col] = sessions_sc_100['Session Time (secs)'] - sessions_sc_100['Charging Time (secs)']"
   ]
  },
  {
   "cell_type": "code",
   "execution_count": 47,
   "metadata": {},
   "outputs": [
    {
     "data": {
      "image/png": "[encoded data removed]",
      "text/plain": [
       "<Figure size 432x288 with 1 Axes>"
      ]
     },
     "metadata": {
      "needs_background": "light"
     },
     "output_type": "display_data"
    }
   ],
   "source": [
    "df = sessions_sc_100.copy(deep=True)\n",
    "df = df.groupby('Port ID', as_index=False)\n",
    "df = df.agg('median')\n",
    "plot = plt.hist(df[col], bins=10)"
   ]
  },
  {
   "cell_type": "code",
   "execution_count": 50,
   "metadata": {},
   "outputs": [
    {
     "data": {
      "image/png": "[encoded data removed]",
      "text/plain": [
       "<Figure size 432x288 with 1 Axes>"
      ]
     },
     "metadata": {
      "needs_background": "light"
     },
     "output_type": "display_data"
    }
   ],
   "source": [
    "df = sessions_sc_100.copy(deep=True)\n",
    "df = df[df[col] < np.percentile(df[col], 99)]\n",
    "df = df[df[col] > 0]\n",
    "plot = plt.hist(df[col], bins=50)"
   ]
  },
  {
   "cell_type": "code",
   "execution_count": null,
   "metadata": {},
   "outputs": [],
   "source": []
  },
  {
   "cell_type": "code",
   "execution_count": null,
   "metadata": {},
   "outputs": [],
   "source": [
    "keep_cols = [\"Station ID\", \"Energy (kWh)\", \"Station Start Time (Local)\", \"Session Time (secs)\"]\n",
    "keep_cols = keep_cols + [\"Driver ID\", \"Battery Capacity\", \"City\", \"County\"]"
   ]
  },
  {
   "cell_type": "code",
   "execution_count": null,
   "metadata": {},
   "outputs": [],
   "source": [
    "sessions_sc_10[keep_cols].to_csv(path + \"sessions_1718_sc_top10.csv\", index=False)\n",
    "sessions_sc_100[keep_cols].to_csv(path + \"sessions_1718_sc_top100.csv\", index=False)"
   ]
  },
  {
   "cell_type": "code",
   "execution_count": null,
   "metadata": {},
   "outputs": [],
   "source": []
  },
  {
   "cell_type": "code",
   "execution_count": null,
   "metadata": {},
   "outputs": [],
   "source": []
  }
 ],
 "metadata": {
  "kernelspec": {
   "display_name": "Python 3",
   "language": "python",
   "name": "python3"
  },
  "language_info": {
   "codemirror_mode": {
    "name": "ipython",
    "version": 3
   },
   "file_extension": ".py",
   "mimetype": "text/x-python",
   "name": "python",
   "nbconvert_exporter": "python",
   "pygments_lexer": "ipython3",
   "version": "3.7.2"
  }
 },
 "nbformat": 4,
 "nbformat_minor": 2
}
