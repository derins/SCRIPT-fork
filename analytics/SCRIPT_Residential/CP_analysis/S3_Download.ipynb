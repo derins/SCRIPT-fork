{
 "cells": [
  {
   "cell_type": "code",
   "execution_count": 3,
   "metadata": {},
   "outputs": [],
   "source": [
    "import sys\n",
    "import pandas as pd\n",
    "from datetime import datetime\n",
    "import numpy as np\n",
    "from sqlalchemy import create_engine\n",
    "import mysql.connector\n",
    "import boto3\n",
    "import botocore"
   ]
  },
  {
   "cell_type": "code",
   "execution_count": 4,
   "metadata": {},
   "outputs": [],
   "source": [
    "BUCKET_NAME = 'script.chargepoint' # replace with your bucket name\n",
    "\n",
    "# KEY = 'Charging_Session_Interval_SLAC_NAPA.csv' # replace with your object key\n",
    "KEY = 'Charging_Session_SLAC.csv'\n",
    "\n",
    "# OUT_NAME = 'napa.csv'\n",
    "OUT_NAME = 'sessions.csv'"
   ]
  },
  {
   "cell_type": "code",
   "execution_count": 8,
   "metadata": {},
   "outputs": [],
   "source": [
    "def download_file(KEY, OUT_NAME):\n",
    "    s3 = boto3.resource('s3')\n",
    "\n",
    "    try:\n",
    "        s3.Bucket(BUCKET_NAME).download_file(KEY, OUT_NAME)\n",
    "    except botocore.exceptions.ClientError as e:\n",
    "        if e.response['Error']['Code'] == \"404\":\n",
    "            print(\"The object does not exist.\")\n",
    "        else:\n",
    "            raise"
   ]
  },
  {
   "cell_type": "code",
   "execution_count": 13,
   "metadata": {},
   "outputs": [
    {
     "data": {
      "text/plain": [
       "['Charging_Session_Interval_SLAC_ALAMEDA.csv',\n",
       " 'Charging_Session_Interval_SLAC_CONTRACOSTA.csv',\n",
       " 'Charging_Session_Interval_SLAC_MARIN.csv',\n",
       " 'Charging_Session_Interval_SLAC_NAPA.csv',\n",
       " 'Charging_Session_Interval_SLAC_SANFRANCISCO.csv',\n",
       " 'Charging_Session_Interval_SLAC_SANMATEO.csv',\n",
       " 'Charging_Session_Interval_SLAC_SANTACLARA.csv',\n",
       " 'Charging_Session_Interval_SLAC_SOLANO.csv',\n",
       " 'Charging_Session_Interval_SLAC_SONOMA.csv',\n",
       " 'Charging_Session_SLAC.csv',\n",
       " 'Session/']"
      ]
     },
     "execution_count": 13,
     "metadata": {},
     "output_type": "execute_result"
    }
   ],
   "source": [
    "# s3_resource = boto3.resource('s3')\n",
    "s3_client = boto3.client('s3')\n",
    "# s3_client.list_objects_v2(Bucket='script.chargepoint')\n",
    "\n",
    "\"\"\"Get a list of keys in an S3 bucket.\"\"\"\n",
    "keys = []\n",
    "resp = s3_client.list_objects_v2(Bucket='script.chargepoint')\n",
    "for obj in resp['Contents']:\n",
    "    keys.append(obj['Key'])\n",
    "keys\n"
   ]
  },
  {
   "cell_type": "code",
   "execution_count": 10,
   "metadata": {},
   "outputs": [
    {
     "name": "stdout",
     "output_type": "stream",
     "text": [
      "Charging_Session_SLAC.csv\n",
      "Session/\n"
     ]
    }
   ],
   "source": [
    "for i in keys:\n",
    "    if \"Interval\" not in i:\n",
    "        print(i)"
   ]
  },
  {
   "cell_type": "code",
   "execution_count": 16,
   "metadata": {},
   "outputs": [
    {
     "name": "stdout",
     "output_type": "stream",
     "text": [
      "Session/\n"
     ]
    }
   ],
   "source": [
    "s3 = boto3.resource('s3')\n",
    "for object_summary in s3.Bucket(BUCKET_NAME).objects.filter(Prefix=\"Session/\"):\n",
    "    print(object_summary.key)"
   ]
  },
  {
   "cell_type": "code",
   "execution_count": 11,
   "metadata": {},
   "outputs": [
    {
     "name": "stdout",
     "output_type": "stream",
     "text": [
      "['Charging_Session_Interval_SLAC_ALAMEDA.csv', 'Charging_Session_Interval_SLAC_CONTRACOSTA.csv', 'Charging_Session_Interval_SLAC_MARIN.csv', 'Charging_Session_Interval_SLAC_NAPA.csv', 'Charging_Session_Interval_SLAC_SANFRANCISCO.csv', 'Charging_Session_Interval_SLAC_SANMATEO.csv', 'Charging_Session_Interval_SLAC_SANTACLARA.csv', 'Charging_Session_Interval_SLAC_SOLANO.csv', 'Charging_Session_Interval_SLAC_SONOMA.csv']\n"
     ]
    }
   ],
   "source": [
    "interval_keys = [key for key in keys if \"Interval\" in key]\n",
    "print(interval_keys)"
   ]
  },
  {
   "cell_type": "code",
   "execution_count": null,
   "metadata": {},
   "outputs": [],
   "source": []
  }
 ],
 "metadata": {
  "kernelspec": {
   "display_name": "Python 3",
   "language": "python",
   "name": "python3"
  },
  "language_info": {
   "codemirror_mode": {
    "name": "ipython",
    "version": 3
   },
   "file_extension": ".py",
   "mimetype": "text/x-python",
   "name": "python",
   "nbconvert_exporter": "python",
   "pygments_lexer": "ipython3",
   "version": "3.7.2"
  }
 },
 "nbformat": 4,
 "nbformat_minor": 1
}
